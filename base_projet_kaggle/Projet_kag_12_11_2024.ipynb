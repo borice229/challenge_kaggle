{
 "cells": [
  {
   "cell_type": "markdown",
   "id": "e3b9f6c8-4131-4b7b-acdc-476403627ecc",
   "metadata": {
    "id": "e3b9f6c8-4131-4b7b-acdc-476403627ecc"
   },
   "source": [
    "<h1 style=\"text-align: center;\">Electricity price forecasting by Elmy Centré</h1>"
   ]
  },
  {
   "cell_type": "markdown",
   "id": "368fa9be-e02a-4f18-914e-062afe59dd8d",
   "metadata": {
    "id": "368fa9be-e02a-4f18-914e-062afe59dd8d"
   },
   "source": [
    "**Data description**\n",
    "\n",
    "**Index**\n",
    "\n",
    "**DELIVERY_START** : date et heure de livraison de l'électricité\n",
    "\n",
    "**Variables explicatives**\n",
    "\n",
    "**load_forecast** : prévision de consommation totale d'éléctricité en France\n",
    "\n",
    "**coal_power_available**, **gas_power_available**, **nucelear_power_available** : capacité de production totale d'électricité des centrales à charbon, gaz et nucléaire respectivement,\n",
    "\n",
    "**wind_power_forecasts_average**, **solar_power_forecasts_average** : moyenne de différentes prévisions de production totale d'électricité éolienne et solaire (respectivement),\n",
    "\n",
    "**wind_power_forecasts_std**, **solar_power_forecasts_std** : écart-type de ces mêmes prévisions,\n",
    "\n",
    "**predicted_spot_price** : prévision du prix SPOT de l'électricité issues d'un modèle interne de Elmy. Ce modèle est lancé chaque jour avant la fermeture des enchères SPOT pour le lendemain.\n",
    "\n",
    "\n",
    "**Variable cible**\n",
    "\n",
    "**spot_id_delta** : l'écart entre le VWAP des transactions sur le marché infra-journalier (Intraday) et le prix SPOT pour 1MWh d'électricité **(spot_id_delta = Intraday - SPOT)** : si la valeur est positive, le prix Intraday est supérieur au prix SPOT et inversement."
   ]
  },
  {
   "cell_type": "code",
   "execution_count": null,
   "id": "dc1f8aea-5705-435d-960d-d4d64e6b1fd1",
   "metadata": {
    "id": "dc1f8aea-5705-435d-960d-d4d64e6b1fd1"
   },
   "outputs": [],
   "source": [
    "#Instalattion des packages\n",
    "#!pip install pandas\n",
    "#!pip install numpy\n",
    "#!pip install seaborn\n",
    "#!pip install missingno\n",
    "#!pip install matplotlib\n",
    "#!pip install scikit-learn\n",
    "#!pip install statsmodels\n",
    "#!pip install xgboost"
   ]
  },
  {
   "cell_type": "code",
   "execution_count": null,
   "id": "66de9dec-df30-420d-a368-4f6fc68fe652",
   "metadata": {
    "id": "66de9dec-df30-420d-a368-4f6fc68fe652"
   },
   "outputs": [],
   "source": [
    "#pip install xgboost"
   ]
  },
  {
   "cell_type": "code",
   "execution_count": 1,
   "id": "283d1d97-a1e4-4af2-b8a9-65c1f39de6d9",
   "metadata": {
    "id": "283d1d97-a1e4-4af2-b8a9-65c1f39de6d9"
   },
   "outputs": [],
   "source": [
    "#Importation des libraries\n",
    "import pandas as pd\n",
    "import numpy as np\n",
    "import seaborn as sns\n",
    "import missingno as msno\n",
    "import matplotlib.pyplot as plt\n",
    "from sklearn.experimental import enable_iterative_imputer\n",
    "from sklearn.impute import IterativeImputer"
   ]
  },
  {
   "cell_type": "code",
   "execution_count": 2,
   "id": "d58c663a-e602-4bd5-8780-f486cff9c78f",
   "metadata": {
    "id": "d58c663a-e602-4bd5-8780-f486cff9c78f"
   },
   "outputs": [],
   "source": [
    "import statsmodels.api as sm\n",
    "\n",
    "from sklearn.preprocessing import StandardScaler\n",
    "from sklearn.model_selection import train_test_split, KFold, cross_val_score, GridSearchCV\n",
    "from sklearn.ensemble import RandomForestRegressor,GradientBoostingRegressor\n",
    "from sklearn.metrics import mean_squared_error, r2_score"
   ]
  },
  {
   "cell_type": "markdown",
   "id": "6d0927bd-4f02-4e19-88d0-a3dbbda6bb84",
   "metadata": {
    "id": "6d0927bd-4f02-4e19-88d0-a3dbbda6bb84"
   },
   "source": [
    "__Importation des bases de données__"
   ]
  },
  {
   "cell_type": "code",
   "execution_count": 3,
   "id": "907187f2-b8fc-456c-b251-e2f0c9e266f7",
   "metadata": {
    "id": "907187f2-b8fc-456c-b251-e2f0c9e266f7"
   },
   "outputs": [],
   "source": [
    "# Charger le fichier CSV dans un DataFrame\n",
    "Xty = pd.read_csv(\"X_train.csv\", sep=\",\")\n",
    "Y_dt = pd.read_csv(\"y_train.csv\",sep=\",\")\n",
    "X_test = pd.read_csv(\"X_test.csv\",sep=\",\")"
   ]
  },
  {
   "cell_type": "code",
   "execution_count": 4,
   "id": "ab2c0d56-0ec6-415a-ba55-84b417c2482d",
   "metadata": {},
   "outputs": [],
   "source": [
    "# Convertir en datetime avec utc=True pour unifier les fuseaux horaires\n",
    "Xty['DELIVERY_START'] = pd.to_datetime(Xty['DELIVERY_START'], errors='coerce', utc=True)\n",
    "Xty['DELIVERY_START'] = Xty['DELIVERY_START'].dt.tz_localize(None)"
   ]
  },
  {
   "cell_type": "code",
   "execution_count": 5,
   "id": "30200275-7b63-4334-b589-f8acdc25ce74",
   "metadata": {},
   "outputs": [],
   "source": [
    "# Convertir en datetime avec utc=True pour unifier les fuseaux horaires\n",
    "Y_dt['DELIVERY_START'] = pd.to_datetime(Y_dt['DELIVERY_START'], errors='coerce', utc=True)\n",
    "\n",
    "# Convertir en heure locale, puis supprimer le fuseau horaire pour garder l'heure inchangée\n",
    "Y_dt['DELIVERY_START'] = Y_dt['DELIVERY_START'].dt.tz_convert('Europe/Paris').dt.tz_localize(None)"
   ]
  },
  {
   "cell_type": "code",
   "execution_count": 6,
   "id": "7171f634-0878-4732-81f7-52360909ffe5",
   "metadata": {},
   "outputs": [],
   "source": [
    "data_merge = pd.merge(Y_dt, Xty, on=\"DELIVERY_START\")"
   ]
  },
  {
   "cell_type": "code",
   "execution_count": 7,
   "id": "840b7008-299c-4069-8d98-ac556df36223",
   "metadata": {
    "colab": {
     "base_uri": "https://localhost:8080/"
    },
    "id": "840b7008-299c-4069-8d98-ac556df36223",
    "outputId": "8ef86e60-e9d0-4217-9bfe-4c83436a0fb0"
   },
   "outputs": [
    {
     "data": {
      "text/html": [
       "<div>\n",
       "<style scoped>\n",
       "    .dataframe tbody tr th:only-of-type {\n",
       "        vertical-align: middle;\n",
       "    }\n",
       "\n",
       "    .dataframe tbody tr th {\n",
       "        vertical-align: top;\n",
       "    }\n",
       "\n",
       "    .dataframe thead th {\n",
       "        text-align: right;\n",
       "    }\n",
       "</style>\n",
       "<table border=\"1\" class=\"dataframe\">\n",
       "  <thead>\n",
       "    <tr style=\"text-align: right;\">\n",
       "      <th></th>\n",
       "      <th>DELIVERY_START</th>\n",
       "      <th>spot_id_delta</th>\n",
       "      <th>load_forecast</th>\n",
       "      <th>coal_power_available</th>\n",
       "      <th>gas_power_available</th>\n",
       "      <th>nucelear_power_available</th>\n",
       "      <th>wind_power_forecasts_average</th>\n",
       "      <th>solar_power_forecasts_average</th>\n",
       "      <th>wind_power_forecasts_std</th>\n",
       "      <th>solar_power_forecasts_std</th>\n",
       "      <th>predicted_spot_price</th>\n",
       "    </tr>\n",
       "  </thead>\n",
       "  <tbody>\n",
       "    <tr>\n",
       "      <th>count</th>\n",
       "      <td>10589</td>\n",
       "      <td>10589.000000</td>\n",
       "      <td>9302.000000</td>\n",
       "      <td>10588.000000</td>\n",
       "      <td>10588.000000</td>\n",
       "      <td>10588.000000</td>\n",
       "      <td>10565.000000</td>\n",
       "      <td>10565.000000</td>\n",
       "      <td>10565.000000</td>\n",
       "      <td>10565.000000</td>\n",
       "      <td>1845.000000</td>\n",
       "    </tr>\n",
       "    <tr>\n",
       "      <th>mean</th>\n",
       "      <td>2022-08-16 17:55:10.000944384</td>\n",
       "      <td>0.945089</td>\n",
       "      <td>53735.558160</td>\n",
       "      <td>2819.911976</td>\n",
       "      <td>11463.974027</td>\n",
       "      <td>35397.534001</td>\n",
       "      <td>4512.735731</td>\n",
       "      <td>1921.269285</td>\n",
       "      <td>125.478439</td>\n",
       "      <td>24.997862</td>\n",
       "      <td>140.259035</td>\n",
       "    </tr>\n",
       "    <tr>\n",
       "      <th>min</th>\n",
       "      <td>2022-01-01 02:00:00</td>\n",
       "      <td>-1567.353547</td>\n",
       "      <td>30515.000000</td>\n",
       "      <td>1646.000000</td>\n",
       "      <td>9769.000000</td>\n",
       "      <td>22285.000000</td>\n",
       "      <td>592.000000</td>\n",
       "      <td>0.000000</td>\n",
       "      <td>1.830211</td>\n",
       "      <td>0.000000</td>\n",
       "      <td>42.420000</td>\n",
       "    </tr>\n",
       "    <tr>\n",
       "      <th>25%</th>\n",
       "      <td>2022-04-25 13:00:00</td>\n",
       "      <td>-11.934152</td>\n",
       "      <td>45364.500000</td>\n",
       "      <td>2226.000000</td>\n",
       "      <td>11140.000000</td>\n",
       "      <td>29005.000000</td>\n",
       "      <td>2032.000000</td>\n",
       "      <td>0.000000</td>\n",
       "      <td>46.866693</td>\n",
       "      <td>0.000000</td>\n",
       "      <td>119.380000</td>\n",
       "    </tr>\n",
       "    <tr>\n",
       "      <th>50%</th>\n",
       "      <td>2022-08-17 02:00:00</td>\n",
       "      <td>0.058329</td>\n",
       "      <td>51851.500000</td>\n",
       "      <td>2806.000000</td>\n",
       "      <td>11487.000000</td>\n",
       "      <td>32470.000000</td>\n",
       "      <td>3317.000000</td>\n",
       "      <td>151.000000</td>\n",
       "      <td>86.821816</td>\n",
       "      <td>3.535072</td>\n",
       "      <td>140.100000</td>\n",
       "    </tr>\n",
       "    <tr>\n",
       "      <th>75%</th>\n",
       "      <td>2022-12-08 12:00:00</td>\n",
       "      <td>12.190489</td>\n",
       "      <td>62092.750000</td>\n",
       "      <td>3386.000000</td>\n",
       "      <td>11945.000000</td>\n",
       "      <td>43055.000000</td>\n",
       "      <td>5951.000000</td>\n",
       "      <td>3514.000000</td>\n",
       "      <td>155.503567</td>\n",
       "      <td>35.145006</td>\n",
       "      <td>160.790000</td>\n",
       "    </tr>\n",
       "    <tr>\n",
       "      <th>max</th>\n",
       "      <td>2023-03-29 21:00:00</td>\n",
       "      <td>658.961329</td>\n",
       "      <td>85145.000000</td>\n",
       "      <td>3391.000000</td>\n",
       "      <td>11963.000000</td>\n",
       "      <td>50122.000000</td>\n",
       "      <td>15167.000000</td>\n",
       "      <td>10127.000000</td>\n",
       "      <td>1871.571992</td>\n",
       "      <td>745.261316</td>\n",
       "      <td>254.190000</td>\n",
       "    </tr>\n",
       "    <tr>\n",
       "      <th>std</th>\n",
       "      <td>NaN</td>\n",
       "      <td>38.115899</td>\n",
       "      <td>11272.567021</td>\n",
       "      <td>495.153460</td>\n",
       "      <td>482.903325</td>\n",
       "      <td>7621.652125</td>\n",
       "      <td>3350.680135</td>\n",
       "      <td>2708.191261</td>\n",
       "      <td>132.215664</td>\n",
       "      <td>43.071053</td>\n",
       "      <td>33.931619</td>\n",
       "    </tr>\n",
       "  </tbody>\n",
       "</table>\n",
       "</div>"
      ],
      "text/plain": [
       "                      DELIVERY_START  spot_id_delta  load_forecast  \\\n",
       "count                          10589   10589.000000    9302.000000   \n",
       "mean   2022-08-16 17:55:10.000944384       0.945089   53735.558160   \n",
       "min              2022-01-01 02:00:00   -1567.353547   30515.000000   \n",
       "25%              2022-04-25 13:00:00     -11.934152   45364.500000   \n",
       "50%              2022-08-17 02:00:00       0.058329   51851.500000   \n",
       "75%              2022-12-08 12:00:00      12.190489   62092.750000   \n",
       "max              2023-03-29 21:00:00     658.961329   85145.000000   \n",
       "std                              NaN      38.115899   11272.567021   \n",
       "\n",
       "       coal_power_available  gas_power_available  nucelear_power_available  \\\n",
       "count          10588.000000         10588.000000              10588.000000   \n",
       "mean            2819.911976         11463.974027              35397.534001   \n",
       "min             1646.000000          9769.000000              22285.000000   \n",
       "25%             2226.000000         11140.000000              29005.000000   \n",
       "50%             2806.000000         11487.000000              32470.000000   \n",
       "75%             3386.000000         11945.000000              43055.000000   \n",
       "max             3391.000000         11963.000000              50122.000000   \n",
       "std              495.153460           482.903325               7621.652125   \n",
       "\n",
       "       wind_power_forecasts_average  solar_power_forecasts_average  \\\n",
       "count                  10565.000000                   10565.000000   \n",
       "mean                    4512.735731                    1921.269285   \n",
       "min                      592.000000                       0.000000   \n",
       "25%                     2032.000000                       0.000000   \n",
       "50%                     3317.000000                     151.000000   \n",
       "75%                     5951.000000                    3514.000000   \n",
       "max                    15167.000000                   10127.000000   \n",
       "std                     3350.680135                    2708.191261   \n",
       "\n",
       "       wind_power_forecasts_std  solar_power_forecasts_std  \\\n",
       "count              10565.000000               10565.000000   \n",
       "mean                 125.478439                  24.997862   \n",
       "min                    1.830211                   0.000000   \n",
       "25%                   46.866693                   0.000000   \n",
       "50%                   86.821816                   3.535072   \n",
       "75%                  155.503567                  35.145006   \n",
       "max                 1871.571992                 745.261316   \n",
       "std                  132.215664                  43.071053   \n",
       "\n",
       "       predicted_spot_price  \n",
       "count           1845.000000  \n",
       "mean             140.259035  \n",
       "min               42.420000  \n",
       "25%              119.380000  \n",
       "50%              140.100000  \n",
       "75%              160.790000  \n",
       "max              254.190000  \n",
       "std               33.931619  "
      ]
     },
     "execution_count": 7,
     "metadata": {},
     "output_type": "execute_result"
    }
   ],
   "source": [
    "data_merge.describe()"
   ]
  },
  {
   "cell_type": "markdown",
   "id": "66322792-23d5-4c75-b6d2-a9be57016582",
   "metadata": {},
   "source": [
    "__Suppression des valeurs aberrantes__\n",
    "valeur_grande = 477.681225\n",
    "valeur_faible = -1447.771012\n",
    "marge = 0.0001  # tolérance de marge pour les comparaisons\n",
    "\n",
    "__Supprimer les lignes où spot_id_delta est très proche de ces valeurs__\n",
    "data_merge = data_merge[~((data_merge['spot_id_delta'].between(valeur_grande - marge, valeur_grande + marge)) |\n",
    "                          (data_merge['spot_id_delta'].between(valeur_faible - marge, valeur_faible + marge)))]\n"
   ]
  },
  {
   "cell_type": "markdown",
   "id": "1bbce40a-d4ee-459c-91ab-1f7be05d8c6d",
   "metadata": {
    "id": "1bbce40a-d4ee-459c-91ab-1f7be05d8c6d"
   },
   "source": [
    "__Verification des valeurs manquantes et leur gestion__"
   ]
  },
  {
   "cell_type": "code",
   "execution_count": 9,
   "id": "a6d644ab-ac91-40f7-8002-73bea43ceb4a",
   "metadata": {
    "colab": {
     "base_uri": "https://localhost:8080/",
     "height": 429
    },
    "id": "a6d644ab-ac91-40f7-8002-73bea43ceb4a",
    "outputId": "65ef3a3f-eac7-45dc-ee06-bbba98c91ed2"
   },
   "outputs": [
    {
     "data": {
      "text/plain": [
       "DELIVERY_START                    0.00\n",
       "spot_id_delta                     0.00\n",
       "load_forecast                    12.15\n",
       "coal_power_available              0.01\n",
       "gas_power_available               0.01\n",
       "nucelear_power_available          0.01\n",
       "wind_power_forecasts_average      0.23\n",
       "solar_power_forecasts_average     0.23\n",
       "wind_power_forecasts_std          0.23\n",
       "solar_power_forecasts_std         0.23\n",
       "predicted_spot_price             82.58\n",
       "dtype: float64"
      ]
     },
     "execution_count": 9,
     "metadata": {},
     "output_type": "execute_result"
    }
   ],
   "source": [
    "round((data_merge.isna().sum()/len(data_merge))*100,2)"
   ]
  },
  {
   "cell_type": "code",
   "execution_count": 9,
   "id": "747aaa03-6503-4788-a88d-f071660516e6",
   "metadata": {},
   "outputs": [],
   "source": [
    "# Liste des colonnes à vérifier pour les valeurs manquantes\n",
    "colonnes_a_verifier = [\n",
    "    'coal_power_available',\n",
    "    'gas_power_available',\n",
    "    'nucelear_power_available',\n",
    "    'wind_power_forecasts_average',\n",
    "    'solar_power_forecasts_average',\n",
    "    'wind_power_forecasts_std',\n",
    "    'solar_power_forecasts_std'\n",
    "]\n",
    "\n",
    "# Supprimer les lignes avec des valeurs manquantes dans les colonnes spécifiées\n",
    "data_merge_clean = data_merge.dropna(subset=colonnes_a_verifier)"
   ]
  },
  {
   "cell_type": "code",
   "execution_count": 10,
   "id": "3fc8f48e-cac7-4a2a-81e2-d9d6d9410862",
   "metadata": {},
   "outputs": [],
   "source": [
    "# Supprimer les lignes avec des valeurs manquantes dans les colonnes spécifiées\n",
    "data_merge_clean = data_merge.dropna()"
   ]
  },
  {
   "cell_type": "code",
   "execution_count": 11,
   "id": "161f4a93-8fe5-4ef9-a117-9b82f60c5dd1",
   "metadata": {},
   "outputs": [
    {
     "data": {
      "text/plain": [
       "DELIVERY_START                   0.0\n",
       "spot_id_delta                    0.0\n",
       "load_forecast                    0.0\n",
       "coal_power_available             0.0\n",
       "gas_power_available              0.0\n",
       "nucelear_power_available         0.0\n",
       "wind_power_forecasts_average     0.0\n",
       "solar_power_forecasts_average    0.0\n",
       "wind_power_forecasts_std         0.0\n",
       "solar_power_forecasts_std        0.0\n",
       "predicted_spot_price             0.0\n",
       "dtype: float64"
      ]
     },
     "execution_count": 11,
     "metadata": {},
     "output_type": "execute_result"
    }
   ],
   "source": [
    "round((data_merge_clean.isna().sum()/len(data_merge_clean))*100,2)"
   ]
  },
  {
   "cell_type": "code",
   "execution_count": 12,
   "id": "c01a9388-dab2-42f1-a51a-007365f744d7",
   "metadata": {},
   "outputs": [
    {
     "data": {
      "text/html": [
       "<div>\n",
       "<style scoped>\n",
       "    .dataframe tbody tr th:only-of-type {\n",
       "        vertical-align: middle;\n",
       "    }\n",
       "\n",
       "    .dataframe tbody tr th {\n",
       "        vertical-align: top;\n",
       "    }\n",
       "\n",
       "    .dataframe thead th {\n",
       "        text-align: right;\n",
       "    }\n",
       "</style>\n",
       "<table border=\"1\" class=\"dataframe\">\n",
       "  <thead>\n",
       "    <tr style=\"text-align: right;\">\n",
       "      <th></th>\n",
       "      <th>DELIVERY_START</th>\n",
       "      <th>spot_id_delta</th>\n",
       "      <th>load_forecast</th>\n",
       "      <th>coal_power_available</th>\n",
       "      <th>gas_power_available</th>\n",
       "      <th>nucelear_power_available</th>\n",
       "      <th>wind_power_forecasts_average</th>\n",
       "      <th>solar_power_forecasts_average</th>\n",
       "      <th>wind_power_forecasts_std</th>\n",
       "      <th>solar_power_forecasts_std</th>\n",
       "      <th>predicted_spot_price</th>\n",
       "    </tr>\n",
       "  </thead>\n",
       "  <tbody>\n",
       "    <tr>\n",
       "      <th>count</th>\n",
       "      <td>1821</td>\n",
       "      <td>1821.000000</td>\n",
       "      <td>1821.000000</td>\n",
       "      <td>1821.000000</td>\n",
       "      <td>1821.000000</td>\n",
       "      <td>1821.000000</td>\n",
       "      <td>1821.000000</td>\n",
       "      <td>1821.000000</td>\n",
       "      <td>1821.000000</td>\n",
       "      <td>1821.000000</td>\n",
       "      <td>1821.000000</td>\n",
       "    </tr>\n",
       "    <tr>\n",
       "      <th>mean</th>\n",
       "      <td>2023-02-11 07:16:38.352553472</td>\n",
       "      <td>3.813106</td>\n",
       "      <td>60210.536518</td>\n",
       "      <td>3224.687534</td>\n",
       "      <td>11919.963756</td>\n",
       "      <td>42873.688083</td>\n",
       "      <td>6124.354201</td>\n",
       "      <td>1543.193300</td>\n",
       "      <td>139.205997</td>\n",
       "      <td>23.000714</td>\n",
       "      <td>140.377633</td>\n",
       "    </tr>\n",
       "    <tr>\n",
       "      <th>min</th>\n",
       "      <td>2023-01-03 00:00:00</td>\n",
       "      <td>-64.137247</td>\n",
       "      <td>38288.000000</td>\n",
       "      <td>1646.000000</td>\n",
       "      <td>11360.000000</td>\n",
       "      <td>36990.000000</td>\n",
       "      <td>772.000000</td>\n",
       "      <td>0.000000</td>\n",
       "      <td>4.172741</td>\n",
       "      <td>0.000000</td>\n",
       "      <td>42.420000</td>\n",
       "    </tr>\n",
       "    <tr>\n",
       "      <th>25%</th>\n",
       "      <td>2023-01-21 23:00:00</td>\n",
       "      <td>-5.094068</td>\n",
       "      <td>53506.000000</td>\n",
       "      <td>3256.000000</td>\n",
       "      <td>11945.000000</td>\n",
       "      <td>39615.000000</td>\n",
       "      <td>3122.000000</td>\n",
       "      <td>0.000000</td>\n",
       "      <td>55.569217</td>\n",
       "      <td>0.000000</td>\n",
       "      <td>119.540000</td>\n",
       "    </tr>\n",
       "    <tr>\n",
       "      <th>50%</th>\n",
       "      <td>2023-02-09 22:00:00</td>\n",
       "      <td>2.690193</td>\n",
       "      <td>60018.000000</td>\n",
       "      <td>3386.000000</td>\n",
       "      <td>11945.000000</td>\n",
       "      <td>43918.000000</td>\n",
       "      <td>5291.000000</td>\n",
       "      <td>0.000000</td>\n",
       "      <td>100.451855</td>\n",
       "      <td>0.000000</td>\n",
       "      <td>140.160000</td>\n",
       "    </tr>\n",
       "    <tr>\n",
       "      <th>75%</th>\n",
       "      <td>2023-03-02 22:00:00</td>\n",
       "      <td>10.968661</td>\n",
       "      <td>66643.000000</td>\n",
       "      <td>3386.000000</td>\n",
       "      <td>11945.000000</td>\n",
       "      <td>45670.000000</td>\n",
       "      <td>8188.000000</td>\n",
       "      <td>2826.000000</td>\n",
       "      <td>179.845186</td>\n",
       "      <td>29.784131</td>\n",
       "      <td>161.050000</td>\n",
       "    </tr>\n",
       "    <tr>\n",
       "      <th>max</th>\n",
       "      <td>2023-03-29 21:00:00</td>\n",
       "      <td>177.984716</td>\n",
       "      <td>80495.000000</td>\n",
       "      <td>3386.000000</td>\n",
       "      <td>11952.000000</td>\n",
       "      <td>47760.000000</td>\n",
       "      <td>15167.000000</td>\n",
       "      <td>9985.000000</td>\n",
       "      <td>1074.221565</td>\n",
       "      <td>367.214019</td>\n",
       "      <td>254.190000</td>\n",
       "    </tr>\n",
       "    <tr>\n",
       "      <th>std</th>\n",
       "      <td>NaN</td>\n",
       "      <td>16.792040</td>\n",
       "      <td>8727.484136</td>\n",
       "      <td>322.660100</td>\n",
       "      <td>96.499091</td>\n",
       "      <td>3216.630566</td>\n",
       "      <td>3804.466755</td>\n",
       "      <td>2368.559946</td>\n",
       "      <td>133.675640</td>\n",
       "      <td>41.358759</td>\n",
       "      <td>34.046502</td>\n",
       "    </tr>\n",
       "  </tbody>\n",
       "</table>\n",
       "</div>"
      ],
      "text/plain": [
       "                      DELIVERY_START  spot_id_delta  load_forecast  \\\n",
       "count                           1821    1821.000000    1821.000000   \n",
       "mean   2023-02-11 07:16:38.352553472       3.813106   60210.536518   \n",
       "min              2023-01-03 00:00:00     -64.137247   38288.000000   \n",
       "25%              2023-01-21 23:00:00      -5.094068   53506.000000   \n",
       "50%              2023-02-09 22:00:00       2.690193   60018.000000   \n",
       "75%              2023-03-02 22:00:00      10.968661   66643.000000   \n",
       "max              2023-03-29 21:00:00     177.984716   80495.000000   \n",
       "std                              NaN      16.792040    8727.484136   \n",
       "\n",
       "       coal_power_available  gas_power_available  nucelear_power_available  \\\n",
       "count           1821.000000          1821.000000               1821.000000   \n",
       "mean            3224.687534         11919.963756              42873.688083   \n",
       "min             1646.000000         11360.000000              36990.000000   \n",
       "25%             3256.000000         11945.000000              39615.000000   \n",
       "50%             3386.000000         11945.000000              43918.000000   \n",
       "75%             3386.000000         11945.000000              45670.000000   \n",
       "max             3386.000000         11952.000000              47760.000000   \n",
       "std              322.660100            96.499091               3216.630566   \n",
       "\n",
       "       wind_power_forecasts_average  solar_power_forecasts_average  \\\n",
       "count                   1821.000000                    1821.000000   \n",
       "mean                    6124.354201                    1543.193300   \n",
       "min                      772.000000                       0.000000   \n",
       "25%                     3122.000000                       0.000000   \n",
       "50%                     5291.000000                       0.000000   \n",
       "75%                     8188.000000                    2826.000000   \n",
       "max                    15167.000000                    9985.000000   \n",
       "std                     3804.466755                    2368.559946   \n",
       "\n",
       "       wind_power_forecasts_std  solar_power_forecasts_std  \\\n",
       "count               1821.000000                1821.000000   \n",
       "mean                 139.205997                  23.000714   \n",
       "min                    4.172741                   0.000000   \n",
       "25%                   55.569217                   0.000000   \n",
       "50%                  100.451855                   0.000000   \n",
       "75%                  179.845186                  29.784131   \n",
       "max                 1074.221565                 367.214019   \n",
       "std                  133.675640                  41.358759   \n",
       "\n",
       "       predicted_spot_price  \n",
       "count           1821.000000  \n",
       "mean             140.377633  \n",
       "min               42.420000  \n",
       "25%              119.540000  \n",
       "50%              140.160000  \n",
       "75%              161.050000  \n",
       "max              254.190000  \n",
       "std               34.046502  "
      ]
     },
     "execution_count": 12,
     "metadata": {},
     "output_type": "execute_result"
    }
   ],
   "source": [
    "data_merge_clean.describe()"
   ]
  },
  {
   "cell_type": "code",
   "execution_count": 10,
   "id": "14b65c89-3e49-4598-bafa-10cee45d8aab",
   "metadata": {},
   "outputs": [],
   "source": [
    "data_NEw = data_merge_clean.dropna(subset=['load_forecast'])"
   ]
  },
  {
   "cell_type": "code",
   "execution_count": 11,
   "id": "123cc6c3-304b-48ca-ba6a-382935843314",
   "metadata": {},
   "outputs": [
    {
     "data": {
      "text/plain": [
       "DELIVERY_START                    0.00\n",
       "spot_id_delta                     0.00\n",
       "load_forecast                     0.00\n",
       "coal_power_available              0.00\n",
       "gas_power_available               0.00\n",
       "nucelear_power_available          0.00\n",
       "wind_power_forecasts_average      0.00\n",
       "solar_power_forecasts_average     0.00\n",
       "wind_power_forecasts_std          0.00\n",
       "solar_power_forecasts_std         0.00\n",
       "predicted_spot_price             80.32\n",
       "dtype: float64"
      ]
     },
     "execution_count": 11,
     "metadata": {},
     "output_type": "execute_result"
    }
   ],
   "source": [
    "round((data_NEw.isna().sum()/len(data_NEw))*100,2)"
   ]
  },
  {
   "cell_type": "code",
   "execution_count": 12,
   "id": "7646ca54-3294-48e2-8fa2-8562484ee954",
   "metadata": {},
   "outputs": [],
   "source": [
    "data_N=data_NEw.drop(columns=['predicted_spot_price'])"
   ]
  },
  {
   "cell_type": "code",
   "execution_count": 13,
   "id": "ee4d9634-d906-4f6b-8df8-d40a53faa631",
   "metadata": {},
   "outputs": [],
   "source": [
    "def nouvelle_variable (data):\n",
    "    df=data.copy()\n",
    "    # Exemple de DataFrame\n",
    "    df['DELIVERY_START'] = pd.to_datetime(df['DELIVERY_START'])\n",
    "    \n",
    "    # Variables temporelles\n",
    "    df['hour'] = df['DELIVERY_START'].dt.hour\n",
    "    df['weekday'] = df['DELIVERY_START'].dt.weekday\n",
    "    df['month'] = df['DELIVERY_START'].dt.month\n",
    "    df['is_weekend'] = df['weekday'].isin([5, 6]).astype(int)\n",
    "    \n",
    "    # Variables cycliques\n",
    "    df['sin_hour'] = np.sin(2 * np.pi * df['hour'] / 24)\n",
    "    df['cos_hour'] = np.cos(2 * np.pi * df['hour'] / 24)\n",
    "    df['sin_weekday'] = np.sin(2 * np.pi * df['weekday'] / 7)\n",
    "    df['cos_weekday'] = np.cos(2 * np.pi * df['weekday'] / 7)\n",
    "    df['sin_month'] = np.sin(2 * np.pi * df['month'] / 12)\n",
    "    df['cos_month'] = np.cos(2 * np.pi * df['month'] / 12)\n",
    "    \n",
    "    # Lags des prédicteurs\n",
    "    df['load_forecast_lag1'] = df['load_forecast'].shift(1)\n",
    "    df['coal_power_available_lag1'] = df['coal_power_available'].shift(1)\n",
    "    \n",
    "    # Moyennes glissantes et écart-type\n",
    "    df['load_forecast_mean_3h'] = df['load_forecast'].rolling(window=3).mean()\n",
    "    df['wind_power_forecast_std_3h'] = df['wind_power_forecasts_average'].rolling(window=3).std()\n",
    "    \n",
    "    # Ratios\n",
    "    df['renewable_ratio'] = (df['wind_power_forecasts_average'] + df['solar_power_forecasts_average']) / \\\n",
    "                            (df['coal_power_available'] + df['gas_power_available'])\n",
    "    \n",
    "    # Interactions\n",
    "    df['wind_solar_interaction'] = df['wind_power_forecasts_average'] * df['solar_power_forecasts_average']\n",
    "    df['load_renewable_ratio'] = df['load_forecast'] * df['renewable_ratio']\n",
    "    df['hour_load_interaction'] = df['hour'] * df['load_forecast']\n",
    "    df['weekend_gas_interaction'] = df['is_weekend'] * df['gas_power_available']\n",
    "    \n",
    "    # Suppression des lignes avec valeurs manquantes dues aux lags et fenêtres glissantes\n",
    "    df = df.dropna()\n",
    "    return df\n"
   ]
  },
  {
   "cell_type": "code",
   "execution_count": 58,
   "id": "dac401eb-145f-4602-816b-4388632f30bd",
   "metadata": {},
   "outputs": [],
   "source": [
    "sd=data_merge.copy()"
   ]
  },
  {
   "cell_type": "code",
   "execution_count": 59,
   "id": "1fbc49a1-5c8a-4e89-a1a0-207dbafb2791",
   "metadata": {},
   "outputs": [],
   "source": [
    "ssd =nouvelle_variable(sd)"
   ]
  },
  {
   "cell_type": "code",
   "execution_count": 14,
   "id": "4e86d753-7400-4781-8bad-3d26fae74c3b",
   "metadata": {},
   "outputs": [],
   "source": [
    "data_hub= nouvelle_variable(data_merge_clean)"
   ]
  },
  {
   "cell_type": "code",
   "execution_count": 24,
   "id": "afd28dd6-ee5f-4df0-944e-9be12b3b4ce4",
   "metadata": {},
   "outputs": [
    {
     "name": "stdout",
     "output_type": "stream",
     "text": [
      "<class 'pandas.core.frame.DataFrame'>\n",
      "Index: 9251 entries, 2 to 10588\n",
      "Data columns (total 29 columns):\n",
      " #   Column                         Non-Null Count  Dtype         \n",
      "---  ------                         --------------  -----         \n",
      " 0   DELIVERY_START                 9251 non-null   datetime64[ns]\n",
      " 1   spot_id_delta                  9251 non-null   float64       \n",
      " 2   load_forecast                  9251 non-null   float64       \n",
      " 3   coal_power_available           9251 non-null   float64       \n",
      " 4   gas_power_available            9251 non-null   float64       \n",
      " 5   nucelear_power_available       9251 non-null   float64       \n",
      " 6   wind_power_forecasts_average   9251 non-null   float64       \n",
      " 7   solar_power_forecasts_average  9251 non-null   float64       \n",
      " 8   wind_power_forecasts_std       9251 non-null   float64       \n",
      " 9   solar_power_forecasts_std      9251 non-null   float64       \n",
      " 10  hour                           9251 non-null   category      \n",
      " 11  weekday                        9251 non-null   category      \n",
      " 12  month                          9251 non-null   category      \n",
      " 13  is_weekend                     9251 non-null   category      \n",
      " 14  sin_hour                       9251 non-null   float64       \n",
      " 15  cos_hour                       9251 non-null   float64       \n",
      " 16  sin_weekday                    9251 non-null   float64       \n",
      " 17  cos_weekday                    9251 non-null   float64       \n",
      " 18  sin_month                      9251 non-null   float64       \n",
      " 19  cos_month                      9251 non-null   float64       \n",
      " 20  load_forecast_lag1             9251 non-null   float64       \n",
      " 21  coal_power_available_lag1      9251 non-null   float64       \n",
      " 22  load_forecast_mean_3h          9251 non-null   float64       \n",
      " 23  wind_power_forecast_std_3h     9251 non-null   float64       \n",
      " 24  renewable_ratio                9251 non-null   float64       \n",
      " 25  wind_solar_interaction         9251 non-null   float64       \n",
      " 26  load_renewable_ratio           9251 non-null   float64       \n",
      " 27  hour_load_interaction          9251 non-null   float64       \n",
      " 28  weekend_gas_interaction        9251 non-null   float64       \n",
      "dtypes: category(4), datetime64[ns](1), float64(24)\n",
      "memory usage: 1.9 MB\n"
     ]
    }
   ],
   "source": [
    "data_hub.info()"
   ]
  },
  {
   "cell_type": "code",
   "execution_count": 15,
   "id": "529e1220-601e-410a-90e9-89fa69b35c29",
   "metadata": {
    "scrolled": true
   },
   "outputs": [],
   "source": [
    "# Conversion des colonnes en variables catégorielles\n",
    "data_hub['hour'] = data_hub['hour'].astype('category')\n",
    "data_hub['weekday'] = data_hub['weekday'].astype('category')\n",
    "data_hub['month'] = data_hub['month'].astype('category')\n",
    "data_hub['is_weekend'] = data_hub['is_weekend'].astype('category')"
   ]
  },
  {
   "cell_type": "code",
   "execution_count": 60,
   "id": "df274b13-365b-40d1-8e44-e25516fe0eb3",
   "metadata": {
    "scrolled": true
   },
   "outputs": [],
   "source": [
    "# Conversion des colonnes en variables catégorielles\n",
    "ssd['hour'] = ssd['hour'].astype('category')\n",
    "ssd['weekday'] = ssd['weekday'].astype('category')\n",
    "ssd['month'] = ssd['month'].astype('category')\n",
    "ssd['is_weekend'] = ssd['is_weekend'].astype('category')"
   ]
  },
  {
   "cell_type": "code",
   "execution_count": 61,
   "id": "10442271-518f-4c35-a436-71e912372724",
   "metadata": {},
   "outputs": [],
   "source": [
    "ssd['class_spot'] = np.where(ssd['spot_id_delta'] < 0, -1, 1)\n",
    "ssd['class_spot'] = ssd['class_spot'].astype('category')"
   ]
  },
  {
   "cell_type": "code",
   "execution_count": 83,
   "id": "03301c2c-270e-4320-9f4a-eb5dfae9bcde",
   "metadata": {},
   "outputs": [
    {
     "data": {
      "text/plain": [
       "['load_forecast',\n",
       " 'coal_power_available',\n",
       " 'gas_power_available',\n",
       " 'nucelear_power_available',\n",
       " 'wind_power_forecasts_average',\n",
       " 'solar_power_forecasts_average',\n",
       " 'wind_power_forecasts_std',\n",
       " 'solar_power_forecasts_std',\n",
       " 'hour',\n",
       " 'weekday',\n",
       " 'month',\n",
       " 'is_weekend',\n",
       " 'sin_hour',\n",
       " 'cos_hour',\n",
       " 'sin_weekday',\n",
       " 'cos_weekday',\n",
       " 'sin_month',\n",
       " 'cos_month',\n",
       " 'load_forecast_lag1',\n",
       " 'coal_power_available_lag1',\n",
       " 'load_forecast_mean_3h',\n",
       " 'wind_power_forecast_std_3h',\n",
       " 'renewable_ratio',\n",
       " 'wind_solar_interaction',\n",
       " 'load_renewable_ratio',\n",
       " 'hour_load_interaction',\n",
       " 'weekend_gas_interaction']"
      ]
     },
     "execution_count": 83,
     "metadata": {},
     "output_type": "execute_result"
    }
   ],
   "source": [
    "list(X_Spot_delta_train)"
   ]
  },
  {
   "cell_type": "code",
   "execution_count": 87,
   "id": "f7f300df-ccac-47b4-8313-7786e268d449",
   "metadata": {},
   "outputs": [
    {
     "data": {
      "text/plain": [
       "(3382, 29)"
      ]
     },
     "execution_count": 87,
     "metadata": {},
     "output_type": "execute_result"
    }
   ],
   "source": [
    "\n",
    "Xtu.shape"
   ]
  },
  {
   "cell_type": "code",
   "execution_count": 62,
   "id": "6c7e429a-e2ff-417b-a311-2c527d458a50",
   "metadata": {},
   "outputs": [],
   "source": [
    "# Séparer la variable cible et les variables explicatives\n",
    "X_Selta_train = ssd.drop(columns=['spot_id_delta', 'DELIVERY_START','class_spot'])\n",
    "y_Selta_train = ssd['class_spot']"
   ]
  },
  {
   "cell_type": "code",
   "execution_count": 63,
   "id": "b6aac10f-6333-4178-94a8-a76b0c4a1e4e",
   "metadata": {},
   "outputs": [],
   "source": [
    "# Appliquer le même scaler sur les données de test\n",
    "X_Selta_train = scaler.transform(X_Selta_train)\n"
   ]
  },
  {
   "cell_type": "code",
   "execution_count": 64,
   "id": "bd52cb9c-df56-4661-a81f-3d6ace492e15",
   "metadata": {},
   "outputs": [
    {
     "name": "stdout",
     "output_type": "stream",
     "text": [
      "Random Forest (Classification) - Entraînement:\n",
      "  Exactitude: 0.9692307692307692\n",
      "              precision    recall  f1-score   support\n",
      "\n",
      "          -1       0.97      0.95      0.96       742\n",
      "           1       0.97      0.98      0.97      1078\n",
      "\n",
      "    accuracy                           0.97      1820\n",
      "   macro avg       0.97      0.97      0.97      1820\n",
      "weighted avg       0.97      0.97      0.97      1820\n",
      "\n",
      "Matrice de confusion (Entraînement):\n",
      "[[ 707   35]\n",
      " [  21 1057]]\n"
     ]
    }
   ],
   "source": [
    "# Prédictions sur l'ensemble d'entraînement et de test\n",
    "rf_train_predictions_class = rf_model_class.predict(X_Selta_train)\n",
    "\n",
    "\n",
    "# Calcul des métriques pour Random Forest sur l'entraînement\n",
    "rf_train_accuracy = accuracy_score(y_Selta_train, rf_train_predictions_class)\n",
    "rf_train_report = classification_report(y_Selta_train, rf_train_predictions_class)\n",
    "\n",
    "\n",
    "# Affichage des résultats pour Random Forest\n",
    "print(\"Random Forest (Classification) - Entraînement:\")\n",
    "print(f\"  Exactitude: {rf_train_accuracy}\")\n",
    "print(rf_train_report)\n",
    "\n",
    "\n",
    "# Matrices de confusion (facultatif)\n",
    "print(\"Matrice de confusion (Entraînement):\")\n",
    "print(confusion_matrix(y_Selta_train, rf_train_predictions_class))\n"
   ]
  },
  {
   "cell_type": "code",
   "execution_count": 17,
   "id": "21e08d83-3c16-4cf8-b95e-ff41716e1817",
   "metadata": {},
   "outputs": [],
   "source": [
    "# Séparer la variable cible et les variables explicatives\n",
    "X_Spot_delta_train = data_hub.drop(columns=['spot_id_delta', 'DELIVERY_START','class_spot'])\n",
    "y_Spot_delta_train = data_hub['class_spot']\n",
    "\n",
    "# Séparer les données d'entraînement et de test\n",
    "Xdel_train, Xdel_test, ydel_train, ydel_test = train_test_split(X_Spot_delta_train, y_Spot_delta_train, test_size=0.1, random_state=42)"
   ]
  },
  {
   "cell_type": "code",
   "execution_count": 18,
   "id": "90db78aa-de2b-411c-890b-9018bd41c486",
   "metadata": {},
   "outputs": [],
   "source": [
    "#Standadiser\n",
    "# Initialisation du scaler\n",
    "scaler = StandardScaler()\n",
    "\n",
    "# Appliquer le scaler sur les données d'entraînement\n",
    "Xdel_train = scaler.fit_transform(Xdel_train)\n",
    "\n",
    "# Appliquer le même scaler sur les données de test\n",
    "Xdel_test = scaler.transform(Xdel_test)"
   ]
  },
  {
   "cell_type": "code",
   "execution_count": 57,
   "id": "0ff62645-ea90-427d-823b-c21fa2a0b227",
   "metadata": {},
   "outputs": [
    {
     "name": "stdout",
     "output_type": "stream",
     "text": [
      "Random Forest (Classification) - Entraînement:\n",
      "  Exactitude: 0.9871716554673182\n",
      "              precision    recall  f1-score   support\n",
      "\n",
      "          -1       1.00      0.97      0.98       677\n",
      "           1       0.98      1.00      0.99       960\n",
      "\n",
      "    accuracy                           0.99      1637\n",
      "   macro avg       0.99      0.99      0.99      1637\n",
      "weighted avg       0.99      0.99      0.99      1637\n",
      "\n",
      "Random Forest (Classification) - Test:\n",
      "  Exactitude: 0.8131868131868132\n",
      "              precision    recall  f1-score   support\n",
      "\n",
      "          -1       0.73      0.75      0.74        64\n",
      "           1       0.86      0.85      0.85       118\n",
      "\n",
      "    accuracy                           0.81       182\n",
      "   macro avg       0.79      0.80      0.80       182\n",
      "weighted avg       0.81      0.81      0.81       182\n",
      "\n",
      "Matrice de confusion (Entraînement):\n",
      "[[659  18]\n",
      " [  3 957]]\n",
      "Matrice de confusion (Test):\n",
      "[[ 48  16]\n",
      " [ 18 100]]\n"
     ]
    }
   ],
   "source": [
    "from sklearn.ensemble import RandomForestClassifier\n",
    "from sklearn.metrics import accuracy_score, confusion_matrix, classification_report\n",
    "\n",
    "# Création du modèle Random Forest pour la classification\n",
    "rf_model_class = RandomForestClassifier(\n",
    "    n_estimators=100,  # Nombre d'arbres ajusté\n",
    "    max_depth=20,       # Limiter la profondeur des arbres\n",
    "    min_samples_split=4,  # Augmenter la taille minimale des échantillons pour diviser un nœud\n",
    "    min_samples_leaf=3,  # Augmenter la taille minimale des échantillons dans une feuille\n",
    "    max_features='sqrt',  # Limiter le nombre de caractéristiques prises en compte\n",
    "    bootstrap=True,      # Utiliser le bootstrap pour les sous-échantillons\n",
    "    random_state=42,\n",
    "    criterion = 'entropy',\n",
    "    oob_score=True\n",
    ")\n",
    "\n",
    "# Entraînement du modèle sur les données d'entraînement\n",
    "rf_model_class.fit(Xdel_train, ydel_train)\n",
    "\n",
    "# Prédictions sur l'ensemble d'entraînement et de test\n",
    "rf_train_predictions_class = rf_model_class.predict(Xdel_train)\n",
    "rf_test_predictions_class = rf_model_class.predict(Xdel_test)\n",
    "\n",
    "# Calcul des métriques pour Random Forest sur l'entraînement\n",
    "rf_train_accuracy = accuracy_score(ydel_train, rf_train_predictions_class)\n",
    "rf_train_report = classification_report(ydel_train, rf_train_predictions_class)\n",
    "\n",
    "# Calcul des métriques pour Random Forest sur le test\n",
    "rf_test_accuracy = accuracy_score(ydel_test, rf_test_predictions_class)\n",
    "rf_test_report = classification_report(ydel_test, rf_test_predictions_class)\n",
    "\n",
    "# Affichage des résultats pour Random Forest\n",
    "print(\"Random Forest (Classification) - Entraînement:\")\n",
    "print(f\"  Exactitude: {rf_train_accuracy}\")\n",
    "print(rf_train_report)\n",
    "print(\"Random Forest (Classification) - Test:\")\n",
    "print(f\"  Exactitude: {rf_test_accuracy}\")\n",
    "print(rf_test_report)\n",
    "\n",
    "# Matrices de confusion (facultatif)\n",
    "print(\"Matrice de confusion (Entraînement):\")\n",
    "print(confusion_matrix(ydel_train, rf_train_predictions_class))\n",
    "print(\"Matrice de confusion (Test):\")\n",
    "print(confusion_matrix(ydel_test, rf_test_predictions_class))\n"
   ]
  },
  {
   "cell_type": "code",
   "execution_count": null,
   "id": "8da31f11-eb72-48fc-9d22-78389297dac8",
   "metadata": {},
   "outputs": [],
   "source": [
    "# Séparer la variable cible et les variables explicatives\n",
    "X_Spot_delta_train = data_hub.drop(columns=['spot_id_delta', 'DELIVERY_START','class_spot'])\n",
    "y_Spot_delta_train = data_hub['class_spot']\n",
    "\n",
    "# Séparer les données d'entraînement et de test\n",
    "Xdel_train, Xdel_test, ydel_train, ydel_test = train_test_split(X_Spot_delta_train, y_Spot_delta_train, test_size=0.1, random_state=42)"
   ]
  },
  {
   "cell_type": "code",
   "execution_count": 20,
   "id": "24d8bfd4-4cea-40c2-a0f2-88f48f478be2",
   "metadata": {},
   "outputs": [
    {
     "name": "stdout",
     "output_type": "stream",
     "text": [
      "Validation croisée - Moyenne des scores d'exactitude: 0.7636066979935854\n",
      "Validation croisée - Écart-type des scores d'exactitude: 0.013466253361064407\n",
      "Random Forest (Classification) - Entraînement:\n",
      "  Exactitude: 0.9291386682956628\n",
      "              precision    recall  f1-score   support\n",
      "\n",
      "          -1       0.95      0.87      0.91       677\n",
      "           1       0.92      0.97      0.94       960\n",
      "\n",
      "    accuracy                           0.93      1637\n",
      "   macro avg       0.93      0.92      0.93      1637\n",
      "weighted avg       0.93      0.93      0.93      1637\n",
      "\n",
      "Random Forest (Classification) - Test:\n",
      "  Exactitude: 0.8021978021978022\n",
      "              precision    recall  f1-score   support\n",
      "\n",
      "          -1       0.74      0.67      0.70        64\n",
      "           1       0.83      0.87      0.85       118\n",
      "\n",
      "    accuracy                           0.80       182\n",
      "   macro avg       0.79      0.77      0.78       182\n",
      "weighted avg       0.80      0.80      0.80       182\n",
      "\n",
      "Matrice de confusion (Entraînement):\n",
      "[[591  86]\n",
      " [ 30 930]]\n",
      "Matrice de confusion (Test):\n",
      "[[ 43  21]\n",
      " [ 15 103]]\n"
     ]
    }
   ],
   "source": [
    "from sklearn.model_selection import cross_val_score\n",
    "from sklearn.ensemble import RandomForestClassifier\n",
    "from sklearn.metrics import accuracy_score, confusion_matrix, classification_report\n",
    "\n",
    "# Création du modèle Random Forest pour la classification\n",
    "rf_model_class_optimise = RandomForestClassifier(\n",
    "    n_estimators=300,  # Réduire à 500 pour tester si la performance se stabilise\n",
    "    max_depth=10,       # Limiter la profondeur des arbres à 12\n",
    "    min_samples_split=4,  # Réduire pour permettre des divisions plus petites\n",
    "    min_samples_leaf=2,  # Réduire la taille minimale des feuilles\n",
    "    max_features='log2',  # Utiliser la racine carrée du nombre de caractéristiques\n",
    "    bootstrap=True,      # Utiliser le bootstrap pour les sous-échantillons\n",
    "    random_state=42\n",
    ")\n",
    "\n",
    "# Validation croisée sur l'ensemble d'entraînement\n",
    "cv_scores = cross_val_score(rf_model_class, Xdel_train, ydel_train, cv=5, scoring='accuracy')\n",
    "\n",
    "# Moyenne et écart-type des scores de validation croisée\n",
    "print(f\"Validation croisée - Moyenne des scores d'exactitude: {cv_scores.mean()}\")\n",
    "print(f\"Validation croisée - Écart-type des scores d'exactitude: {cv_scores.std()}\")\n",
    "\n",
    "# Entraînement du modèle sur les données d'entraînement (après la validation croisée)\n",
    "rf_model_class.fit(Xdel_train, ydel_train)\n",
    "\n",
    "# Prédictions sur l'ensemble d'entraînement et de test\n",
    "rf_train_predictions_class = rf_model_class.predict(Xdel_train)\n",
    "rf_test_predictions_class = rf_model_class.predict(Xdel_test)\n",
    "\n",
    "# Calcul des métriques pour Random Forest sur l'entraînement\n",
    "rf_train_accuracy = accuracy_score(ydel_train, rf_train_predictions_class)\n",
    "rf_train_report = classification_report(ydel_train, rf_train_predictions_class)\n",
    "\n",
    "# Calcul des métriques pour Random Forest sur le test\n",
    "rf_test_accuracy = accuracy_score(ydel_test, rf_test_predictions_class)\n",
    "rf_test_report = classification_report(ydel_test, rf_test_predictions_class)\n",
    "\n",
    "# Affichage des résultats pour Random Forest\n",
    "print(\"Random Forest (Classification) - Entraînement:\")\n",
    "print(f\"  Exactitude: {rf_train_accuracy}\")\n",
    "print(rf_train_report)\n",
    "print(\"Random Forest (Classification) - Test:\")\n",
    "print(f\"  Exactitude: {rf_test_accuracy}\")\n",
    "print(rf_test_report)\n",
    "\n",
    "# Matrices de confusion (facultatif)\n",
    "print(\"Matrice de confusion (Entraînement):\")\n",
    "print(confusion_matrix(ydel_train, rf_train_predictions_class))\n",
    "print(\"Matrice de confusion (Test):\")\n",
    "print(confusion_matrix(ydel_test, rf_test_predictions_class))"
   ]
  },
  {
   "cell_type": "code",
   "execution_count": 66,
   "id": "e4844bba-aa2c-4d7b-8cf8-e38030c852f4",
   "metadata": {},
   "outputs": [
    {
     "name": "stdout",
     "output_type": "stream",
     "text": [
      "SVM (Classification) - Entraînement optimisé:\n",
      "  Exactitude: 0.8975375375375375\n",
      "              precision    recall  f1-score   support\n",
      "\n",
      "          -1       0.90      0.89      0.90      4100\n",
      "           1       0.90      0.90      0.90      4225\n",
      "\n",
      "    accuracy                           0.90      8325\n",
      "   macro avg       0.90      0.90      0.90      8325\n",
      "weighted avg       0.90      0.90      0.90      8325\n",
      "\n",
      "SVM (Classification) - Test optimisé:\n",
      "  Exactitude: 0.7796976241900648\n",
      "              precision    recall  f1-score   support\n",
      "\n",
      "          -1       0.78      0.78      0.78       464\n",
      "           1       0.78      0.77      0.78       462\n",
      "\n",
      "    accuracy                           0.78       926\n",
      "   macro avg       0.78      0.78      0.78       926\n",
      "weighted avg       0.78      0.78      0.78       926\n",
      "\n",
      "Matrice de confusion (Entraînement):\n",
      "[[3659  441]\n",
      " [ 412 3813]]\n",
      "Matrice de confusion (Test):\n",
      "[[364 100]\n",
      " [104 358]]\n"
     ]
    }
   ],
   "source": [
    "from sklearn.svm import SVC\n",
    "from sklearn.metrics import accuracy_score, classification_report, confusion_matrix\n",
    "\n",
    "# Création du modèle SVM pour la classification avec des paramètres optimisés\n",
    "svm_model_class_optimise = SVC(\n",
    "    C=100.0,  # Paramètre de régularisation, ajustez-le si nécessaire\n",
    "    kernel='rbf',  # Noyau radial de base, bien adapté aux données non linéaires\n",
    "    gamma='scale',  # Gamma automatique, ajuste la largeur du noyau\n",
    "    class_weight='balanced',  # Gestion des classes déséquilibrées\n",
    "    random_state=42\n",
    ")\n",
    "\n",
    "# Entraînement du modèle SVM\n",
    "svm_model_class_optimise.fit(Xdel_train, ydel_train)\n",
    "\n",
    "# Prédictions et évaluation du modèle sur les données d'entraînement et de test\n",
    "svm_train_predictions_class_optimise = svm_model_class_optimise.predict(Xdel_train)\n",
    "svm_test_predictions_class_optimise = svm_model_class_optimise.predict(Xdel_test)\n",
    "\n",
    "# Calcul des scores pour l'ensemble d'entraînement et de test\n",
    "svm_train_accuracy_optimise = accuracy_score(ydel_train, svm_train_predictions_class_optimise)\n",
    "svm_test_accuracy_optimise = accuracy_score(ydel_test, svm_test_predictions_class_optimise)\n",
    "\n",
    "# Rapport de classification\n",
    "svm_train_report_optimise = classification_report(ydel_train, svm_train_predictions_class_optimise)\n",
    "svm_test_report_optimise = classification_report(ydel_test, svm_test_predictions_class_optimise)\n",
    "\n",
    "# Affichage des résultats\n",
    "print(\"SVM (Classification) - Entraînement optimisé:\")\n",
    "print(f\"  Exactitude: {svm_train_accuracy_optimise}\")\n",
    "print(svm_train_report_optimise)\n",
    "\n",
    "print(\"SVM (Classification) - Test optimisé:\")\n",
    "print(f\"  Exactitude: {svm_test_accuracy_optimise}\")\n",
    "print(svm_test_report_optimise)\n",
    "\n",
    "# Matrices de confusion\n",
    "print(\"Matrice de confusion (Entraînement):\")\n",
    "print(confusion_matrix(ydel_train, svm_train_predictions_class_optimise))\n",
    "print(\"Matrice de confusion (Test):\")\n",
    "print(confusion_matrix(ydel_test, svm_test_predictions_class_optimise))\n"
   ]
  },
  {
   "cell_type": "code",
   "execution_count": 40,
   "id": "109cdae8-8304-4972-987b-785f333334d4",
   "metadata": {},
   "outputs": [
    {
     "name": "stdout",
     "output_type": "stream",
     "text": [
      "Gradient Boosting - Entraînement:\n",
      "  RMSE: 0.09947618032493977, R²: 0.9999925199815628\n",
      "Gradient Boosting - Test:\n",
      "  RMSE: 18.77017580058152, R²: 0.5429048894983179\n"
     ]
    }
   ],
   "source": [
    "# --- 2. Entraînement et évaluation du modèle Gradient Boosting ---\n",
    "# Création du modèle Gradient Boosting\n",
    "gbr_model = GradientBoostingRegressor(\n",
    "    n_estimators=500,  # Réduire le nombre d'arbres\n",
    "    learning_rate=0.1,  # Réduire le taux d'apprentissage\n",
    "    max_depth=20,         # Limiter la profondeur des arbres\n",
    "    min_samples_leaf=4,  # Augmenter la taille minimale des échantillons dans une feuille\n",
    "    subsample=0.9,        # Utiliser un sous-échantillon des données à chaque itération\n",
    "    random_state=42\n",
    ")\n",
    "# Entraînement du modèle sur les données d'entraînement\n",
    "gbr_model.fit(Xdel_train, ydel_train)\n",
    "\n",
    "# Prédictions sur l'ensemble d'entraînement et de test\n",
    "gbr_train_predictions = gbr_model.predict(Xdel_train)\n",
    "gbr_test_predictions = gbr_model.predict(Xdel_test)\n",
    "\n",
    "# Calcul des métriques pour Gradient Boosting sur l'entraînement\n",
    "gbr_train_rmse = np.sqrt(mean_squared_error(ydel_train, gbr_train_predictions))\n",
    "gbr_train_r2 = r2_score(ydel_train, gbr_train_predictions)\n",
    "\n",
    "# Calcul des métriques pour Gradient Boosting sur le test\n",
    "gbr_test_rmse = np.sqrt(mean_squared_error(ydel_test, gbr_test_predictions))\n",
    "gbr_test_r2 = r2_score(ydel_test, gbr_test_predictions)\n",
    "\n",
    "# Affichage des résultats pour Gradient Boosting\n",
    "print(\"Gradient Boosting - Entraînement:\")\n",
    "print(f\"  RMSE: {gbr_train_rmse}, R²: {gbr_train_r2}\")\n",
    "print(\"Gradient Boosting - Test:\")\n",
    "print(f\"  RMSE: {gbr_test_rmse}, R²: {gbr_test_r2}\")\n"
   ]
  },
  {
   "cell_type": "code",
   "execution_count": 68,
   "id": "11a0ccdc-e646-48da-b6d7-32612235e3c8",
   "metadata": {},
   "outputs": [
    {
     "name": "stdout",
     "output_type": "stream",
     "text": [
      "SVM (Classification) - Entraînement avec PCA:\n",
      "  Exactitude: 0.9463063063063063\n",
      "              precision    recall  f1-score   support\n",
      "\n",
      "          -1       0.95      0.95      0.95      4100\n",
      "           1       0.95      0.95      0.95      4225\n",
      "\n",
      "    accuracy                           0.95      8325\n",
      "   macro avg       0.95      0.95      0.95      8325\n",
      "weighted avg       0.95      0.95      0.95      8325\n",
      "\n",
      "SVM (Classification) - Test avec PCA:\n",
      "  Exactitude: 0.7397408207343412\n",
      "              precision    recall  f1-score   support\n",
      "\n",
      "          -1       0.74      0.75      0.74       464\n",
      "           1       0.74      0.73      0.74       462\n",
      "\n",
      "    accuracy                           0.74       926\n",
      "   macro avg       0.74      0.74      0.74       926\n",
      "weighted avg       0.74      0.74      0.74       926\n",
      "\n"
     ]
    }
   ],
   "source": [
    "from sklearn.decomposition import PCA\n",
    "\n",
    "# Appliquer PCA pour réduire la dimensionnalité des données\n",
    "pca = PCA(n_components=0.95)  # Garde 95% de la variance\n",
    "Xdel_train_pca = pca.fit_transform(Xdel_train)\n",
    "Xdel_test_pca = pca.transform(Xdel_test)\n",
    "\n",
    "# Entraînement du modèle SVM sur les données réduites\n",
    "rf_model_class.fit(Xdel_train_pca, ydel_train)\n",
    "svm_train_predictions_pca = rf_model_class.predict(Xdel_train_pca)\n",
    "svm_test_predictions_pca = rf_model_class.predict(Xdel_test_pca)\n",
    "\n",
    "# Calcul des scores\n",
    "svm_train_accuracy_pca = accuracy_score(ydel_train, svm_train_predictions_pca)\n",
    "svm_test_accuracy_pca = accuracy_score(ydel_test, svm_test_predictions_pca)\n",
    "\n",
    "print(\"SVM (Classification) - Entraînement avec PCA:\")\n",
    "print(f\"  Exactitude: {svm_train_accuracy_pca}\")\n",
    "print(classification_report(ydel_train, svm_train_predictions_pca))\n",
    "\n",
    "print(\"SVM (Classification) - Test avec PCA:\")\n",
    "print(f\"  Exactitude: {svm_test_accuracy_pca}\")\n",
    "print(classification_report(ydel_test, svm_test_predictions_pca))\n"
   ]
  },
  {
   "cell_type": "code",
   "execution_count": 35,
   "id": "269aaee8-cb5c-4733-8f4e-25c34eb80fe2",
   "metadata": {},
   "outputs": [
    {
     "name": "stdout",
     "output_type": "stream",
     "text": [
      "Gradient Boosting - Entraînement:\n",
      "  Exactitude: 1.0\n",
      "              precision    recall  f1-score   support\n",
      "\n",
      "          -1       1.00      1.00      1.00       677\n",
      "           1       1.00      1.00      1.00       960\n",
      "\n",
      "    accuracy                           1.00      1637\n",
      "   macro avg       1.00      1.00      1.00      1637\n",
      "weighted avg       1.00      1.00      1.00      1637\n",
      "\n",
      "Gradient Boosting - Test:\n",
      "  Exactitude: 0.7912087912087912\n",
      "              precision    recall  f1-score   support\n",
      "\n",
      "          -1       0.71      0.69      0.70        64\n",
      "           1       0.83      0.85      0.84       118\n",
      "\n",
      "    accuracy                           0.79       182\n",
      "   macro avg       0.77      0.77      0.77       182\n",
      "weighted avg       0.79      0.79      0.79       182\n",
      "\n",
      "Matrice de confusion - Entraînement:\n",
      "[[677   0]\n",
      " [  0 960]]\n",
      "Matrice de confusion - Test:\n",
      "[[ 44  20]\n",
      " [ 18 100]]\n"
     ]
    }
   ],
   "source": [
    "from sklearn.ensemble import GradientBoostingClassifier\n",
    "from sklearn.metrics import accuracy_score, classification_report, confusion_matrix\n",
    "\n",
    "# --- 2. Entraînement et évaluation du modèle Gradient Boosting pour Classification ---\n",
    "# Création du modèle Gradient Boosting\n",
    "gbc_model = GradientBoostingClassifier(\n",
    "    n_estimators=400,  # Nombre d'arbres\n",
    "    learning_rate=0.2,  # Taux d'apprentissage\n",
    "    max_depth=3,       # Limiter la profondeur des arbres\n",
    "    min_samples_leaf=3,  # Taille minimale des échantillons dans une feuille\n",
    "    subsample=0.55,      # Utiliser un sous-échantillon des données à chaque itération\n",
    "    random_state=42,\n",
    "    validation_fraction=0.1\n",
    ")\n",
    "\n",
    "# Entraînement du modèle sur les données d'entraînement\n",
    "gbc_model.fit(Xdel_train, ydel_train)\n",
    "\n",
    "# Prédictions sur l'ensemble d'entraînement et de test\n",
    "gbc_train_predictions = gbc_model.predict(Xdel_train)\n",
    "gbc_test_predictions = gbc_model.predict(Xdel_test)\n",
    "\n",
    "# Calcul des métriques pour Gradient Boosting sur l'entraînement\n",
    "gbc_train_accuracy = accuracy_score(ydel_train, gbc_train_predictions)\n",
    "gbc_train_class_report = classification_report(ydel_train, gbc_train_predictions)\n",
    "\n",
    "# Calcul des métriques pour Gradient Boosting sur le test\n",
    "gbc_test_accuracy = accuracy_score(ydel_test, gbc_test_predictions)\n",
    "gbc_test_class_report = classification_report(ydel_test, gbc_test_predictions)\n",
    "\n",
    "# Affichage des résultats pour Gradient Boosting\n",
    "print(\"Gradient Boosting - Entraînement:\")\n",
    "print(f\"  Exactitude: {gbc_train_accuracy}\")\n",
    "print(gbc_train_class_report)\n",
    "\n",
    "print(\"Gradient Boosting - Test:\")\n",
    "print(f\"  Exactitude: {gbc_test_accuracy}\")\n",
    "print(gbc_test_class_report)\n",
    "\n",
    "# Matrice de confusion (Entraînement et Test)\n",
    "print(\"Matrice de confusion - Entraînement:\")\n",
    "print(confusion_matrix(ydel_train, gbc_train_predictions))\n",
    "\n",
    "print(\"Matrice de confusion - Test:\")\n",
    "print(confusion_matrix(ydel_test, gbc_test_predictions))\n"
   ]
  },
  {
   "cell_type": "code",
   "execution_count": 72,
   "id": "5ffedb28-e5b2-4a4a-b2fb-8f714069542b",
   "metadata": {},
   "outputs": [],
   "source": [
    "def nouvelle_test_variable (data):\n",
    "    df=data.copy()\n",
    "    # Exemple de DataFrame\n",
    "    df['DELIVERY_START'] = pd.to_datetime(df['DELIVERY_START'])\n",
    "    \n",
    "    # Variables temporelles\n",
    "    df['hour'] = df['DELIVERY_START'].dt.hour\n",
    "    df['weekday'] = df['DELIVERY_START'].dt.weekday\n",
    "    df['month'] = df['DELIVERY_START'].dt.month\n",
    "    df['is_weekend'] = df['weekday'].isin([5, 6]).astype(int)\n",
    "    \n",
    "    # Variables cycliques\n",
    "    df['sin_hour'] = np.sin(2 * np.pi * df['hour'] / 24)\n",
    "    df['cos_hour'] = np.cos(2 * np.pi * df['hour'] / 24)\n",
    "    df['sin_weekday'] = np.sin(2 * np.pi * df['weekday'] / 7)\n",
    "    df['cos_weekday'] = np.cos(2 * np.pi * df['weekday'] / 7)\n",
    "    df['sin_month'] = np.sin(2 * np.pi * df['month'] / 12)\n",
    "    df['cos_month'] = np.cos(2 * np.pi * df['month'] / 12)\n",
    "    \n",
    "    # Lags des prédicteurs\n",
    "    df['load_forecast_lag1'] = df['load_forecast'].shift(1)\n",
    "    df['coal_power_available_lag1'] = df['coal_power_available'].shift(1)\n",
    "    \n",
    "    # Moyennes glissantes et écart-type\n",
    "    df['load_forecast_mean_3h'] = df['load_forecast'].rolling(window=3).mean()\n",
    "    df['wind_power_forecast_std_3h'] = df['wind_power_forecasts_average'].rolling(window=3).std()\n",
    "    \n",
    "    # Ratios\n",
    "    df['renewable_ratio'] = (df['wind_power_forecasts_average'] + df['solar_power_forecasts_average']) / \\\n",
    "                            (df['coal_power_available'] + df['gas_power_available'])\n",
    "    \n",
    "    # Interactions\n",
    "    df['wind_solar_interaction'] = df['wind_power_forecasts_average'] * df['solar_power_forecasts_average']\n",
    "    df['load_renewable_ratio'] = df['load_forecast'] * df['renewable_ratio']\n",
    "    df['hour_load_interaction'] = df['hour'] * df['load_forecast']\n",
    "    df['weekend_gas_interaction'] = df['is_weekend'] * df['gas_power_available']\n",
    "    \n",
    "    return df\n"
   ]
  },
  {
   "cell_type": "code",
   "execution_count": 73,
   "id": "e8e40661-a016-4da2-9290-38d289821955",
   "metadata": {},
   "outputs": [],
   "source": [
    "X_test = pd.read_csv(\"X_test.csv\",sep=\",\")"
   ]
  },
  {
   "cell_type": "code",
   "execution_count": 74,
   "id": "bbafad1f-a8d0-4e0b-9353-4f8576d387ba",
   "metadata": {},
   "outputs": [],
   "source": [
    "# Convertir en datetime avec utc=True pour unifier les fuseaux horaires\n",
    "X_test['DELIVERY_START'] = pd.to_datetime(X_test['DELIVERY_START'], errors='coerce', utc=True)\n",
    "X_test['DELIVERY_START'] = X_test['DELIVERY_START'].dt.tz_localize(None)"
   ]
  },
  {
   "cell_type": "code",
   "execution_count": null,
   "id": "e9b0c9e2-0ae0-4956-afe2-901e9971ff81",
   "metadata": {},
   "outputs": [],
   "source": []
  },
  {
   "cell_type": "code",
   "execution_count": 75,
   "id": "a3216db6-190a-48a4-a98e-612e1614f536",
   "metadata": {},
   "outputs": [],
   "source": [
    "Xtu=nouvelle_test_variable(X_test)"
   ]
  },
  {
   "cell_type": "code",
   "execution_count": 76,
   "id": "7d47d0fa-ee6e-4546-a4c9-75699d58a3b6",
   "metadata": {},
   "outputs": [],
   "source": [
    "# Conversion des colonnes en variables catégorielles\n",
    "Xtu['hour'] = Xtu['hour'].astype('category')\n",
    "Xtu['weekday'] = Xtu['weekday'].astype('category')\n",
    "Xtu['month'] = Xtu['month'].astype('category')\n",
    "Xtu['is_weekend'] = Xtu['is_weekend'].astype('category')"
   ]
  },
  {
   "cell_type": "code",
   "execution_count": 77,
   "id": "620b1720-9f83-467c-80d2-b5187ecddebc",
   "metadata": {},
   "outputs": [],
   "source": [
    "Xsp_test = scaler.transform(Xtu.drop(columns=['DELIVERY_START']))"
   ]
  },
  {
   "cell_type": "code",
   "execution_count": 79,
   "id": "16acabf0-7dd2-4d1d-a278-05e9c23d3e9e",
   "metadata": {},
   "outputs": [],
   "source": [
    "y_test_pred=rf_model_class.predict(Xsp_test)"
   ]
  },
  {
   "cell_type": "code",
   "execution_count": null,
   "id": "00768be4-f838-48cd-90bb-da4866b210ae",
   "metadata": {},
   "outputs": [],
   "source": [
    "# Appliquer le même scaler sur les données de test\n",
    "X_Selta_train = scaler.transform(X_Selta_train)\n",
    "rf_model_class.predict(X_Selta_train)"
   ]
  },
  {
   "cell_type": "code",
   "execution_count": 111,
   "id": "72c4041c-9278-406e-a032-7109c65e89f3",
   "metadata": {},
   "outputs": [
    {
     "data": {
      "text/plain": [
       "(4942, 29)"
      ]
     },
     "execution_count": 111,
     "metadata": {},
     "output_type": "execute_result"
    }
   ],
   "source": [
    "Xtu.shape"
   ]
  },
  {
   "cell_type": "code",
   "execution_count": 112,
   "id": "24725abc-fbde-420b-96bf-7d8849b77091",
   "metadata": {},
   "outputs": [],
   "source": [
    "Xsp_test = scaler.fit_transform(Xtu.drop(columns=['DELIVERY_START','predicted_spot_price']))\n",
    "y_test_pred=rf_model_class.predict(Xsp_test)"
   ]
  },
  {
   "cell_type": "code",
   "execution_count": 80,
   "id": "40f30251-6012-45e2-a581-7552a38f5d2d",
   "metadata": {},
   "outputs": [],
   "source": [
    "d_test = pd.read_csv(\"X_test.csv\",sep=\",\")\n",
    "resultat_test = pd.DataFrame({\n",
    "    'DELIVERY_START': d_test['DELIVERY_START'],  # Assuming this column exists\n",
    "    'spot_id_delta': y_test_pred\n",
    "})\n",
    "#Save the results to a CSV file\n",
    "resultat_test.to_csv('Data_class_20_11ok.csv', index=False)"
   ]
  },
  {
   "cell_type": "code",
   "execution_count": 82,
   "id": "bb8d0bec-3418-4c4d-99e1-0fcc22dfe0b0",
   "metadata": {},
   "outputs": [
    {
     "data": {
      "text/plain": [
       "[<matplotlib.lines.Line2D at 0x1f006807f80>]"
      ]
     },
     "execution_count": 82,
     "metadata": {},
     "output_type": "execute_result"
    },
    {
     "data": {
      "image/png": "[encoded data removed]",
      "text/plain": [
       "<Figure size 640x480 with 1 Axes>"
      ]
     },
     "metadata": {},
     "output_type": "display_data"
    }
   ],
   "source": [
    "plt.plot(data_merge['predicted_spot_price'])"
   ]
  }
 ],
 "metadata": {
  "colab": {
   "provenance": []
  },
  "kernelspec": {
   "display_name": "Python 3 (ipykernel)",
   "language": "python",
   "name": "python3"
  },
  "language_info": {
   "codemirror_mode": {
    "name": "ipython",
    "version": 3
   },
   "file_extension": ".py",
   "mimetype": "text/x-python",
   "name": "python",
   "nbconvert_exporter": "python",
   "pygments_lexer": "ipython3",
   "version": "3.12.4"
  },
  "widgets": {
   "application/vnd.jupyter.widget-state+json": {
    "state": {},
    "version_major": 2,
    "version_minor": 0
   }
  }
 },
 "nbformat": 4,
 "nbformat_minor": 5
}
