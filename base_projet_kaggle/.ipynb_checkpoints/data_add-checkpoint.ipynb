{
 "cells": [
  {
   "cell_type": "code",
   "execution_count": 1,
   "id": "1ad22b51-9d2d-40bd-9598-080fca876225",
   "metadata": {},
   "outputs": [],
   "source": [
    "#Importation des libraries\n",
    "import pandas as pd\n",
    "import numpy as np\n",
    "from datetime import timedelta"
   ]
  },
  {
   "cell_type": "code",
   "execution_count": 53,
   "id": "834474ff-f96e-4dbd-b220-fc0a963d0fa9",
   "metadata": {},
   "outputs": [],
   "source": [
    "pic_journal = pd.read_csv(\"pic-journalier-consommation-brute.csv\", sep=\";\")"
   ]
  },
  {
   "cell_type": "code",
   "execution_count": 54,
   "id": "2f63b8ff-8d16-41cc-ac26-862ab81d6546",
   "metadata": {},
   "outputs": [],
   "source": [
    "pic_journal=pic_journal.sort_values(['Date'])"
   ]
  },
  {
   "cell_type": "code",
   "execution_count": 55,
   "id": "b49ef2fd-7314-4747-81f4-719a6707b815",
   "metadata": {},
   "outputs": [],
   "source": [
    "\n",
    "# Convertir la colonne 'Date' en datetime si ce n'est pas déjà fait\n",
    "pic_journal['Date'] = pd.to_datetime(pic_journal['Date'])\n"
   ]
  },
  {
   "cell_type": "code",
   "execution_count": 56,
   "id": "5c80bea5-ad74-4744-9ff4-e4eb47ce765f",
   "metadata": {},
   "outputs": [],
   "source": [
    "# Étendre chaque jour à 24 heures\n",
    "hourly_data = []\n",
    "for _, row in pic_journal.iterrows():\n",
    "    for hour in range(24):\n",
    "        # Ajouter une ligne par heure\n",
    "        hourly_data.append({\n",
    "            'DELIVERY_START': row['Date'] + timedelta(hours=hour),  # Ajoute l'heure au jour de base\n",
    "            'Consommation (MW)': row['Pic journalier consommation (MW)'],  # Utilise la même valeur\n",
    "            'Température moyenne (°C)': row['Température moyenne (°C)'],    # Valeur constante\n",
    "            'Température référence (°C)': row['Température référence (°C)'] # Valeur constante\n",
    "        })\n",
    "\n",
    "# Créer un DataFrame horaire\n",
    "hourly_df = pd.DataFrame(hourly_data)"
   ]
  },
  {
   "cell_type": "code",
   "execution_count": 57,
   "id": "5dce7b1d-ee02-4092-b49b-b709d6baccf1",
   "metadata": {},
   "outputs": [
    {
     "name": "stdout",
     "output_type": "stream",
     "text": [
      "       DELIVERY_START  Consommation (MW)  Température moyenne (°C)  \\\n",
      "0 2022-01-01 02:00:00            55828.0                       9.7   \n",
      "1 2022-01-01 03:00:00            55828.0                       9.7   \n",
      "2 2022-01-01 04:00:00            55828.0                       9.7   \n",
      "3 2022-01-01 05:00:00            55828.0                       9.7   \n",
      "4 2022-01-01 06:00:00            55828.0                       9.7   \n",
      "\n",
      "   Température référence (°C)  \n",
      "0                         4.6  \n",
      "1                         4.6  \n",
      "2                         4.6  \n",
      "3                         4.6  \n",
      "4                         4.6  \n",
      "           DELIVERY_START  Consommation (MW)  Température moyenne (°C)  \\\n",
      "10865 2023-03-29 19:00:00            58250.0                      14.0   \n",
      "10866 2023-03-29 20:00:00            58250.0                      14.0   \n",
      "10867 2023-03-29 21:00:00            58250.0                      14.0   \n",
      "10868 2023-03-29 22:00:00            58250.0                      14.0   \n",
      "10869 2023-03-29 23:00:00            58250.0                      14.0   \n",
      "\n",
      "       Température référence (°C)  \n",
      "10865                         9.8  \n",
      "10866                         9.8  \n",
      "10867                         9.8  \n",
      "10868                         9.8  \n",
      "10869                         9.8  \n"
     ]
    }
   ],
   "source": [
    "# Définir les dates de début et de fin pour le filtre\n",
    "start_date = '2022-01-01 02:00:00'\n",
    "end_date = '2023-03-29 23:00:00'\n",
    "\n",
    "# Filtrer les données entre les dates de début et de fin\n",
    "filtered_df = hourly_df[(hourly_df['DELIVERY_START'] >= start_date) & (hourly_df['DELIVERY_START'] <= end_date)]\n",
    "\n",
    "# Trier par date\n",
    "filtered_df = filtered_df.sort_values(by='DELIVERY_START').reset_index(drop=True)\n",
    "\n",
    "# Afficher les premières lignes pour vérifier\n",
    "print(filtered_df.head())\n",
    "print(filtered_df.tail())"
   ]
  },
  {
   "cell_type": "markdown",
   "id": "7372bf15-af7d-4a67-babc-5ce0799511d0",
   "metadata": {},
   "source": [
    "# courbes-de-production-mensuelles-eolien-solaire-complement-de-remuneration"
   ]
  },
  {
   "cell_type": "code",
   "execution_count": 58,
   "id": "a0033a7a-be6a-4bf2-8e98-8907d61ea9ba",
   "metadata": {},
   "outputs": [],
   "source": [
    "produc_eo = pd.read_csv(\"courbes-de-production-mensuelles-eolien-solaire-complement-de-remuneration.csv\", sep=\";\")"
   ]
  },
  {
   "cell_type": "code",
   "execution_count": 59,
   "id": "f10ab20c-6311-4213-8aab-b800c062be5c",
   "metadata": {},
   "outputs": [
    {
     "name": "stdout",
     "output_type": "stream",
     "text": [
      "   prod_eolienne_MWh  prod_solaire_MWh      DELIVERY_START\n",
      "0             3153.0               2.0 2022-01-01 00:00:00\n",
      "1             3219.0               1.0 2022-01-01 01:00:00\n",
      "2             3187.0               1.0 2022-01-01 02:00:00\n",
      "3             3390.0               1.0 2022-01-01 03:00:00\n",
      "4             3558.0               1.0 2022-01-01 04:00:00\n"
     ]
    }
   ],
   "source": [
    "produc_eo=produc_eo.sort_values(by=['Date', 'Heure']).reset_index(drop=True)\n",
    "# 1. Convertir la colonne 'Date' en datetime (format année-mois-jour)\n",
    "produc_eo['Date'] = pd.to_datetime(produc_eo['Date'], format='%Y-%m-%d')\n",
    "\n",
    "# 2. Convertir la colonne 'Heure' en timedelta (en ajoutant les secondes :00)\n",
    "produc_eo['Heure'] = pd.to_timedelta(produc_eo['Heure'] + \":00\")\n",
    "\n",
    "# 3. Ajouter la colonne 'Heure' à la colonne 'Date' pour créer une nouvelle colonne 'DateTime'\n",
    "produc_eo['DELIVERY_START'] = produc_eo['Date'] + produc_eo['Heure']\n",
    "# 4. (Optionnel) Supprimer les colonnes 'Date' et 'Heure' si vous n'en avez plus besoin\n",
    "produc_eo = produc_eo.drop(columns=['Date', 'Heure'])\n",
    "\n",
    "# Afficher les premières lignes pour vérifier\n",
    "print(produc_eo.head())"
   ]
  },
  {
   "cell_type": "code",
   "execution_count": 60,
   "id": "5e4817a2-8eee-4a99-95a6-ed51b5ab35e0",
   "metadata": {},
   "outputs": [
    {
     "name": "stdout",
     "output_type": "stream",
     "text": [
      "       prod_eolienne_MWh  prod_solaire_MWh      DELIVERY_START\n",
      "10864             8759.0             325.0 2023-03-29 19:00:00\n",
      "10865            10026.0               9.0 2023-03-29 20:00:00\n",
      "10866            11140.0               3.0 2023-03-29 21:00:00\n",
      "10867            11813.0               2.0 2023-03-29 22:00:00\n",
      "10868            12067.0               2.0 2023-03-29 23:00:00\n"
     ]
    }
   ],
   "source": [
    "# Définir les dates de début et de fin pour le filtre\n",
    "start_date = '2022-01-01 02:00:00'\n",
    "end_date = '2023-03-29 23:00:00'\n",
    "\n",
    "# Filtrer les données entre les dates de début et de fin\n",
    "filtered_produc = produc_eo[(produc_eo['DELIVERY_START'] >= start_date) & (produc_eo['DELIVERY_START'] <= end_date)]\n",
    "\n",
    "# Trier par date\n",
    "filtered_produc = filtered_produc.sort_values(by='DELIVERY_START').reset_index(drop=True)\n",
    "\n",
    "# Afficher les premières lignes pour vérifier\n",
    "#print(filtered_produc.head())\n",
    "print(filtered_produc.tail())"
   ]
  },
  {
   "cell_type": "code",
   "execution_count": 61,
   "id": "569a7d1d-e3dc-4946-a0db-188d9b7d4235",
   "metadata": {},
   "outputs": [],
   "source": [
    "data_complet = pd.merge(filtered_produc, filtered_df , on=\"DELIVERY_START\")"
   ]
  },
  {
   "cell_type": "code",
   "execution_count": 62,
   "id": "52d560d6-808c-4e5f-8a37-a31bf7be9f42",
   "metadata": {},
   "outputs": [],
   "source": [
    "Xty = pd.read_csv(\"X_train.csv\", sep=\",\")"
   ]
  },
  {
   "cell_type": "code",
   "execution_count": 63,
   "id": "6586ab5e-9403-4bdf-9817-53549318702a",
   "metadata": {},
   "outputs": [],
   "source": [
    "# Convertir en datetime avec utc=True pour unifier les fuseaux horaires\n",
    "Xty['DELIVERY_START'] = pd.to_datetime(Xty['DELIVERY_START'], errors='coerce', utc=True)\n",
    "\n",
    "# Convertir en heure locale, puis supprimer le fuseau horaire pour garder l'heure inchangée\n",
    "Xty['DELIVERY_START'] = Xty['DELIVERY_START'].dt.tz_convert('Europe/Paris').dt.tz_localize(None)"
   ]
  },
  {
   "cell_type": "code",
   "execution_count": 64,
   "id": "858d08ec-122c-4221-8e0a-d7db5f2cdc55",
   "metadata": {},
   "outputs": [],
   "source": [
    "data_info = pd.merge(Xty, data_complet , on=\"DELIVERY_START\")"
   ]
  },
  {
   "cell_type": "code",
   "execution_count": 67,
   "id": "cebb7b07-c568-4e40-8c2a-50faf2556992",
   "metadata": {},
   "outputs": [
    {
     "data": {
      "text/plain": [
       "(10605, 15)"
      ]
     },
     "execution_count": 67,
     "metadata": {},
     "output_type": "execute_result"
    }
   ],
   "source": [
    "data_info.shape"
   ]
  },
  {
   "cell_type": "code",
   "execution_count": 68,
   "id": "cdf974f8-32bd-44c1-b808-c33a420c1343",
   "metadata": {},
   "outputs": [],
   "source": [
    "#Save the results to a CSV file\n",
    "data_info.to_csv('X_train_add.csv', index=False)"
   ]
  },
  {
   "cell_type": "markdown",
   "id": "599b5e08-91fe-428e-bc12-be54cb138506",
   "metadata": {},
   "source": [
    "# Zone test"
   ]
  },
  {
   "cell_type": "code",
   "execution_count": 69,
   "id": "ed71e68a-2bd2-4618-a09d-82008f758c6d",
   "metadata": {},
   "outputs": [
    {
     "name": "stdout",
     "output_type": "stream",
     "text": [
      "       DELIVERY_START  Consommation (MW)  Température moyenne (°C)  \\\n",
      "0 2023-04-02 00:00:00            53630.0                       9.2   \n",
      "1 2023-04-02 01:00:00            53630.0                       9.2   \n",
      "2 2023-04-02 02:00:00            53630.0                       9.2   \n",
      "3 2023-04-02 03:00:00            53630.0                       9.2   \n",
      "4 2023-04-02 04:00:00            53630.0                       9.2   \n",
      "\n",
      "   Température référence (°C)  \n",
      "0                        10.2  \n",
      "1                        10.2  \n",
      "2                        10.2  \n",
      "3                        10.2  \n",
      "4                        10.2  \n",
      "          DELIVERY_START  Consommation (MW)  Température moyenne (°C)  \\\n",
      "4939 2023-10-24 19:00:00            54269.0                      13.4   \n",
      "4940 2023-10-24 20:00:00            54269.0                      13.4   \n",
      "4941 2023-10-24 21:00:00            54269.0                      13.4   \n",
      "4942 2023-10-24 22:00:00            54269.0                      13.4   \n",
      "4943 2023-10-24 23:00:00            54269.0                      13.4   \n",
      "\n",
      "      Température référence (°C)  \n",
      "4939                        11.9  \n",
      "4940                        11.9  \n",
      "4941                        11.9  \n",
      "4942                        11.9  \n",
      "4943                        11.9  \n"
     ]
    }
   ],
   "source": [
    "# Définir les dates de début et de fin pour le filtre\n",
    "start_date = '2023-04-02 00:00'\n",
    "end_date = '2023-10-24 23:00'\n",
    "\n",
    "# Filtrer les données entre les dates de début et de fin\n",
    "filtered_test_pic = hourly_df[(hourly_df['DELIVERY_START'] >= start_date) & (hourly_df['DELIVERY_START'] <= end_date)]\n",
    "\n",
    "# Trier par date\n",
    "filtered_test_pic = filtered_test_pic.sort_values(by='DELIVERY_START').reset_index(drop=True)\n",
    "\n",
    "# Afficher les premières lignes pour vérifier\n",
    "print(filtered_test_pic.head())\n",
    "print(filtered_test_pic.tail())"
   ]
  },
  {
   "cell_type": "code",
   "execution_count": 70,
   "id": "ed64b8b6-7126-4cce-a4bf-988912c50178",
   "metadata": {},
   "outputs": [
    {
     "name": "stdout",
     "output_type": "stream",
     "text": [
      "   prod_eolienne_MWh  prod_solaire_MWh      DELIVERY_START\n",
      "0             8397.0               0.0 2023-04-02 00:00:00\n",
      "1             8789.0               0.0 2023-04-02 01:00:00\n",
      "2             8919.0               0.0 2023-04-02 02:00:00\n",
      "3             8956.0               0.0 2023-04-02 03:00:00\n",
      "4             8862.0               0.0 2023-04-02 04:00:00\n",
      "      prod_eolienne_MWh  prod_solaire_MWh      DELIVERY_START\n",
      "4939             4183.0               2.0 2023-10-24 19:00:00\n",
      "4940             5058.0               1.0 2023-10-24 20:00:00\n",
      "4941             5848.0               1.0 2023-10-24 21:00:00\n",
      "4942             6398.0               1.0 2023-10-24 22:00:00\n",
      "4943             7028.0               1.0 2023-10-24 23:00:00\n"
     ]
    }
   ],
   "source": [
    "# Définir les dates de début et de fin pour le filtre\n",
    "start_date = '2023-04-02 00:00'\n",
    "end_date = '2023-10-24 23:00'\n",
    "# Filtrer les données entre les dates de début et de fin\n",
    "filtered_produc_test = produc_eo[(produc_eo['DELIVERY_START'] >= start_date) & (produc_eo['DELIVERY_START'] <= end_date)]\n",
    "\n",
    "# Trier par date\n",
    "filtered_produc_test = filtered_produc_test.sort_values(by='DELIVERY_START').reset_index(drop=True)\n",
    "\n",
    "# Afficher les premières lignes pour vérifier\n",
    "print(filtered_produc_test.head())\n",
    "print(filtered_produc_test.tail())"
   ]
  },
  {
   "cell_type": "code",
   "execution_count": 71,
   "id": "f83cee0a-c4cb-4e3a-bc68-21a7dab55219",
   "metadata": {},
   "outputs": [],
   "source": [
    "data_complet_test = pd.merge(filtered_test_pic, filtered_produc_test , on=\"DELIVERY_START\")"
   ]
  },
  {
   "cell_type": "code",
   "execution_count": 72,
   "id": "23b2fb8a-d746-4657-bdbb-e490587d0610",
   "metadata": {},
   "outputs": [],
   "source": [
    "X_test = pd.read_csv(\"X_test.csv\", sep=\",\")"
   ]
  },
  {
   "cell_type": "code",
   "execution_count": 73,
   "id": "bc943319-9fc5-42f5-b17e-02ac5c963f7b",
   "metadata": {},
   "outputs": [],
   "source": [
    "# Convertir en datetime avec utc=True pour unifier les fuseaux horaires\n",
    "X_test['DELIVERY_START'] = pd.to_datetime(X_test['DELIVERY_START'], errors='coerce', utc=True)\n",
    "\n",
    "# Convertir en heure locale, puis supprimer le fuseau horaire pour garder l'heure inchangée\n",
    "X_test['DELIVERY_START'] = X_test['DELIVERY_START'].dt.tz_convert('Europe/Paris').dt.tz_localize(None)"
   ]
  },
  {
   "cell_type": "code",
   "execution_count": 74,
   "id": "85e8cf76-d705-4e74-80fa-f685f2ab901d",
   "metadata": {},
   "outputs": [],
   "source": [
    "# Effectuer la jointure\n",
    "data_info_test = pd.merge(X_test, data_complet_test, on=\"DELIVERY_START\")"
   ]
  },
  {
   "cell_type": "code",
   "execution_count": 75,
   "id": "3aa64381-cf9d-4311-9ad5-0b29d5461707",
   "metadata": {},
   "outputs": [
    {
     "data": {
      "text/plain": [
       "(4942, 10)"
      ]
     },
     "execution_count": 75,
     "metadata": {},
     "output_type": "execute_result"
    }
   ],
   "source": [
    "X_test.shape"
   ]
  },
  {
   "cell_type": "code",
   "execution_count": 76,
   "id": "111deda3-2863-4a39-bdd4-6eea1801d174",
   "metadata": {},
   "outputs": [
    {
     "data": {
      "text/plain": [
       "(4942, 15)"
      ]
     },
     "execution_count": 76,
     "metadata": {},
     "output_type": "execute_result"
    }
   ],
   "source": [
    "data_info_test.shape"
   ]
  },
  {
   "cell_type": "code",
   "execution_count": 63,
   "id": "be289f1b-54de-44e9-ac84-5971d166e863",
   "metadata": {},
   "outputs": [],
   "source": [
    "# Effectuer la jointure\n",
    "data_info_test = pd.merge(X_test, data_complet_test, on=\"DELIVERY_START\")"
   ]
  },
  {
   "cell_type": "code",
   "execution_count": 64,
   "id": "9e023370-39b3-40b3-8e19-29671174f6bf",
   "metadata": {},
   "outputs": [
    {
     "data": {
      "text/plain": [
       "(4942, 15)"
      ]
     },
     "execution_count": 64,
     "metadata": {},
     "output_type": "execute_result"
    }
   ],
   "source": [
    "data_info_test.shape"
   ]
  },
  {
   "cell_type": "code",
   "execution_count": 77,
   "id": "5e32f610-3f28-447a-9f0c-2bb41f4d0ba6",
   "metadata": {},
   "outputs": [],
   "source": [
    "data_info_test.to_csv('X_test_add.csv', index=False)"
   ]
  },
  {
   "cell_type": "code",
   "execution_count": null,
   "id": "b80a935f-5074-4ab1-beb6-56aea22a34aa",
   "metadata": {},
   "outputs": [],
   "source": []
  }
 ],
 "metadata": {
  "kernelspec": {
   "display_name": "Python 3 (ipykernel)",
   "language": "python",
   "name": "python3"
  },
  "language_info": {
   "codemirror_mode": {
    "name": "ipython",
    "version": 3
   },
   "file_extension": ".py",
   "mimetype": "text/x-python",
   "name": "python",
   "nbconvert_exporter": "python",
   "pygments_lexer": "ipython3",
   "version": "3.12.4"
  },
  "widgets": {
   "application/vnd.jupyter.widget-state+json": {
    "state": {},
    "version_major": 2,
    "version_minor": 0
   }
  }
 },
 "nbformat": 4,
 "nbformat_minor": 5
}
