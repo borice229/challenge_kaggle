{
 "cells": [
  {
   "cell_type": "markdown",
   "id": "e3b9f6c8-4131-4b7b-acdc-476403627ecc",
   "metadata": {
    "id": "e3b9f6c8-4131-4b7b-acdc-476403627ecc"
   },
   "source": [
    "<h1 style=\"text-align: center;\">Electricity price forecasting by Elmy Centré</h1>"
   ]
  },
  {
   "cell_type": "markdown",
   "id": "368fa9be-e02a-4f18-914e-062afe59dd8d",
   "metadata": {
    "id": "368fa9be-e02a-4f18-914e-062afe59dd8d"
   },
   "source": [
    "**Data description**\n",
    "\n",
    "**Index**\n",
    "\n",
    "**DELIVERY_START** : date et heure de livraison de l'électricité\n",
    "\n",
    "**Variables explicatives**\n",
    "\n",
    "**load_forecast** : prévision de consommation totale d'éléctricité en France\n",
    "\n",
    "**coal_power_available**, **gas_power_available**, **nucelear_power_available** : capacité de production totale d'électricité des centrales à charbon, gaz et nucléaire respectivement,\n",
    "\n",
    "**wind_power_forecasts_average**, **solar_power_forecasts_average** : moyenne de différentes prévisions de production totale d'électricité éolienne et solaire (respectivement),\n",
    "\n",
    "**wind_power_forecasts_std**, **solar_power_forecasts_std** : écart-type de ces mêmes prévisions,\n",
    "\n",
    "**predicted_spot_price** : prévision du prix SPOT de l'électricité issues d'un modèle interne de Elmy. Ce modèle est lancé chaque jour avant la fermeture des enchères SPOT pour le lendemain.\n",
    "\n",
    "\n",
    "**Variable cible**\n",
    "\n",
    "**spot_id_delta** : l'écart entre le VWAP des transactions sur le marché infra-journalier (Intraday) et le prix SPOT pour 1MWh d'électricité **(spot_id_delta = Intraday - SPOT)** : si la valeur est positive, le prix Intraday est supérieur au prix SPOT et inversement."
   ]
  },
  {
   "cell_type": "code",
   "execution_count": null,
   "id": "dc1f8aea-5705-435d-960d-d4d64e6b1fd1",
   "metadata": {
    "id": "dc1f8aea-5705-435d-960d-d4d64e6b1fd1"
   },
   "outputs": [],
   "source": [
    "#Instalattion des packages\n",
    "#!pip install pandas\n",
    "#!pip install numpy\n",
    "#!pip install seaborn\n",
    "#!pip install missingno\n",
    "#!pip install matplotlib\n",
    "#!pip install scikit-learn\n",
    "#!pip install statsmodels\n",
    "#!pip install xgboost"
   ]
  },
  {
   "cell_type": "code",
   "execution_count": null,
   "id": "66de9dec-df30-420d-a368-4f6fc68fe652",
   "metadata": {
    "id": "66de9dec-df30-420d-a368-4f6fc68fe652"
   },
   "outputs": [],
   "source": [
    "#pip install xgboost"
   ]
  },
  {
   "cell_type": "code",
   "execution_count": 3,
   "id": "283d1d97-a1e4-4af2-b8a9-65c1f39de6d9",
   "metadata": {
    "id": "283d1d97-a1e4-4af2-b8a9-65c1f39de6d9"
   },
   "outputs": [],
   "source": [
    "#Importation des libraries\n",
    "import pandas as pd\n",
    "import numpy as np\n",
    "import seaborn as sns\n",
    "import missingno as msno\n",
    "import matplotlib.pyplot as plt\n",
    "from sklearn.experimental import enable_iterative_imputer\n",
    "from sklearn.impute import IterativeImputer"
   ]
  },
  {
   "cell_type": "code",
   "execution_count": 4,
   "id": "d58c663a-e602-4bd5-8780-f486cff9c78f",
   "metadata": {
    "id": "d58c663a-e602-4bd5-8780-f486cff9c78f"
   },
   "outputs": [],
   "source": [
    "import statsmodels.api as sm\n",
    "\n",
    "from sklearn.preprocessing import StandardScaler\n",
    "from sklearn.model_selection import train_test_split, KFold, cross_val_score, GridSearchCV\n",
    "from sklearn.feature_selection import SelectKBest, chi2, f_regression\n",
    "\n",
    "from sklearn.linear_model import LinearRegression, Lasso, ElasticNet\n",
    "from sklearn.tree import DecisionTreeRegressor\n",
    "from sklearn.neighbors import KNeighborsRegressor\n",
    "from sklearn.svm import SVR\n",
    "from sklearn.ensemble import RandomForestRegressor, GradientBoostingRegressor, ExtraTreesRegressor, AdaBoostRegressor\n",
    "from xgboost import XGBRegressor\n",
    "from sklearn.neural_network import MLPRegressor\n",
    "\n",
    "from sklearn.metrics import mean_squared_error, r2_score"
   ]
  },
  {
   "cell_type": "code",
   "execution_count": null,
   "id": "cfb6e56e-4c3a-4328-8b26-a9daf7533e24",
   "metadata": {},
   "outputs": [],
   "source": []
  },
  {
   "cell_type": "code",
   "execution_count": 5,
   "id": "3JXbu02t_stA",
   "metadata": {
    "id": "3JXbu02t_stA"
   },
   "outputs": [],
   "source": [
    "from sklearn.model_selection import RandomizedSearchCV, KFold, cross_val_score"
   ]
  },
  {
   "cell_type": "markdown",
   "id": "6d0927bd-4f02-4e19-88d0-a3dbbda6bb84",
   "metadata": {
    "id": "6d0927bd-4f02-4e19-88d0-a3dbbda6bb84"
   },
   "source": [
    "__Importation des bases de données__"
   ]
  },
  {
   "cell_type": "code",
   "execution_count": 6,
   "id": "35bade0a-31c7-45b4-b78c-92cd304cb0cf",
   "metadata": {},
   "outputs": [],
   "source": [
    "Xty = Y_dt = pd.read_csv(\"X_trai.csv\", sep=\";\")"
   ]
  },
  {
   "cell_type": "code",
   "execution_count": 7,
   "id": "47d02398-f659-4e82-8b89-4cf5f9ff5bce",
   "metadata": {},
   "outputs": [
    {
     "data": {
      "text/html": [
       "<div>\n",
       "<style scoped>\n",
       "    .dataframe tbody tr th:only-of-type {\n",
       "        vertical-align: middle;\n",
       "    }\n",
       "\n",
       "    .dataframe tbody tr th {\n",
       "        vertical-align: top;\n",
       "    }\n",
       "\n",
       "    .dataframe thead th {\n",
       "        text-align: right;\n",
       "    }\n",
       "</style>\n",
       "<table border=\"1\" class=\"dataframe\">\n",
       "  <thead>\n",
       "    <tr style=\"text-align: right;\">\n",
       "      <th></th>\n",
       "      <th>DELIVERY_START</th>\n",
       "      <th>load_forecast</th>\n",
       "      <th>coal_power_available</th>\n",
       "      <th>gas_power_available</th>\n",
       "      <th>nucelear_power_available</th>\n",
       "      <th>wind_power_forecasts_average</th>\n",
       "      <th>solar_power_forecasts_average</th>\n",
       "      <th>wind_power_forecasts_std</th>\n",
       "      <th>solar_power_forecasts_std</th>\n",
       "      <th>predicted_spot_price</th>\n",
       "    </tr>\n",
       "  </thead>\n",
       "  <tbody>\n",
       "    <tr>\n",
       "      <th>0</th>\n",
       "      <td>2022-01-01 02:00:00+01:00</td>\n",
       "      <td>49439.0</td>\n",
       "      <td>3386.0</td>\n",
       "      <td>11487.0</td>\n",
       "      <td>44118.0</td>\n",
       "      <td>3035.0</td>\n",
       "      <td>0.0</td>\n",
       "      <td>79.248348</td>\n",
       "      <td>0.0</td>\n",
       "      <td>85.16</td>\n",
       "    </tr>\n",
       "    <tr>\n",
       "      <th>1</th>\n",
       "      <td>2022-01-01 03:00:00+01:00</td>\n",
       "      <td>46511.0</td>\n",
       "      <td>3386.0</td>\n",
       "      <td>11487.0</td>\n",
       "      <td>44118.0</td>\n",
       "      <td>3143.0</td>\n",
       "      <td>0.0</td>\n",
       "      <td>61.776532</td>\n",
       "      <td>0.0</td>\n",
       "      <td>50.00</td>\n",
       "    </tr>\n",
       "    <tr>\n",
       "      <th>2</th>\n",
       "      <td>2022-01-01 04:00:00+01:00</td>\n",
       "      <td>45158.0</td>\n",
       "      <td>3386.0</td>\n",
       "      <td>11487.0</td>\n",
       "      <td>44118.0</td>\n",
       "      <td>3288.0</td>\n",
       "      <td>0.0</td>\n",
       "      <td>44.291112</td>\n",
       "      <td>0.0</td>\n",
       "      <td>37.67</td>\n",
       "    </tr>\n",
       "    <tr>\n",
       "      <th>3</th>\n",
       "      <td>2022-01-01 05:00:00+01:00</td>\n",
       "      <td>44779.0</td>\n",
       "      <td>3386.0</td>\n",
       "      <td>11487.0</td>\n",
       "      <td>44118.0</td>\n",
       "      <td>3447.0</td>\n",
       "      <td>0.0</td>\n",
       "      <td>36.127588</td>\n",
       "      <td>0.0</td>\n",
       "      <td>39.70</td>\n",
       "    </tr>\n",
       "    <tr>\n",
       "      <th>4</th>\n",
       "      <td>2022-01-01 06:00:00+01:00</td>\n",
       "      <td>45284.0</td>\n",
       "      <td>3386.0</td>\n",
       "      <td>11487.0</td>\n",
       "      <td>44118.0</td>\n",
       "      <td>3679.0</td>\n",
       "      <td>0.0</td>\n",
       "      <td>30.983023</td>\n",
       "      <td>0.0</td>\n",
       "      <td>40.59</td>\n",
       "    </tr>\n",
       "  </tbody>\n",
       "</table>\n",
       "</div>"
      ],
      "text/plain": [
       "              DELIVERY_START  load_forecast  coal_power_available  \\\n",
       "0  2022-01-01 02:00:00+01:00        49439.0                3386.0   \n",
       "1  2022-01-01 03:00:00+01:00        46511.0                3386.0   \n",
       "2  2022-01-01 04:00:00+01:00        45158.0                3386.0   \n",
       "3  2022-01-01 05:00:00+01:00        44779.0                3386.0   \n",
       "4  2022-01-01 06:00:00+01:00        45284.0                3386.0   \n",
       "\n",
       "   gas_power_available  nucelear_power_available  \\\n",
       "0              11487.0                   44118.0   \n",
       "1              11487.0                   44118.0   \n",
       "2              11487.0                   44118.0   \n",
       "3              11487.0                   44118.0   \n",
       "4              11487.0                   44118.0   \n",
       "\n",
       "   wind_power_forecasts_average  solar_power_forecasts_average  \\\n",
       "0                        3035.0                            0.0   \n",
       "1                        3143.0                            0.0   \n",
       "2                        3288.0                            0.0   \n",
       "3                        3447.0                            0.0   \n",
       "4                        3679.0                            0.0   \n",
       "\n",
       "   wind_power_forecasts_std  solar_power_forecasts_std  predicted_spot_price  \n",
       "0                 79.248348                        0.0                 85.16  \n",
       "1                 61.776532                        0.0                 50.00  \n",
       "2                 44.291112                        0.0                 37.67  \n",
       "3                 36.127588                        0.0                 39.70  \n",
       "4                 30.983023                        0.0                 40.59  "
      ]
     },
     "execution_count": 7,
     "metadata": {},
     "output_type": "execute_result"
    }
   ],
   "source": [
    "Xty.head()"
   ]
  },
  {
   "cell_type": "code",
   "execution_count": 8,
   "id": "907187f2-b8fc-456c-b251-e2f0c9e266f7",
   "metadata": {
    "id": "907187f2-b8fc-456c-b251-e2f0c9e266f7"
   },
   "outputs": [],
   "source": [
    "# Charger le fichier CSV dans un DataFrame\n",
    "X_dt = pd.read_csv(\"X_train.csv\",sep=\",\")\n",
    "Y_dt = pd.read_csv(\"y_train.csv\",sep=\",\")\n",
    "X_test = pd.read_csv(\"X_test.csv\",sep=\",\")"
   ]
  },
  {
   "cell_type": "code",
   "execution_count": 94,
   "id": "a9e851fd-b9d1-47fe-9982-b7691227ec8b",
   "metadata": {
    "colab": {
     "base_uri": "https://localhost:8080/",
     "height": 300
    },
    "id": "a9e851fd-b9d1-47fe-9982-b7691227ec8b",
    "outputId": "c19bdb7c-4e57-4543-e8e7-ca3565032aae"
   },
   "outputs": [
    {
     "data": {
      "text/html": [
       "<div>\n",
       "<style scoped>\n",
       "    .dataframe tbody tr th:only-of-type {\n",
       "        vertical-align: middle;\n",
       "    }\n",
       "\n",
       "    .dataframe tbody tr th {\n",
       "        vertical-align: top;\n",
       "    }\n",
       "\n",
       "    .dataframe thead th {\n",
       "        text-align: right;\n",
       "    }\n",
       "</style>\n",
       "<table border=\"1\" class=\"dataframe\">\n",
       "  <thead>\n",
       "    <tr style=\"text-align: right;\">\n",
       "      <th></th>\n",
       "      <th>spot_id_delta</th>\n",
       "    </tr>\n",
       "  </thead>\n",
       "  <tbody>\n",
       "    <tr>\n",
       "      <th>count</th>\n",
       "      <td>10605.000000</td>\n",
       "    </tr>\n",
       "    <tr>\n",
       "      <th>mean</th>\n",
       "      <td>0.943358</td>\n",
       "    </tr>\n",
       "    <tr>\n",
       "      <th>std</th>\n",
       "      <td>38.093819</td>\n",
       "    </tr>\n",
       "    <tr>\n",
       "      <th>min</th>\n",
       "      <td>-1567.353547</td>\n",
       "    </tr>\n",
       "    <tr>\n",
       "      <th>25%</th>\n",
       "      <td>-11.934152</td>\n",
       "    </tr>\n",
       "    <tr>\n",
       "      <th>50%</th>\n",
       "      <td>0.059125</td>\n",
       "    </tr>\n",
       "    <tr>\n",
       "      <th>75%</th>\n",
       "      <td>12.190489</td>\n",
       "    </tr>\n",
       "    <tr>\n",
       "      <th>max</th>\n",
       "      <td>658.961329</td>\n",
       "    </tr>\n",
       "  </tbody>\n",
       "</table>\n",
       "</div>"
      ],
      "text/plain": [
       "       spot_id_delta\n",
       "count   10605.000000\n",
       "mean        0.943358\n",
       "std        38.093819\n",
       "min     -1567.353547\n",
       "25%       -11.934152\n",
       "50%         0.059125\n",
       "75%        12.190489\n",
       "max       658.961329"
      ]
     },
     "execution_count": 94,
     "metadata": {},
     "output_type": "execute_result"
    }
   ],
   "source": [
    "Y_dt.describe()"
   ]
  },
  {
   "cell_type": "code",
   "execution_count": 104,
   "id": "1408d617-908c-4a1e-94c8-db0023306293",
   "metadata": {
    "colab": {
     "base_uri": "https://localhost:8080/",
     "height": 320
    },
    "id": "1408d617-908c-4a1e-94c8-db0023306293",
    "outputId": "b70c8ab4-b955-443a-d670-dc26857705aa"
   },
   "outputs": [
    {
     "data": {
      "text/html": [
       "<div>\n",
       "<style scoped>\n",
       "    .dataframe tbody tr th:only-of-type {\n",
       "        vertical-align: middle;\n",
       "    }\n",
       "\n",
       "    .dataframe tbody tr th {\n",
       "        vertical-align: top;\n",
       "    }\n",
       "\n",
       "    .dataframe thead th {\n",
       "        text-align: right;\n",
       "    }\n",
       "</style>\n",
       "<table border=\"1\" class=\"dataframe\">\n",
       "  <thead>\n",
       "    <tr style=\"text-align: right;\">\n",
       "      <th></th>\n",
       "      <th>DELIVERY_START</th>\n",
       "      <th>load_forecast</th>\n",
       "      <th>coal_power_available</th>\n",
       "      <th>gas_power_available</th>\n",
       "      <th>nucelear_power_available</th>\n",
       "      <th>wind_power_forecasts_average</th>\n",
       "      <th>solar_power_forecasts_average</th>\n",
       "      <th>wind_power_forecasts_std</th>\n",
       "      <th>solar_power_forecasts_std</th>\n",
       "      <th>predicted_spot_price</th>\n",
       "    </tr>\n",
       "  </thead>\n",
       "  <tbody>\n",
       "    <tr>\n",
       "      <th>0</th>\n",
       "      <td>2022-01-01 02:00:00+01:00</td>\n",
       "      <td>49439.0</td>\n",
       "      <td>3386.0</td>\n",
       "      <td>11487.0</td>\n",
       "      <td>44118.0</td>\n",
       "      <td>3035.0</td>\n",
       "      <td>0.0</td>\n",
       "      <td>79.248348</td>\n",
       "      <td>0.0</td>\n",
       "      <td>NaN</td>\n",
       "    </tr>\n",
       "    <tr>\n",
       "      <th>1</th>\n",
       "      <td>2022-01-01 03:00:00+01:00</td>\n",
       "      <td>46511.0</td>\n",
       "      <td>3386.0</td>\n",
       "      <td>11487.0</td>\n",
       "      <td>44118.0</td>\n",
       "      <td>3143.0</td>\n",
       "      <td>0.0</td>\n",
       "      <td>61.776532</td>\n",
       "      <td>0.0</td>\n",
       "      <td>NaN</td>\n",
       "    </tr>\n",
       "    <tr>\n",
       "      <th>2</th>\n",
       "      <td>2022-01-01 04:00:00+01:00</td>\n",
       "      <td>45158.0</td>\n",
       "      <td>3386.0</td>\n",
       "      <td>11487.0</td>\n",
       "      <td>44118.0</td>\n",
       "      <td>3288.0</td>\n",
       "      <td>0.0</td>\n",
       "      <td>44.291112</td>\n",
       "      <td>0.0</td>\n",
       "      <td>NaN</td>\n",
       "    </tr>\n",
       "    <tr>\n",
       "      <th>3</th>\n",
       "      <td>2022-01-01 05:00:00+01:00</td>\n",
       "      <td>44779.0</td>\n",
       "      <td>3386.0</td>\n",
       "      <td>11487.0</td>\n",
       "      <td>44118.0</td>\n",
       "      <td>3447.0</td>\n",
       "      <td>0.0</td>\n",
       "      <td>36.127588</td>\n",
       "      <td>0.0</td>\n",
       "      <td>NaN</td>\n",
       "    </tr>\n",
       "    <tr>\n",
       "      <th>4</th>\n",
       "      <td>2022-01-01 06:00:00+01:00</td>\n",
       "      <td>45284.0</td>\n",
       "      <td>3386.0</td>\n",
       "      <td>11487.0</td>\n",
       "      <td>44118.0</td>\n",
       "      <td>3679.0</td>\n",
       "      <td>0.0</td>\n",
       "      <td>30.983023</td>\n",
       "      <td>0.0</td>\n",
       "      <td>NaN</td>\n",
       "    </tr>\n",
       "  </tbody>\n",
       "</table>\n",
       "</div>"
      ],
      "text/plain": [
       "              DELIVERY_START  load_forecast  coal_power_available  \\\n",
       "0  2022-01-01 02:00:00+01:00        49439.0                3386.0   \n",
       "1  2022-01-01 03:00:00+01:00        46511.0                3386.0   \n",
       "2  2022-01-01 04:00:00+01:00        45158.0                3386.0   \n",
       "3  2022-01-01 05:00:00+01:00        44779.0                3386.0   \n",
       "4  2022-01-01 06:00:00+01:00        45284.0                3386.0   \n",
       "\n",
       "   gas_power_available  nucelear_power_available  \\\n",
       "0              11487.0                   44118.0   \n",
       "1              11487.0                   44118.0   \n",
       "2              11487.0                   44118.0   \n",
       "3              11487.0                   44118.0   \n",
       "4              11487.0                   44118.0   \n",
       "\n",
       "   wind_power_forecasts_average  solar_power_forecasts_average  \\\n",
       "0                        3035.0                            0.0   \n",
       "1                        3143.0                            0.0   \n",
       "2                        3288.0                            0.0   \n",
       "3                        3447.0                            0.0   \n",
       "4                        3679.0                            0.0   \n",
       "\n",
       "   wind_power_forecasts_std  solar_power_forecasts_std  predicted_spot_price  \n",
       "0                 79.248348                        0.0                   NaN  \n",
       "1                 61.776532                        0.0                   NaN  \n",
       "2                 44.291112                        0.0                   NaN  \n",
       "3                 36.127588                        0.0                   NaN  \n",
       "4                 30.983023                        0.0                   NaN  "
      ]
     },
     "execution_count": 104,
     "metadata": {},
     "output_type": "execute_result"
    }
   ],
   "source": [
    "X_dt.head()"
   ]
  },
  {
   "cell_type": "code",
   "execution_count": 9,
   "id": "724fd336-c32d-4d6e-abc1-8dee0b1322de",
   "metadata": {
    "id": "724fd336-c32d-4d6e-abc1-8dee0b1322de"
   },
   "outputs": [],
   "source": [
    "data_merge = pd.merge(Y_dt, Xty, on=\"DELIVERY_START\")\n",
    "data_merge.sort_values(['DELIVERY_START'],inplace=True)"
   ]
  },
  {
   "cell_type": "markdown",
   "id": "4e4efe5a-ab70-41bc-99e2-524157870420",
   "metadata": {
    "id": "4e4efe5a-ab70-41bc-99e2-524157870420"
   },
   "source": [
    "notre variable contient 10605 variables 2023-03-29 23h  2022 01 01 02h "
   ]
  },
  {
   "cell_type": "code",
   "execution_count": 115,
   "id": "183b3ad6-a75b-4aea-9f25-a6e8475da6ab",
   "metadata": {
    "colab": {
     "base_uri": "https://localhost:8080/",
     "height": 313
    },
    "id": "183b3ad6-a75b-4aea-9f25-a6e8475da6ab",
    "outputId": "aacf9a87-bac8-49a0-fff4-18c55822a6bb"
   },
   "outputs": [
    {
     "data": {
      "text/html": [
       "<div>\n",
       "<style scoped>\n",
       "    .dataframe tbody tr th:only-of-type {\n",
       "        vertical-align: middle;\n",
       "    }\n",
       "\n",
       "    .dataframe tbody tr th {\n",
       "        vertical-align: top;\n",
       "    }\n",
       "\n",
       "    .dataframe thead th {\n",
       "        text-align: right;\n",
       "    }\n",
       "</style>\n",
       "<table border=\"1\" class=\"dataframe\">\n",
       "  <thead>\n",
       "    <tr style=\"text-align: right;\">\n",
       "      <th></th>\n",
       "      <th>DELIVERY_START</th>\n",
       "      <th>spot_id_delta</th>\n",
       "      <th>load_forecast</th>\n",
       "      <th>coal_power_available</th>\n",
       "      <th>gas_power_available</th>\n",
       "      <th>nucelear_power_available</th>\n",
       "      <th>wind_power_forecasts_average</th>\n",
       "      <th>solar_power_forecasts_average</th>\n",
       "      <th>wind_power_forecasts_std</th>\n",
       "      <th>solar_power_forecasts_std</th>\n",
       "      <th>predicted_spot_price</th>\n",
       "    </tr>\n",
       "  </thead>\n",
       "  <tbody>\n",
       "    <tr>\n",
       "      <th>10600</th>\n",
       "      <td>2023-03-29 19:00:00+02:00</td>\n",
       "      <td>6.029303</td>\n",
       "      <td>50814.0</td>\n",
       "      <td>3386.0</td>\n",
       "      <td>11952.0</td>\n",
       "      <td>38320.0</td>\n",
       "      <td>7552.0</td>\n",
       "      <td>651.0</td>\n",
       "      <td>247.408490</td>\n",
       "      <td>7.821622</td>\n",
       "      <td>108.11</td>\n",
       "    </tr>\n",
       "    <tr>\n",
       "      <th>10601</th>\n",
       "      <td>2023-03-29 20:00:00+02:00</td>\n",
       "      <td>13.576177</td>\n",
       "      <td>50628.0</td>\n",
       "      <td>3386.0</td>\n",
       "      <td>11952.0</td>\n",
       "      <td>38320.0</td>\n",
       "      <td>8338.0</td>\n",
       "      <td>109.0</td>\n",
       "      <td>155.795012</td>\n",
       "      <td>2.534054</td>\n",
       "      <td>125.66</td>\n",
       "    </tr>\n",
       "    <tr>\n",
       "      <th>10602</th>\n",
       "      <td>2023-03-29 21:00:00+02:00</td>\n",
       "      <td>17.478945</td>\n",
       "      <td>48201.0</td>\n",
       "      <td>3386.0</td>\n",
       "      <td>11952.0</td>\n",
       "      <td>38320.0</td>\n",
       "      <td>9115.0</td>\n",
       "      <td>0.0</td>\n",
       "      <td>126.884684</td>\n",
       "      <td>0.000000</td>\n",
       "      <td>138.01</td>\n",
       "    </tr>\n",
       "    <tr>\n",
       "      <th>10603</th>\n",
       "      <td>2023-03-29 22:00:00+02:00</td>\n",
       "      <td>17.559407</td>\n",
       "      <td>47967.0</td>\n",
       "      <td>3386.0</td>\n",
       "      <td>11952.0</td>\n",
       "      <td>38320.0</td>\n",
       "      <td>9636.0</td>\n",
       "      <td>0.0</td>\n",
       "      <td>156.669189</td>\n",
       "      <td>0.000000</td>\n",
       "      <td>136.74</td>\n",
       "    </tr>\n",
       "    <tr>\n",
       "      <th>10604</th>\n",
       "      <td>2023-03-29 23:00:00+02:00</td>\n",
       "      <td>16.503259</td>\n",
       "      <td>48444.0</td>\n",
       "      <td>3386.0</td>\n",
       "      <td>11952.0</td>\n",
       "      <td>38320.0</td>\n",
       "      <td>10140.0</td>\n",
       "      <td>0.0</td>\n",
       "      <td>204.124773</td>\n",
       "      <td>0.000000</td>\n",
       "      <td>120.32</td>\n",
       "    </tr>\n",
       "  </tbody>\n",
       "</table>\n",
       "</div>"
      ],
      "text/plain": [
       "                  DELIVERY_START  spot_id_delta  load_forecast  \\\n",
       "10600  2023-03-29 19:00:00+02:00       6.029303        50814.0   \n",
       "10601  2023-03-29 20:00:00+02:00      13.576177        50628.0   \n",
       "10602  2023-03-29 21:00:00+02:00      17.478945        48201.0   \n",
       "10603  2023-03-29 22:00:00+02:00      17.559407        47967.0   \n",
       "10604  2023-03-29 23:00:00+02:00      16.503259        48444.0   \n",
       "\n",
       "       coal_power_available  gas_power_available  nucelear_power_available  \\\n",
       "10600                3386.0              11952.0                   38320.0   \n",
       "10601                3386.0              11952.0                   38320.0   \n",
       "10602                3386.0              11952.0                   38320.0   \n",
       "10603                3386.0              11952.0                   38320.0   \n",
       "10604                3386.0              11952.0                   38320.0   \n",
       "\n",
       "       wind_power_forecasts_average  solar_power_forecasts_average  \\\n",
       "10600                        7552.0                          651.0   \n",
       "10601                        8338.0                          109.0   \n",
       "10602                        9115.0                            0.0   \n",
       "10603                        9636.0                            0.0   \n",
       "10604                       10140.0                            0.0   \n",
       "\n",
       "       wind_power_forecasts_std  solar_power_forecasts_std  \\\n",
       "10600                247.408490                   7.821622   \n",
       "10601                155.795012                   2.534054   \n",
       "10602                126.884684                   0.000000   \n",
       "10603                156.669189                   0.000000   \n",
       "10604                204.124773                   0.000000   \n",
       "\n",
       "       predicted_spot_price  \n",
       "10600                108.11  \n",
       "10601                125.66  \n",
       "10602                138.01  \n",
       "10603                136.74  \n",
       "10604                120.32  "
      ]
     },
     "execution_count": 115,
     "metadata": {},
     "output_type": "execute_result"
    }
   ],
   "source": [
    "data_merge.tail()"
   ]
  },
  {
   "cell_type": "code",
   "execution_count": 82,
   "id": "840b7008-299c-4069-8d98-ac556df36223",
   "metadata": {
    "colab": {
     "base_uri": "https://localhost:8080/"
    },
    "id": "840b7008-299c-4069-8d98-ac556df36223",
    "outputId": "8ef86e60-e9d0-4217-9bfe-4c83436a0fb0"
   },
   "outputs": [
    {
     "name": "stdout",
     "output_type": "stream",
     "text": [
      "<class 'pandas.core.frame.DataFrame'>\n",
      "RangeIndex: 10605 entries, 0 to 10604\n",
      "Data columns (total 18 columns):\n",
      " #   Column                         Non-Null Count  Dtype              \n",
      "---  ------                         --------------  -----              \n",
      " 0   DELIVERY_START                 10605 non-null  datetime64[ns, UTC]\n",
      " 1   spot_id_delta                  10605 non-null  float64            \n",
      " 2   load_forecast                  10605 non-null  float64            \n",
      " 3   coal_power_available           10605 non-null  float64            \n",
      " 4   gas_power_available            10605 non-null  float64            \n",
      " 5   nucelear_power_available       10605 non-null  float64            \n",
      " 6   wind_power_forecasts_average   10605 non-null  float64            \n",
      " 7   solar_power_forecasts_average  10605 non-null  float64            \n",
      " 8   wind_power_forecasts_std       10605 non-null  float64            \n",
      " 9   solar_power_forecasts_std      10605 non-null  float64            \n",
      " 10  predicted_spot_price           10605 non-null  float64            \n",
      " 11  hour                           10605 non-null  int32              \n",
      " 12  day_of_week                    10605 non-null  int32              \n",
      " 13  month                          10605 non-null  int32              \n",
      " 14  is_workday                     10605 non-null  int64              \n",
      " 15  Y_lag_1                        10605 non-null  float64            \n",
      " 16  Y_rolling_mean_3               10605 non-null  float64            \n",
      " 17  Y_rolling_std_3                10605 non-null  float64            \n",
      "dtypes: datetime64[ns, UTC](1), float64(13), int32(3), int64(1)\n",
      "memory usage: 1.3 MB\n"
     ]
    }
   ],
   "source": [
    "data_merge.info()"
   ]
  },
  {
   "cell_type": "markdown",
   "id": "1bbce40a-d4ee-459c-91ab-1f7be05d8c6d",
   "metadata": {
    "id": "1bbce40a-d4ee-459c-91ab-1f7be05d8c6d"
   },
   "source": [
    "__Verification des valeurs manquantes et leur gestion__"
   ]
  },
  {
   "cell_type": "code",
   "execution_count": 126,
   "id": "a6d644ab-ac91-40f7-8002-73bea43ceb4a",
   "metadata": {
    "colab": {
     "base_uri": "https://localhost:8080/",
     "height": 429
    },
    "id": "a6d644ab-ac91-40f7-8002-73bea43ceb4a",
    "outputId": "65ef3a3f-eac7-45dc-ee06-bbba98c91ed2"
   },
   "outputs": [
    {
     "data": {
      "text/plain": [
       "DELIVERY_START                    0.00\n",
       "spot_id_delta                     0.00\n",
       "load_forecast                    12.14\n",
       "coal_power_available              0.00\n",
       "gas_power_available               0.00\n",
       "nucelear_power_available          0.00\n",
       "wind_power_forecasts_average      0.00\n",
       "solar_power_forecasts_average     0.00\n",
       "wind_power_forecasts_std          0.00\n",
       "solar_power_forecasts_std         0.00\n",
       "predicted_spot_price             81.93\n",
       "dtype: float64"
      ]
     },
     "execution_count": 126,
     "metadata": {},
     "output_type": "execute_result"
    }
   ],
   "source": [
    "round((data_merge.isna().sum()/len(data_merge))*100,2)"
   ]
  },
  {
   "cell_type": "code",
   "execution_count": 127,
   "id": "55847311-eb3a-4d18-80fa-eca05af7f197",
   "metadata": {
    "colab": {
     "base_uri": "https://localhost:8080/",
     "height": 651
    },
    "id": "55847311-eb3a-4d18-80fa-eca05af7f197",
    "outputId": "f87ceb88-ba92-4467-bf86-971bd82c87d0"
   },
   "outputs": [
    {
     "data": {
      "text/plain": [
       "<Axes: >"
      ]
     },
     "execution_count": 127,
     "metadata": {},
     "output_type": "execute_result"
    },
    {
     "data": {
      "image/png": "[encoded data removed]",
      "text/plain": [
       "<Figure size 640x480 with 1 Axes>"
      ]
     },
     "metadata": {},
     "output_type": "display_data"
    }
   ],
   "source": [
    "sns.heatmap(data_merge.isnull(),yticklabels=False, cbar=False,cmap='viridis')"
   ]
  },
  {
   "cell_type": "code",
   "execution_count": 10,
   "id": "fe722e7a-878d-461f-9402-6f9959ed07c1",
   "metadata": {
    "id": "fe722e7a-878d-461f-9402-6f9959ed07c1"
   },
   "outputs": [],
   "source": [
    "# Convertir la colonne DELIVERY_START en format datetime en utilisant utc=True\n",
    "data_merge['DELIVERY_START'] = pd.to_datetime(data_merge['DELIVERY_START'], utc=True)"
   ]
  },
  {
   "cell_type": "markdown",
   "id": "2d8a25f9-e3e3-4a5d-aebd-b8cd93f70356",
   "metadata": {
    "id": "2d8a25f9-e3e3-4a5d-aebd-b8cd93f70356"
   },
   "source": [
    "__Traitement des valeurs manquantes__"
   ]
  },
  {
   "cell_type": "code",
   "execution_count": 11,
   "id": "11a32bee-0362-457b-a339-c418b3d57ce5",
   "metadata": {
    "id": "11a32bee-0362-457b-a339-c418b3d57ce5"
   },
   "outputs": [],
   "source": [
    "# Créer un imputer IterativeImputer\n",
    "#imputer = IterativeImputer(max_iter=40, random_state=0, sample_posterior=True)\n",
    "\n",
    "# Sélectionner les colonnes à imputer\n",
    "columns_to_impute = ['wind_power_forecasts_average',\n",
    "                                                   'solar_power_forecasts_average','wind_power_forecasts_std',\n",
    "                                                   'solar_power_forecasts_std','coal_power_available','gas_power_available','nucelear_power_available']\n",
    "# Imputer les colonnes spécifiées\n",
    "#data_merge[columns_to_impute] = imputer.fit_transform(data_merge[columns_to_impute])\n",
    "# Imputation par interpolation spline\n",
    "# Imputation avec interpolation linéaire\n",
    "data_merge[columns_to_impute] = data_merge[columns_to_impute].interpolate(method='linear', axis=0)"
   ]
  },
  {
   "cell_type": "code",
   "execution_count": 12,
   "id": "e4db1eb1-fc43-4731-a24c-fd42e0421c49",
   "metadata": {
    "id": "e4db1eb1-fc43-4731-a24c-fd42e0421c49"
   },
   "outputs": [],
   "source": [
    "# Création des nouvelles variables temporelles\n",
    "def create_variable_temporelle (data_merge):\n",
    "    data_merge['hour'] = data_merge['DELIVERY_START'].dt.hour\n",
    "    data_merge['day_of_week'] = data_merge['DELIVERY_START'].dt.dayofweek\n",
    "    data_merge['month'] = data_merge['DELIVERY_START'].dt.month\n",
    "    data_merge['year'] = data_merge['DELIVERY_START'].dt.year\n",
    "    data_merge['dayofyear'] = data_merge['DELIVERY_START'].dt.dayofyear\n",
    "    data_merge['quarter'] = data_merge['DELIVERY_START'].dt.quarter\n",
    "    # Création de la variable \"jour ouvré\"\n",
    "    #data_merge['is_workday'] = data_merge['day_of_week'].apply(lambda x: 1 if x < 5 else 0)\n",
    "    return data_merge"
   ]
  },
  {
   "cell_type": "code",
   "execution_count": 13,
   "id": "8b007850-d463-4a85-a622-40be8f29afdc",
   "metadata": {},
   "outputs": [],
   "source": [
    "data_merge=create_variable_temporelle (data_merge)"
   ]
  },
  {
   "cell_type": "code",
   "execution_count": null,
   "id": "4af39627-d759-4155-8657-1c1bc07e54dd",
   "metadata": {},
   "outputs": [],
   "source": [
    "#spot_id_delta = Y\n",
    "# Création des retards et des moyennes glissantes\n",
    "data_merge['Y_lag_1'] = data_merge['spot_id_delta'].shift(1)\n",
    "data_merge['Y_rolling_mean_6'] = data_merge['spot_id_delta'].rolling(window=6).mean()\n",
    "data_merge['Y_rolling_std_6'] = data_merge['spot_id_delta'].rolling(window=6).std()\n",
    "data_merge['Y_gas_mean_6'] = data_merge['gas_power_available'].rolling(window=6).mean()\n",
    "data_merge['Y_gas_std_6'] = data_merge['gas_power_available'].rolling(window=6).std()\n",
    "data_merge['Y_coal_mean_6'] = data_merge['coal_power_available'].rolling(window=6).mean()\n",
    "data_merge['Y_coal_std_6'] = data_merge['coal_power_available'].rolling(window=6).std()\n",
    "\n",
    "\n",
    "\n",
    "# Remplacer les valeurs manquantes uniquement dans les colonnes des retards et moyennes glissantes\n",
    "data_merge[['Y_coal_std_6','Y_coal_mean_6','Y_gas_std_6','Y_gas_mean_6','Y_lag_1', 'Y_rolling_mean_6', 'Y_rolling_std_6']] = data_merge[['Y_coal_std_6','Y_coal_mean_6','Y_gas_std_6','Y_gas_mean_6','Y_lag_1', 'Y_rolling_mean_6', 'Y_rolling_std_6']].fillna(0)"
   ]
  },
  {
   "cell_type": "code",
   "execution_count": 142,
   "id": "8e138852-8bf6-4373-93a6-f8664b99242f",
   "metadata": {
    "colab": {
     "base_uri": "https://localhost:8080/",
     "height": 688
    },
    "id": "8e138852-8bf6-4373-93a6-f8664b99242f",
    "outputId": "e9e03cd4-3282-4727-e8e3-d30e21deb8cf"
   },
   "outputs": [
    {
     "data": {
      "image/png": "[encoded data removed]",
      "text/plain": [
       "<Figure size 900x900 with 2 Axes>"
      ]
     },
     "metadata": {},
     "output_type": "display_data"
    }
   ],
   "source": [
    "# Carte des corrélations\n",
    "\n",
    "plt.figure(figsize=(9,9))\n",
    "\n",
    "mask = np.triu(np.ones_like(data_merge.iloc[:, 1:].corr(), dtype=bool))\n",
    "\n",
    "sns.heatmap(data_merge.iloc[:, 1:].corr(),\n",
    "            mask=mask, center=0, cmap='RdBu', linewidths=1,\n",
    "            annot=True, fmt=\".2f\", vmin=-1, vmax=1\n",
    ")\n",
    "\n",
    "plt.title('Carte des corrélations', fontsize=15, fontweight=\"bold\")\n",
    "\n",
    "plt.show()"
   ]
  },
  {
   "cell_type": "code",
   "execution_count": 132,
   "id": "c5692803-9915-4035-8ce0-8f3f76c6005a",
   "metadata": {},
   "outputs": [],
   "source": [
    "######   Nouveau\n",
    "\n",
    "# Initialisation du seed\n",
    "seed = 123\n",
    "\n",
    "# Fonction pour créer les modèles avec paramètres ajustables\n",
    "def create_models(params=None):\n",
    "    if params is None:\n",
    "        params = {\n",
    "            'LR': {},\n",
    "            'LASSO': {'alpha': 1.0},\n",
    "            'KNN': {'n_neighbors': 5},\n",
    "            'MLP': {'hidden_layer_sizes': (100,), 'activation': 'relu', 'solver': 'adam', 'alpha': 0.0001, 'max_iter': 2000, 'random_state': seed},\n",
    "            'XGBOOST': {'random_state': seed},\n",
    "            'GBR': {'n_estimators': 100, 'learning_rate': 0.1, 'max_depth': 3, 'min_samples_split': 2},\n",
    "            'RFR': {'n_estimators': 100, 'max_depth': 20, 'min_samples_split': 2, 'random_state': seed, 'bootstrap': True}\n",
    "            \n",
    "        }\n",
    "    models = {\n",
    "        'LR': LinearRegression(**params['LR']),\n",
    "        'LASSO': Lasso(**params['LASSO']),\n",
    "        'KNN': KNeighborsRegressor(**params['KNN']),\n",
    "        'MLP': MLPRegressor(**params['MLP']),\n",
    "        'XGBOOST': XGBRegressor(**params['XGBOOST']),\n",
    "        'GBR': GradientBoostingRegressor(**params['GBR']),\n",
    "        'RFR': RandomForestRegressor(**params['RFR'])\n",
    "        \n",
    "    }\n",
    "    return models\n",
    "\n",
    "# Hyperparamètres à ajuster pour chaque modèle\n",
    "param_grids = {\n",
    "    'LR': {},\n",
    "    'LASSO': {'alpha': np.logspace(-4, 0, 50)},\n",
    "    'KNN': {'n_neighbors': list(range(1, 31))},\n",
    "    'MLP': {'hidden_layer_sizes': [(50,), (100,), (50, 50)], 'activation': ['relu', 'tanh'], 'alpha': [0.0001, 0.001]},\n",
    "    'XGBOOST': {'n_estimators': [50, 100, 200], 'max_depth': [3, 5, 7], 'learning_rate': [0.01, 0.1, 0.2]},\n",
    "    'GBR': {'n_estimators': [50, 100, 200], 'learning_rate': [0.01, 0.1, 0.2], 'max_depth': [3, 5, 7]},\n",
    "    'RFR': {'n_estimators': [50, 100, 200], 'max_depth': [None, 10, 20, 30], 'min_samples_split': [2, 5, 10]}\n",
    "    \n",
    "}\n",
    "\n",
    "# Fonction d'évaluation des modèles avec ajustement des hyperparamètres\n",
    "def evaluate_models(models, X_train, Y_train, X_test, Y_test, num_folds=5):\n",
    "    scoring = 'neg_mean_squared_error'\n",
    "    results = {}\n",
    "\n",
    "    for model_name, model in models.items():\n",
    "        kfold = KFold(n_splits=num_folds)\n",
    "\n",
    "        # Recherche des meilleurs paramètres si disponible dans le param_grids\n",
    "        if model_name in param_grids and param_grids[model_name]:\n",
    "            random_search = RandomizedSearchCV(\n",
    "                estimator=model,\n",
    "                param_distributions=param_grids[model_name],\n",
    "                n_iter=10,  # Limiter le nombre d'itérations pour des résultats rapides\n",
    "                scoring=scoring,\n",
    "                cv=kfold,\n",
    "                random_state=seed,\n",
    "                n_jobs=-1\n",
    "            )\n",
    "            random_search.fit(X_train, Y_train)\n",
    "            best_model = random_search.best_estimator_\n",
    "            print(f\"Meilleurs paramètres pour {model_name}: {random_search.best_params_}\")\n",
    "        else:\n",
    "            best_model = model.fit(X_train, Y_train)\n",
    "\n",
    "        # Calcul des scores de validation croisée\n",
    "        cv_results = np.sqrt(-1 * cross_val_score(best_model, X_train, Y_train, cv=kfold, scoring=scoring))\n",
    "\n",
    "        # Calcul des métriques\n",
    "        results[model_name] = {\n",
    "            'model': best_model,\n",
    "            'RMSE train': np.sqrt(mean_squared_error(Y_train, best_model.predict(X_train))),\n",
    "            'RMSE test': np.sqrt(mean_squared_error(Y_test, best_model.predict(X_test))),\n",
    "            'Mean CV results': cv_results.mean(),\n",
    "            'Std CV results': cv_results.std(),\n",
    "            'R² train': r2_score(Y_train, best_model.predict(X_train)),\n",
    "            'R² test': r2_score(Y_test, best_model.predict(X_test))\n",
    "        }\n",
    "\n",
    "    return pd.DataFrame.from_dict(results, orient='index')"
   ]
  },
  {
   "cell_type": "code",
   "execution_count": 20,
   "id": "Zqt4nFyT90Jp",
   "metadata": {
    "id": "Zqt4nFyT90Jp"
   },
   "outputs": [],
   "source": [
    "######   Nouveau\n",
    "\n",
    "# Initialisation du seed\n",
    "seed = 123\n",
    "\n",
    "# Fonction pour créer les modèles avec paramètres ajustables\n",
    "def create_models(params=None):\n",
    "    if params is None:\n",
    "        params = {\n",
    "            'LR': {},\n",
    "            'LASSO': {'alpha': 1.0},\n",
    "            'EN': {'alpha': 1.0, 'l1_ratio': 0.5},\n",
    "            'KNN': {'n_neighbors': 5},\n",
    "            'CART': {'random_state': seed},\n",
    "            'SVR': {},\n",
    "            'MLP': {'hidden_layer_sizes': (100,), 'activation': 'relu', 'solver': 'adam', 'alpha': 0.0001, 'max_iter': 3000, 'random_state': seed},\n",
    "            'ABR': {'random_state': seed},\n",
    "            'XGBOOST': {'random_state': seed},\n",
    "            'GBR': {'n_estimators': 100, 'learning_rate': 0.1, 'max_depth': 3, 'min_samples_split': 2},\n",
    "            'RFR': {'n_estimators': 100, 'max_depth': 20, 'min_samples_split': 2, 'random_state': seed, 'bootstrap': True},\n",
    "            'ETR': {'random_state': seed}\n",
    "        }\n",
    "    models = {\n",
    "        'LR': LinearRegression(**params['LR']),\n",
    "        'LASSO': Lasso(**params['LASSO']),\n",
    "        'EN': ElasticNet(**params['EN']),\n",
    "        'KNN': KNeighborsRegressor(**params['KNN']),\n",
    "        'CART': DecisionTreeRegressor(**params['CART']),\n",
    "        'SVR': SVR(**params['SVR']),\n",
    "        'MLP': MLPRegressor(**params['MLP']),\n",
    "        'ABR': AdaBoostRegressor(**params['ABR']),\n",
    "        'XGBOOST': XGBRegressor(**params['XGBOOST']),\n",
    "        'GBR': GradientBoostingRegressor(**params['GBR']),\n",
    "        'RFR': RandomForestRegressor(**params['RFR']),\n",
    "        'ETR': ExtraTreesRegressor(**params['ETR'])\n",
    "    }\n",
    "    return models\n",
    "\n",
    "# Hyperparamètres à ajuster pour chaque modèle\n",
    "param_grids = {\n",
    "    'LR': {},\n",
    "    'LASSO': {'alpha': np.logspace(-4, 0, 50)},\n",
    "    'EN': {'alpha': np.logspace(-4, 0, 50), 'l1_ratio': np.linspace(0, 1, 10)},\n",
    "    'KNN': {'n_neighbors': list(range(1, 31))},\n",
    "    'CART': {'max_depth': [None, 10, 20, 30, 40, 50], 'min_samples_split': [2, 5, 10]},\n",
    "    'SVR': {'C': np.logspace(-3, 3, 7), 'epsilon': [0.01, 0.1, 1]},\n",
    "    'MLP': {'hidden_layer_sizes': [(50,), (100,), (50, 50)], 'activation': ['relu', 'tanh'], 'alpha': [0.0001, 0.001]},\n",
    "    'ABR': {'n_estimators': [50, 100, 200]},\n",
    "    'XGBOOST': {'n_estimators': [50, 100, 200], 'max_depth': [3, 5, 7], 'learning_rate': [0.01, 0.1, 0.2]},\n",
    "    'GBR': {'n_estimators': [50, 100, 200], 'learning_rate': [0.01, 0.1, 0.2], 'max_depth': [3, 5, 7]},\n",
    "    'RFR': {'n_estimators': [50, 100, 200], 'max_depth': [None, 10, 20, 30], 'min_samples_split': [2, 5, 10]},\n",
    "    'ETR': {'n_estimators': [50, 100, 200], 'max_depth': [None, 10, 20, 30]}\n",
    "}\n",
    "\n",
    "# Fonction d'évaluation des modèles avec ajustement des hyperparamètres\n",
    "def evaluate_models(models, X_train, Y_train, X_test, Y_test, num_folds=5):\n",
    "    scoring = 'neg_mean_squared_error'\n",
    "    results = {}\n",
    "\n",
    "    for model_name, model in models.items():\n",
    "        kfold = KFold(n_splits=num_folds)\n",
    "\n",
    "        # Recherche des meilleurs paramètres si disponible dans le param_grids\n",
    "        if model_name in param_grids and param_grids[model_name]:\n",
    "            random_search = RandomizedSearchCV(\n",
    "                estimator=model,\n",
    "                param_distributions=param_grids[model_name],\n",
    "                n_iter=10,  # Limiter le nombre d'itérations pour des résultats rapides\n",
    "                scoring=scoring,\n",
    "                cv=kfold,\n",
    "                random_state=seed,\n",
    "                n_jobs=-1\n",
    "            )\n",
    "            random_search.fit(X_train, Y_train)\n",
    "            best_model = random_search.best_estimator_\n",
    "            print(f\"Meilleurs paramètres pour {model_name}: {random_search.best_params_}\")\n",
    "        else:\n",
    "            best_model = model.fit(X_train, Y_train)\n",
    "\n",
    "        # Calcul des scores de validation croisée\n",
    "        cv_results = np.sqrt(-1 * cross_val_score(best_model, X_train, Y_train, cv=kfold, scoring=scoring))\n",
    "\n",
    "        # Calcul des métriques\n",
    "        results[model_name] = {\n",
    "            'model': best_model,\n",
    "            'RMSE train': np.sqrt(mean_squared_error(Y_train, best_model.predict(X_train))),\n",
    "            'RMSE test': np.sqrt(mean_squared_error(Y_test, best_model.predict(X_test))),\n",
    "            'Mean CV results': cv_results.mean(),\n",
    "            'Std CV results': cv_results.std(),\n",
    "            'R² train': r2_score(Y_train, best_model.predict(X_train)),\n",
    "            'R² test': r2_score(Y_test, best_model.predict(X_test))\n",
    "        }\n",
    "\n",
    "    return pd.DataFrame.from_dict(results, orient='index')"
   ]
  },
  {
   "cell_type": "code",
   "execution_count": null,
   "id": "87921009-a206-4e95-b02e-9300dbf0c5bd",
   "metadata": {
    "id": "87921009-a206-4e95-b02e-9300dbf0c5bd"
   },
   "outputs": [],
   "source": [
    "# Initialisation du seed\n",
    "seed = 123\n",
    "\n",
    "# Fonction pour créer les modèles avec paramètres ajustables\n",
    "def create_models(params=None):\n",
    "    # Par défaut, les paramètres seront définis pour chaque modèle si non spécifiés\n",
    "    if params is None:\n",
    "        params = {\n",
    "            'LR': {},\n",
    "            'LASSO': {'alpha': 1.0},\n",
    "            'EN': {'alpha': 1.0, 'l1_ratio': 0.5},\n",
    "            'KNN': {'n_neighbors': 5},\n",
    "            'CART': {'random_state': seed},\n",
    "            'SVR': {},\n",
    "            'MLP': {'random_state': seed, 'max_iter': 3000, 'learning_rate_init': 0.001},\n",
    "            'ABR': {'random_state': seed},\n",
    "            'XGBOOST': {'random_state': seed},\n",
    "            'GBR': {'random_state': seed},\n",
    "            'RFR': {'random_state': seed},\n",
    "            'ETR': {'random_state': seed}\n",
    "        }\n",
    "\n",
    "    # Création du dictionnaire de modèles avec paramètres\n",
    "    models = {\n",
    "        'LR': LinearRegression(**params['LR']),\n",
    "        'LASSO': Lasso(**params['LASSO']),\n",
    "        'EN': ElasticNet(**params['EN']),\n",
    "        'KNN': KNeighborsRegressor(**params['KNN']),\n",
    "        'CART': DecisionTreeRegressor(**params['CART']),\n",
    "        'SVR': SVR(**params['SVR']),\n",
    "        'MLP': MLPRegressor(**params['MLP']),\n",
    "        'ABR': AdaBoostRegressor(**params['ABR']),\n",
    "        'XGBOOST': XGBRegressor(**params['XGBOOST']),\n",
    "        'GBR': GradientBoostingRegressor(**params['GBR']),\n",
    "        'RFR': RandomForestRegressor(**params['RFR']),\n",
    "        'ETR': ExtraTreesRegressor(**params['ETR'])\n",
    "    }\n",
    "    return models\n",
    "\n",
    "# Fonction d'évaluation des modèles\n",
    "def evaluate_models(models, X_train, Y_train, X_test, Y_test, num_folds=5):\n",
    "    scoring = 'neg_mean_squared_error'\n",
    "    results = {}\n",
    "\n",
    "    for model_name, model in models.items():\n",
    "        kfold = KFold(n_splits=num_folds)\n",
    "\n",
    "        # Calcul des scores de validation croisée\n",
    "        cv_results = np.sqrt(-1 * cross_val_score(model, X_train, Y_train, cv=kfold, scoring=scoring))\n",
    "\n",
    "        # Ajustement du modèle\n",
    "        fitted_model = model.fit(X_train, Y_train)\n",
    "\n",
    "        # Calcul des métriques\n",
    "        results[model_name] = {\n",
    "            'model': fitted_model,\n",
    "            'RMSE train': np.sqrt(mean_squared_error(Y_train, fitted_model.predict(X_train))),\n",
    "            'RMSE test': np.sqrt(mean_squared_error(Y_test, fitted_model.predict(X_test))),\n",
    "            'Mean CV results': cv_results.mean(),\n",
    "            'Std CV results': cv_results.std(),\n",
    "            'R² train': r2_score(Y_train, fitted_model.predict(X_train)),\n",
    "            'R² test': r2_score(Y_test, fitted_model.predict(X_test))\n",
    "        }\n",
    "\n",
    "    return pd.DataFrame.from_dict(results, orient='index')"
   ]
  },
  {
   "cell_type": "markdown",
   "id": "99df2bb3-9352-41eb-9423-e380716a9be8",
   "metadata": {
    "id": "99df2bb3-9352-41eb-9423-e380716a9be8"
   },
   "source": [
    "# La variable load_forecast"
   ]
  },
  {
   "cell_type": "code",
   "execution_count": 14,
   "id": "7d1615ca-f652-4f83-af0a-34ca6c753607",
   "metadata": {
    "colab": {
     "base_uri": "https://localhost:8080/",
     "height": 742
    },
    "id": "7d1615ca-f652-4f83-af0a-34ca6c753607",
    "outputId": "694899bb-0c7b-4bf2-a81a-978ffdc0775c"
   },
   "outputs": [
    {
     "data": {
      "text/plain": [
       "DELIVERY_START                   0.0\n",
       "spot_id_delta                    0.0\n",
       "load_forecast                    0.0\n",
       "coal_power_available             0.0\n",
       "gas_power_available              0.0\n",
       "nucelear_power_available         0.0\n",
       "wind_power_forecasts_average     0.0\n",
       "solar_power_forecasts_average    0.0\n",
       "wind_power_forecasts_std         0.0\n",
       "solar_power_forecasts_std        0.0\n",
       "hour                             0.0\n",
       "day_of_week                      0.0\n",
       "month                            0.0\n",
       "year                             0.0\n",
       "dayofyear                        0.0\n",
       "quarter                          0.0\n",
       "dtype: float64"
      ]
     },
     "execution_count": 14,
     "metadata": {},
     "output_type": "execute_result"
    }
   ],
   "source": [
    "data_loadf = data_merge.dropna(subset=['load_forecast'])\n",
    "#data_loadf=data_loadf.drop(columns=['predicted_spot_price','solar_power_forecasts_average','wind_power_forecasts_std'])\n",
    "data_loadf=data_loadf.drop(columns=['predicted_spot_price'])\n",
    "round((data_loadf.isna().sum()/len(data_loadf))*100,2)"
   ]
  },
  {
   "cell_type": "code",
   "execution_count": 15,
   "id": "e544e878-c881-476f-a6f1-c32302b143f1",
   "metadata": {
    "id": "e544e878-c881-476f-a6f1-c32302b143f1"
   },
   "outputs": [],
   "source": [
    "# Séparer la variable cible et les variables explicatives\n",
    "X_loadf_train = data_loadf.drop(columns=['load_forecast', 'DELIVERY_START'])\n",
    "y_loadf_train = data_loadf['load_forecast']\n",
    "\n",
    "# Séparer les données d'entraînement et de test\n",
    "Xlf_train, Xlf_test, ylf_train, ylf_test = train_test_split(X_loadf_train, y_loadf_train, test_size=0.1, random_state=42)\n"
   ]
  },
  {
   "cell_type": "code",
   "execution_count": 16,
   "id": "6d0f8e18-7d72-4846-97b1-4bc089df8ade",
   "metadata": {
    "id": "6d0f8e18-7d72-4846-97b1-4bc089df8ade"
   },
   "outputs": [],
   "source": [
    "#Standadiser\n",
    "# Initialisation du scaler\n",
    "scaler = StandardScaler()\n",
    "# Appliquer le scaler sur les données d'entraînement\n",
    "Xlf_train = scaler.fit_transform(Xlf_train)\n",
    "\n",
    "# Appliquer le même scaler sur les données de test\n",
    "Xlf_test = scaler.transform(Xlf_test)"
   ]
  },
  {
   "cell_type": "code",
   "execution_count": 19,
   "id": "298953a8-0a7a-4f61-b178-4b2f992363e4",
   "metadata": {},
   "outputs": [
    {
     "name": "stdout",
     "output_type": "stream",
     "text": [
      "RMSE pour Random Forest : 1468.628986144229\n",
      "RMSE pour XGBoost : 1027.04594729178\n",
      "R² pour Random Forest : 0.9820821212490415\n",
      "R² pour XGBoost : 0.991237215150582\n"
     ]
    }
   ],
   "source": [
    "seed=123\n",
    "# Initialiser les modèles\n",
    "rf_model = RandomForestRegressor(n_estimators=100, random_state=seed)\n",
    "xgb_model = XGBRegressor(n_estimators=100, random_state=seed)\n",
    "\n",
    "# Entraîner les modèles\n",
    "rf_model.fit(Xlf_train, ylf_train)\n",
    "xgb_model.fit(Xlf_train, ylf_train)\n",
    "\n",
    "# Prédictions\n",
    "rf_pred = rf_model.predict(Xlf_test)\n",
    "xgb_pred = xgb_model.predict(Xlf_test)\n",
    "\n",
    "# Calculer les métriques\n",
    "rf_rmse = np.sqrt(mean_squared_error(ylf_test, rf_pred))\n",
    "xgb_rmse = np.sqrt(mean_squared_error(ylf_test, xgb_pred))\n",
    "\n",
    "# Calcule de R²\n",
    "R2rf = r2_score(ylf_test, rf_pred)\n",
    "R2xg = r2_score(ylf_test, xgb_pred)\n",
    "\n",
    "print(f\"RMSE pour Random Forest : {rf_rmse}\")\n",
    "print(f\"RMSE pour XGBoost : {xgb_rmse}\")\n",
    "print(f\"R² pour Random Forest : {R2rf}\")\n",
    "print(f\"R² pour XGBoost : {R2xg}\")"
   ]
  },
  {
   "cell_type": "code",
   "execution_count": null,
   "id": "1f6c4e17-5bfd-40bb-844e-9d7c2a549bc3",
   "metadata": {
    "colab": {
     "base_uri": "https://localhost:8080/",
     "height": 1000
    },
    "id": "1f6c4e17-5bfd-40bb-844e-9d7c2a549bc3",
    "outputId": "b11c97bd-a6bf-42f8-91c9-551f04bb4e32"
   },
   "outputs": [],
   "source": [
    "# Initialisation des paramètres\n",
    "seed = 123\n",
    "#iter = 3000\n",
    "#lr = 0.001\n",
    "mdl_lf= create_models(params=None)\n",
    "# Évaluation des modèles\n",
    "results_metrics_lf = evaluate_models(mdl_lf, Xlf_train, ylf_train, Xlf_test, ylf_test,num_folds=10)\n",
    "results_metrics_lf"
   ]
  },
  {
   "cell_type": "code",
   "execution_count": 16,
   "id": "ba9e9fb1-2343-4605-bcc1-628a26fb605a",
   "metadata": {
    "colab": {
     "base_uri": "https://localhost:8080/",
     "height": 501
    },
    "id": "ba9e9fb1-2343-4605-bcc1-628a26fb605a",
    "outputId": "da047d5f-ccf3-4058-bb4a-67718f3c864d"
   },
   "outputs": [
    {
     "data": {
      "text/plain": [
       "<Axes: >"
      ]
     },
     "execution_count": 16,
     "metadata": {},
     "output_type": "execute_result"
    },
    {
     "data": {
      "image/png": "[encoded data removed]",
      "text/plain": [
       "<Figure size 640x480 with 1 Axes>"
      ]
     },
     "metadata": {},
     "output_type": "display_data"
    }
   ],
   "source": [
    "# Affichage des résultats\n",
    "with pd.option_context('display.precision', 3):\n",
    "    best_printlf = results_metrics_lf.sort_values(by='RMSE test', ascending=True)\n",
    "\n",
    "# Comparaison des erreurs d'entraînement et de test\n",
    "best_printlf[['RMSE train', 'RMSE test']].plot(kind='bar')"
   ]
  },
  {
   "cell_type": "code",
   "execution_count": 17,
   "id": "58da7f05-11d0-41a0-bc8f-d4100767eb92",
   "metadata": {
    "id": "58da7f05-11d0-41a0-bc8f-d4100767eb92"
   },
   "outputs": [],
   "source": [
    "best_mdlf=results_metrics_lf.loc['KNN', 'model']"
   ]
  },
  {
   "cell_type": "code",
   "execution_count": 20,
   "id": "c64439f8-f328-4482-b373-52f3113babb1",
   "metadata": {
    "id": "c64439f8-f328-4482-b373-52f3113babb1"
   },
   "outputs": [],
   "source": [
    "#la base avec les valeurs manquantes\n",
    "data_lf_with_na = data_merge[data_merge['load_forecast'].isna()]\n",
    "\n",
    "#definir les valeurs pour la prediction\n",
    "Xlf_predi= data_lf_with_na.drop(columns=['DELIVERY_START', 'load_forecast','predicted_spot_price'])"
   ]
  },
  {
   "cell_type": "code",
   "execution_count": 21,
   "id": "f2ce8a0a-6aa7-4879-83be-70e2ec9357de",
   "metadata": {},
   "outputs": [],
   "source": [
    "xU = Xlf_predi.copy()"
   ]
  },
  {
   "cell_type": "code",
   "execution_count": 22,
   "id": "d8ce0456-bd09-40d9-b817-fb1b544f4366",
   "metadata": {},
   "outputs": [],
   "source": [
    "# Appliquer le même scaler sur les données de test\n",
    "Xlf_predi = scaler.transform(Xlf_predi)"
   ]
  },
  {
   "cell_type": "code",
   "execution_count": 23,
   "id": "fe1948ac-0c96-4e58-8199-df6fccaeaef6",
   "metadata": {
    "colab": {
     "base_uri": "https://localhost:8080/"
    },
    "id": "fe1948ac-0c96-4e58-8199-df6fccaeaef6",
    "outputId": "b11b0c5c-584f-4d48-edd5-d3441cbb178c"
   },
   "outputs": [],
   "source": [
    "# Remplir les valeurs manquantes dans le DataFrame d'origine\n",
    "data_merge.loc[data_merge['load_forecast'].isna(), 'load_forecast'] =best_mdlf.predict(Xlf_predi)"
   ]
  },
  {
   "cell_type": "code",
   "execution_count": 23,
   "id": "76b64d7e-124d-450c-a3df-ae3ef3426306",
   "metadata": {
    "colab": {
     "base_uri": "https://localhost:8080/"
    },
    "id": "fe1948ac-0c96-4e58-8199-df6fccaeaef6",
    "outputId": "b11b0c5c-584f-4d48-edd5-d3441cbb178c"
   },
   "outputs": [],
   "source": [
    "# Remplir les valeurs manquantes dans le DataFrame d'origine\n",
    "data_merge.loc[data_merge['load_forecast'].isna(), 'load_forecast'] =xgb_model.predict(Xlf_predi)"
   ]
  },
  {
   "cell_type": "code",
   "execution_count": 24,
   "id": "2a7e858c-cdba-476b-b5fa-d4edf6c95a25",
   "metadata": {},
   "outputs": [
    {
     "data": {
      "text/plain": [
       "DELIVERY_START                    0.00\n",
       "spot_id_delta                     0.00\n",
       "load_forecast                     0.00\n",
       "coal_power_available              0.00\n",
       "gas_power_available               0.00\n",
       "nucelear_power_available          0.00\n",
       "wind_power_forecasts_average      0.00\n",
       "solar_power_forecasts_average     0.00\n",
       "wind_power_forecasts_std          0.00\n",
       "solar_power_forecasts_std         0.00\n",
       "predicted_spot_price             81.93\n",
       "hour                              0.00\n",
       "day_of_week                       0.00\n",
       "month                             0.00\n",
       "year                              0.00\n",
       "dayofyear                         0.00\n",
       "quarter                           0.00\n",
       "dtype: float64"
      ]
     },
     "execution_count": 24,
     "metadata": {},
     "output_type": "execute_result"
    }
   ],
   "source": [
    "round((data_merge.isna().sum()/len(data_merge))*100,2)"
   ]
  },
  {
   "cell_type": "markdown",
   "id": "c7b8cbf0-90f5-4225-8172-6dacd5f90488",
   "metadata": {
    "id": "c7b8cbf0-90f5-4225-8172-6dacd5f90488"
   },
   "source": [
    "# Traitement de la variable predicted_spot_price"
   ]
  },
  {
   "cell_type": "code",
   "execution_count": 25,
   "id": "119c1b6c-c53b-437d-b174-145ddba9bfc4",
   "metadata": {
    "colab": {
     "base_uri": "https://localhost:8080/",
     "height": 774
    },
    "id": "119c1b6c-c53b-437d-b174-145ddba9bfc4",
    "outputId": "13a1adc3-a4a4-4a7e-85de-e063f35c6a3d"
   },
   "outputs": [
    {
     "data": {
      "text/plain": [
       "DELIVERY_START                   0.0\n",
       "spot_id_delta                    0.0\n",
       "load_forecast                    0.0\n",
       "coal_power_available             0.0\n",
       "gas_power_available              0.0\n",
       "nucelear_power_available         0.0\n",
       "wind_power_forecasts_average     0.0\n",
       "solar_power_forecasts_average    0.0\n",
       "wind_power_forecasts_std         0.0\n",
       "solar_power_forecasts_std        0.0\n",
       "predicted_spot_price             0.0\n",
       "hour                             0.0\n",
       "day_of_week                      0.0\n",
       "month                            0.0\n",
       "year                             0.0\n",
       "dayofyear                        0.0\n",
       "quarter                          0.0\n",
       "dtype: float64"
      ]
     },
     "execution_count": 25,
     "metadata": {},
     "output_type": "execute_result"
    }
   ],
   "source": [
    "data_predspot = data_merge.dropna(subset=['predicted_spot_price'])\n",
    "\n",
    "round((data_predspot.isna().sum()/len(data_predspot))*100,2)"
   ]
  },
  {
   "cell_type": "code",
   "execution_count": 29,
   "id": "ef607ea6-4438-4dd7-a43b-57622b9461fc",
   "metadata": {
    "id": "ef607ea6-4438-4dd7-a43b-57622b9461fc"
   },
   "outputs": [],
   "source": [
    "# Séparer la variable cible et les variables explicatives\n",
    "X_Spot_price_train = data_predspot.drop(columns=['predicted_spot_price', 'DELIVERY_START'])\n",
    "y_Spot_price_train = data_predspot['predicted_spot_price']\n",
    "\n",
    "# Séparer les données d'entraînement et de test\n",
    "Xsp_train, Xsp_test, ysp_train, ysp_test = train_test_split(X_Spot_price_train, y_Spot_price_train, test_size=0.1, random_state=42)"
   ]
  },
  {
   "cell_type": "code",
   "execution_count": 30,
   "id": "42e3cc32-52b2-40ba-b924-73d3129aefb4",
   "metadata": {
    "id": "42e3cc32-52b2-40ba-b924-73d3129aefb4"
   },
   "outputs": [],
   "source": [
    "#Standadiser\n",
    "# Initialisation du scaler\n",
    "scaler = StandardScaler()\n",
    "\n",
    "# Appliquer le scaler sur les données d'entraînement\n",
    "Xsp_train = scaler.fit_transform(Xsp_train)\n",
    "\n",
    "# Appliquer le même scaler sur les données de test\n",
    "Xsp_test = scaler.transform(Xsp_test)"
   ]
  },
  {
   "cell_type": "code",
   "execution_count": 31,
   "id": "230d562d-e3a3-46dc-9f94-3dab280fbebd",
   "metadata": {},
   "outputs": [
    {
     "name": "stdout",
     "output_type": "stream",
     "text": [
      "RMSE pour Random Forest : 9.054559392737705\n",
      "RMSE pour XGBoost : 5.80097447966981\n",
      "R² pour Random Forest : 0.9418474302719431\n",
      "R² pour XGBoost : 0.9761308926960491\n"
     ]
    }
   ],
   "source": [
    "# Initialisation du seed\n",
    "seed = 123\n",
    "\n",
    "# Initialiser les modèles\n",
    "rf_model_sp = RandomForestRegressor(n_estimators=100, random_state=seed)\n",
    "xgb_model_sp = XGBRegressor(n_estimators=100, random_state=seed)\n",
    "\n",
    "# Entraîner les modèles avec les données d'entraînement de Spot Price\n",
    "rf_model_sp.fit(Xsp_train, ysp_train)\n",
    "xgb_model_sp.fit(Xsp_train, ysp_train)\n",
    "\n",
    "# Prédictions avec les données de test de Spot Price\n",
    "rf_pred_sp = rf_model_sp.predict(Xsp_test)\n",
    "xgb_pred_sp = xgb_model_sp.predict(Xsp_test)\n",
    "\n",
    "# Calculer les métriques (RMSE)\n",
    "rf_rmse_sp = np.sqrt(mean_squared_error(ysp_test, rf_pred_sp))\n",
    "xgb_rmse_sp = np.sqrt(mean_squared_error(ysp_test, xgb_pred_sp))\n",
    "\n",
    "# Calculer le R²\n",
    "R2rf_sp = r2_score(ysp_test, rf_pred_sp)\n",
    "R2xg_sp = r2_score(ysp_test, xgb_pred_sp)\n",
    "\n",
    "# Afficher les résultats\n",
    "print(f\"RMSE pour Random Forest : {rf_rmse_sp}\")\n",
    "print(f\"RMSE pour XGBoost : {xgb_rmse_sp}\")\n",
    "print(f\"R² pour Random Forest : {R2rf_sp}\")\n",
    "print(f\"R² pour XGBoost : {R2xg_sp}\")"
   ]
  },
  {
   "cell_type": "code",
   "execution_count": 28,
   "id": "0df31be2-01a7-4f28-a02f-ebe65d435af7",
   "metadata": {
    "colab": {
     "base_uri": "https://localhost:8080/",
     "height": 1000
    },
    "id": "0df31be2-01a7-4f28-a02f-ebe65d435af7",
    "outputId": "5d471b46-3077-443b-d83d-b74213f96c61"
   },
   "outputs": [
    {
     "name": "stdout",
     "output_type": "stream",
     "text": [
      "Meilleurs paramètres pour LASSO: {'alpha': np.float64(0.02811768697974228)}\n",
      "Meilleurs paramètres pour KNN: {'n_neighbors': 6}\n",
      "Meilleurs paramètres pour XGBOOST: {'n_estimators': 200, 'max_depth': 5, 'learning_rate': 0.2}\n",
      "Meilleurs paramètres pour GBR: {'n_estimators': 200, 'max_depth': 5, 'learning_rate': 0.2}\n",
      "Meilleurs paramètres pour RFR: {'n_estimators': 50, 'min_samples_split': 2, 'max_depth': 20}\n"
     ]
    },
    {
     "data": {
      "text/html": [
       "<div>\n",
       "<style scoped>\n",
       "    .dataframe tbody tr th:only-of-type {\n",
       "        vertical-align: middle;\n",
       "    }\n",
       "\n",
       "    .dataframe tbody tr th {\n",
       "        vertical-align: top;\n",
       "    }\n",
       "\n",
       "    .dataframe thead th {\n",
       "        text-align: right;\n",
       "    }\n",
       "</style>\n",
       "<table border=\"1\" class=\"dataframe\">\n",
       "  <thead>\n",
       "    <tr style=\"text-align: right;\">\n",
       "      <th></th>\n",
       "      <th>model</th>\n",
       "      <th>RMSE train</th>\n",
       "      <th>RMSE test</th>\n",
       "      <th>Mean CV results</th>\n",
       "      <th>Std CV results</th>\n",
       "      <th>R² train</th>\n",
       "      <th>R² test</th>\n",
       "    </tr>\n",
       "  </thead>\n",
       "  <tbody>\n",
       "    <tr>\n",
       "      <th>LR</th>\n",
       "      <td>LinearRegression()</td>\n",
       "      <td>14.992803</td>\n",
       "      <td>15.043279</td>\n",
       "      <td>15.059842</td>\n",
       "      <td>0.956960</td>\n",
       "      <td>0.801213</td>\n",
       "      <td>0.828773</td>\n",
       "    </tr>\n",
       "    <tr>\n",
       "      <th>LASSO</th>\n",
       "      <td>Lasso(alpha=np.float64(0.02811768697974228))</td>\n",
       "      <td>14.993444</td>\n",
       "      <td>15.044299</td>\n",
       "      <td>15.058635</td>\n",
       "      <td>0.964849</td>\n",
       "      <td>0.801196</td>\n",
       "      <td>0.828750</td>\n",
       "    </tr>\n",
       "    <tr>\n",
       "      <th>KNN</th>\n",
       "      <td>KNeighborsRegressor(n_neighbors=6)</td>\n",
       "      <td>11.386029</td>\n",
       "      <td>14.381268</td>\n",
       "      <td>14.191137</td>\n",
       "      <td>0.968082</td>\n",
       "      <td>0.885352</td>\n",
       "      <td>0.843512</td>\n",
       "    </tr>\n",
       "    <tr>\n",
       "      <th>XGBOOST</th>\n",
       "      <td>XGBRegressor(base_score=None, booster=None, ca...</td>\n",
       "      <td>1.313949</td>\n",
       "      <td>6.472870</td>\n",
       "      <td>6.762010</td>\n",
       "      <td>0.287785</td>\n",
       "      <td>0.998473</td>\n",
       "      <td>0.968298</td>\n",
       "    </tr>\n",
       "    <tr>\n",
       "      <th>GBR</th>\n",
       "      <td>([DecisionTreeRegressor(criterion='friedman_ms...</td>\n",
       "      <td>1.293360</td>\n",
       "      <td>7.247177</td>\n",
       "      <td>7.022015</td>\n",
       "      <td>0.482666</td>\n",
       "      <td>0.998521</td>\n",
       "      <td>0.960260</td>\n",
       "    </tr>\n",
       "    <tr>\n",
       "      <th>RFR</th>\n",
       "      <td>(DecisionTreeRegressor(max_depth=20, max_featu...</td>\n",
       "      <td>3.662591</td>\n",
       "      <td>10.150395</td>\n",
       "      <td>9.615389</td>\n",
       "      <td>0.605326</td>\n",
       "      <td>0.988137</td>\n",
       "      <td>0.922043</td>\n",
       "    </tr>\n",
       "  </tbody>\n",
       "</table>\n",
       "</div>"
      ],
      "text/plain": [
       "                                                     model  RMSE train  \\\n",
       "LR                                      LinearRegression()   14.992803   \n",
       "LASSO         Lasso(alpha=np.float64(0.02811768697974228))   14.993444   \n",
       "KNN                     KNeighborsRegressor(n_neighbors=6)   11.386029   \n",
       "XGBOOST  XGBRegressor(base_score=None, booster=None, ca...    1.313949   \n",
       "GBR      ([DecisionTreeRegressor(criterion='friedman_ms...    1.293360   \n",
       "RFR      (DecisionTreeRegressor(max_depth=20, max_featu...    3.662591   \n",
       "\n",
       "         RMSE test  Mean CV results  Std CV results  R² train   R² test  \n",
       "LR       15.043279        15.059842        0.956960  0.801213  0.828773  \n",
       "LASSO    15.044299        15.058635        0.964849  0.801196  0.828750  \n",
       "KNN      14.381268        14.191137        0.968082  0.885352  0.843512  \n",
       "XGBOOST   6.472870         6.762010        0.287785  0.998473  0.968298  \n",
       "GBR       7.247177         7.022015        0.482666  0.998521  0.960260  \n",
       "RFR      10.150395         9.615389        0.605326  0.988137  0.922043  "
      ]
     },
     "execution_count": 28,
     "metadata": {},
     "output_type": "execute_result"
    }
   ],
   "source": [
    "# Initialisation des paramètres\n",
    "seed = 123\n",
    "iter = 3000\n",
    "lr = 0.001\n",
    "\n",
    "# Création des modèles\n",
    "model_sp = create_models(params=None)\n",
    "\n",
    "# Évaluation des modèles\n",
    "results_metrics_sp = evaluate_models(model_sp, Xsp_train, ysp_train, Xsp_test, ysp_test,num_folds=10)\n",
    "results_metrics_sp"
   ]
  },
  {
   "cell_type": "code",
   "execution_count": 29,
   "id": "4468d690-4c02-4e5a-b8b8-39f971699e05",
   "metadata": {
    "colab": {
     "base_uri": "https://localhost:8080/",
     "height": 501
    },
    "id": "4468d690-4c02-4e5a-b8b8-39f971699e05",
    "outputId": "031115ef-e23b-4542-c13e-a599fdfdacdf"
   },
   "outputs": [
    {
     "data": {
      "text/plain": [
       "<Axes: >"
      ]
     },
     "execution_count": 29,
     "metadata": {},
     "output_type": "execute_result"
    },
    {
     "data": {
      "image/png": "[encoded data removed]",
      "text/plain": [
       "<Figure size 640x480 with 1 Axes>"
      ]
     },
     "metadata": {},
     "output_type": "display_data"
    }
   ],
   "source": [
    "# Affichage des résultats\n",
    "with pd.option_context('display.precision', 3):\n",
    "    best_print_sp = results_metrics_sp.sort_values(by='RMSE test', ascending=True)\n",
    "\n",
    "# Comparaison des erreurs d'entraînement et de test\n",
    "best_print_sp[['RMSE train', 'RMSE test']].plot(kind='bar')"
   ]
  },
  {
   "cell_type": "code",
   "execution_count": 47,
   "id": "995823ea-4f88-438e-b377-ebb8e4ec9322",
   "metadata": {
    "id": "995823ea-4f88-438e-b377-ebb8e4ec9322"
   },
   "outputs": [],
   "source": [
    "#Choix du modèle\n",
    "best_mdsp=results_metrics_sp.loc['LR', 'model']"
   ]
  },
  {
   "cell_type": "code",
   "execution_count": 32,
   "id": "77ac670f-9675-47b8-b552-b740640e53eb",
   "metadata": {
    "id": "77ac670f-9675-47b8-b552-b740640e53eb"
   },
   "outputs": [],
   "source": [
    "#la base avec les valeurs manquantes\n",
    "data_sp_with_na = data_merge[data_merge['predicted_spot_price'].isna()]\n",
    "\n",
    "#definir les valeurs pour la prediction\n",
    "Xsp_predi= data_sp_with_na.drop(columns=['DELIVERY_START','predicted_spot_price'])"
   ]
  },
  {
   "cell_type": "code",
   "execution_count": 33,
   "id": "c121862f-17c4-4e92-9d88-549c425008ec",
   "metadata": {},
   "outputs": [],
   "source": [
    "Xui = Xsp_predi.copy()"
   ]
  },
  {
   "cell_type": "code",
   "execution_count": 34,
   "id": "9135fb6e-4f26-43e7-911a-fa402d5925fd",
   "metadata": {},
   "outputs": [],
   "source": [
    "# Appliquer le même scaler sur les données de test\n",
    "Xsp_predi = scaler.transform(Xsp_predi)"
   ]
  },
  {
   "cell_type": "code",
   "execution_count": 34,
   "id": "1d1f9ed8-e2f8-4473-8a36-6be7ae0ad8db",
   "metadata": {
    "colab": {
     "base_uri": "https://localhost:8080/"
    },
    "id": "1d1f9ed8-e2f8-4473-8a36-6be7ae0ad8db",
    "outputId": "51d17a98-33f9-4105-9b96-196289816f63"
   },
   "outputs": [],
   "source": [
    "# Remplir les valeurs manquantes dans le DataFrame d'origine\n",
    "data_merge.loc[data_merge['predicted_spot_price'].isna(), 'predicted_spot_price'] =best_mdsp.predict(Xsp_predi)"
   ]
  },
  {
   "cell_type": "code",
   "execution_count": 35,
   "id": "e6e268c4-06d6-4d41-9a02-c852371f89ac",
   "metadata": {
    "colab": {
     "base_uri": "https://localhost:8080/"
    },
    "id": "1d1f9ed8-e2f8-4473-8a36-6be7ae0ad8db",
    "outputId": "51d17a98-33f9-4105-9b96-196289816f63"
   },
   "outputs": [],
   "source": [
    "# Remplir les valeurs manquantes dans le DataFrame d'origine\n",
    "data_merge.loc[data_merge['predicted_spot_price'].isna(), 'predicted_spot_price'] =xgb_model_sp.predict(Xsp_predi)"
   ]
  },
  {
   "cell_type": "code",
   "execution_count": 36,
   "id": "d7491ee4-9e40-4d36-bf7b-4bd54051d6ca",
   "metadata": {
    "colab": {
     "base_uri": "https://localhost:8080/",
     "height": 774
    },
    "id": "d7491ee4-9e40-4d36-bf7b-4bd54051d6ca",
    "outputId": "f052c500-00f8-484e-c4bb-4e881e65a74f"
   },
   "outputs": [
    {
     "data": {
      "text/plain": [
       "DELIVERY_START                   0.0\n",
       "spot_id_delta                    0.0\n",
       "load_forecast                    0.0\n",
       "coal_power_available             0.0\n",
       "gas_power_available              0.0\n",
       "nucelear_power_available         0.0\n",
       "wind_power_forecasts_average     0.0\n",
       "solar_power_forecasts_average    0.0\n",
       "wind_power_forecasts_std         0.0\n",
       "solar_power_forecasts_std        0.0\n",
       "predicted_spot_price             0.0\n",
       "hour                             0.0\n",
       "day_of_week                      0.0\n",
       "month                            0.0\n",
       "year                             0.0\n",
       "dayofyear                        0.0\n",
       "quarter                          0.0\n",
       "dtype: float64"
      ]
     },
     "execution_count": 36,
     "metadata": {},
     "output_type": "execute_result"
    }
   ],
   "source": [
    "round((data_merge.isna().sum()/len(data_merge))*100,2)"
   ]
  },
  {
   "cell_type": "code",
   "execution_count": 40,
   "id": "cad7d768-a1e4-4cb9-bb8f-6e083386cd8d",
   "metadata": {},
   "outputs": [
    {
     "data": {
      "text/html": [
       "<div>\n",
       "<style scoped>\n",
       "    .dataframe tbody tr th:only-of-type {\n",
       "        vertical-align: middle;\n",
       "    }\n",
       "\n",
       "    .dataframe tbody tr th {\n",
       "        vertical-align: top;\n",
       "    }\n",
       "\n",
       "    .dataframe thead th {\n",
       "        text-align: right;\n",
       "    }\n",
       "</style>\n",
       "<table border=\"1\" class=\"dataframe\">\n",
       "  <thead>\n",
       "    <tr style=\"text-align: right;\">\n",
       "      <th></th>\n",
       "      <th>spot_id_delta</th>\n",
       "      <th>load_forecast</th>\n",
       "      <th>coal_power_available</th>\n",
       "      <th>gas_power_available</th>\n",
       "      <th>nucelear_power_available</th>\n",
       "      <th>wind_power_forecasts_average</th>\n",
       "      <th>solar_power_forecasts_average</th>\n",
       "      <th>wind_power_forecasts_std</th>\n",
       "      <th>solar_power_forecasts_std</th>\n",
       "      <th>predicted_spot_price</th>\n",
       "      <th>hour</th>\n",
       "      <th>day_of_week</th>\n",
       "      <th>month</th>\n",
       "      <th>year</th>\n",
       "      <th>dayofyear</th>\n",
       "      <th>quarter</th>\n",
       "    </tr>\n",
       "  </thead>\n",
       "  <tbody>\n",
       "    <tr>\n",
       "      <th>count</th>\n",
       "      <td>10605.000000</td>\n",
       "      <td>10605.000000</td>\n",
       "      <td>10605.000000</td>\n",
       "      <td>10605.000000</td>\n",
       "      <td>10605.000000</td>\n",
       "      <td>10605.000000</td>\n",
       "      <td>10605.000000</td>\n",
       "      <td>10605.000000</td>\n",
       "      <td>10605.000000</td>\n",
       "      <td>10605.000000</td>\n",
       "      <td>10605.000000</td>\n",
       "      <td>10605.000000</td>\n",
       "      <td>10605.000000</td>\n",
       "      <td>10605.000000</td>\n",
       "      <td>10605.00000</td>\n",
       "      <td>10605.000000</td>\n",
       "    </tr>\n",
       "    <tr>\n",
       "      <th>mean</th>\n",
       "      <td>0.943358</td>\n",
       "      <td>52468.258058</td>\n",
       "      <td>2819.780292</td>\n",
       "      <td>11463.266101</td>\n",
       "      <td>35392.515794</td>\n",
       "      <td>4526.970769</td>\n",
       "      <td>1914.937860</td>\n",
       "      <td>125.487786</td>\n",
       "      <td>24.940813</td>\n",
       "      <td>119.091464</td>\n",
       "      <td>11.508817</td>\n",
       "      <td>2.983970</td>\n",
       "      <td>5.654880</td>\n",
       "      <td>2022.196700</td>\n",
       "      <td>156.38661</td>\n",
       "      <td>2.225648</td>\n",
       "    </tr>\n",
       "    <tr>\n",
       "      <th>std</th>\n",
       "      <td>38.093819</td>\n",
       "      <td>11266.825543</td>\n",
       "      <td>495.080260</td>\n",
       "      <td>483.798962</td>\n",
       "      <td>7619.869673</td>\n",
       "      <td>3358.549539</td>\n",
       "      <td>2705.436086</td>\n",
       "      <td>132.039095</td>\n",
       "      <td>43.051584</td>\n",
       "      <td>33.958382</td>\n",
       "      <td>6.917935</td>\n",
       "      <td>2.010893</td>\n",
       "      <td>3.616687</td>\n",
       "      <td>0.397522</td>\n",
       "      <td>110.49765</td>\n",
       "      <td>1.172625</td>\n",
       "    </tr>\n",
       "    <tr>\n",
       "      <th>min</th>\n",
       "      <td>-1567.353547</td>\n",
       "      <td>30164.824219</td>\n",
       "      <td>1646.000000</td>\n",
       "      <td>9769.000000</td>\n",
       "      <td>22285.000000</td>\n",
       "      <td>592.000000</td>\n",
       "      <td>0.000000</td>\n",
       "      <td>1.830211</td>\n",
       "      <td>0.000000</td>\n",
       "      <td>37.670000</td>\n",
       "      <td>0.000000</td>\n",
       "      <td>0.000000</td>\n",
       "      <td>1.000000</td>\n",
       "      <td>2022.000000</td>\n",
       "      <td>1.00000</td>\n",
       "      <td>1.000000</td>\n",
       "    </tr>\n",
       "    <tr>\n",
       "      <th>25%</th>\n",
       "      <td>-11.934152</td>\n",
       "      <td>44117.000000</td>\n",
       "      <td>2226.000000</td>\n",
       "      <td>11140.000000</td>\n",
       "      <td>29005.000000</td>\n",
       "      <td>2039.000000</td>\n",
       "      <td>0.000000</td>\n",
       "      <td>46.924483</td>\n",
       "      <td>0.000000</td>\n",
       "      <td>92.116272</td>\n",
       "      <td>6.000000</td>\n",
       "      <td>1.000000</td>\n",
       "      <td>2.000000</td>\n",
       "      <td>2022.000000</td>\n",
       "      <td>57.00000</td>\n",
       "      <td>1.000000</td>\n",
       "    </tr>\n",
       "    <tr>\n",
       "      <th>50%</th>\n",
       "      <td>0.059125</td>\n",
       "      <td>50446.000000</td>\n",
       "      <td>2806.000000</td>\n",
       "      <td>11487.000000</td>\n",
       "      <td>32470.000000</td>\n",
       "      <td>3325.000000</td>\n",
       "      <td>145.000000</td>\n",
       "      <td>87.016018</td>\n",
       "      <td>3.415172</td>\n",
       "      <td>113.363922</td>\n",
       "      <td>12.000000</td>\n",
       "      <td>3.000000</td>\n",
       "      <td>5.000000</td>\n",
       "      <td>2022.000000</td>\n",
       "      <td>139.00000</td>\n",
       "      <td>2.000000</td>\n",
       "    </tr>\n",
       "    <tr>\n",
       "      <th>75%</th>\n",
       "      <td>12.190489</td>\n",
       "      <td>60573.000000</td>\n",
       "      <td>3386.000000</td>\n",
       "      <td>11945.000000</td>\n",
       "      <td>43055.000000</td>\n",
       "      <td>5980.000000</td>\n",
       "      <td>3497.000000</td>\n",
       "      <td>155.688782</td>\n",
       "      <td>35.028653</td>\n",
       "      <td>140.680000</td>\n",
       "      <td>18.000000</td>\n",
       "      <td>5.000000</td>\n",
       "      <td>9.000000</td>\n",
       "      <td>2022.000000</td>\n",
       "      <td>252.00000</td>\n",
       "      <td>3.000000</td>\n",
       "    </tr>\n",
       "    <tr>\n",
       "      <th>max</th>\n",
       "      <td>658.961329</td>\n",
       "      <td>85145.000000</td>\n",
       "      <td>3391.000000</td>\n",
       "      <td>11963.000000</td>\n",
       "      <td>50122.000000</td>\n",
       "      <td>15167.000000</td>\n",
       "      <td>10127.000000</td>\n",
       "      <td>1871.571992</td>\n",
       "      <td>745.261316</td>\n",
       "      <td>254.190000</td>\n",
       "      <td>23.000000</td>\n",
       "      <td>6.000000</td>\n",
       "      <td>12.000000</td>\n",
       "      <td>2023.000000</td>\n",
       "      <td>365.00000</td>\n",
       "      <td>4.000000</td>\n",
       "    </tr>\n",
       "  </tbody>\n",
       "</table>\n",
       "</div>"
      ],
      "text/plain": [
       "       spot_id_delta  load_forecast  coal_power_available  \\\n",
       "count   10605.000000   10605.000000          10605.000000   \n",
       "mean        0.943358   52468.258058           2819.780292   \n",
       "std        38.093819   11266.825543            495.080260   \n",
       "min     -1567.353547   30164.824219           1646.000000   \n",
       "25%       -11.934152   44117.000000           2226.000000   \n",
       "50%         0.059125   50446.000000           2806.000000   \n",
       "75%        12.190489   60573.000000           3386.000000   \n",
       "max       658.961329   85145.000000           3391.000000   \n",
       "\n",
       "       gas_power_available  nucelear_power_available  \\\n",
       "count         10605.000000              10605.000000   \n",
       "mean          11463.266101              35392.515794   \n",
       "std             483.798962               7619.869673   \n",
       "min            9769.000000              22285.000000   \n",
       "25%           11140.000000              29005.000000   \n",
       "50%           11487.000000              32470.000000   \n",
       "75%           11945.000000              43055.000000   \n",
       "max           11963.000000              50122.000000   \n",
       "\n",
       "       wind_power_forecasts_average  solar_power_forecasts_average  \\\n",
       "count                  10605.000000                   10605.000000   \n",
       "mean                    4526.970769                    1914.937860   \n",
       "std                     3358.549539                    2705.436086   \n",
       "min                      592.000000                       0.000000   \n",
       "25%                     2039.000000                       0.000000   \n",
       "50%                     3325.000000                     145.000000   \n",
       "75%                     5980.000000                    3497.000000   \n",
       "max                    15167.000000                   10127.000000   \n",
       "\n",
       "       wind_power_forecasts_std  solar_power_forecasts_std  \\\n",
       "count              10605.000000               10605.000000   \n",
       "mean                 125.487786                  24.940813   \n",
       "std                  132.039095                  43.051584   \n",
       "min                    1.830211                   0.000000   \n",
       "25%                   46.924483                   0.000000   \n",
       "50%                   87.016018                   3.415172   \n",
       "75%                  155.688782                  35.028653   \n",
       "max                 1871.571992                 745.261316   \n",
       "\n",
       "       predicted_spot_price          hour   day_of_week         month  \\\n",
       "count          10605.000000  10605.000000  10605.000000  10605.000000   \n",
       "mean             119.091464     11.508817      2.983970      5.654880   \n",
       "std               33.958382      6.917935      2.010893      3.616687   \n",
       "min               37.670000      0.000000      0.000000      1.000000   \n",
       "25%               92.116272      6.000000      1.000000      2.000000   \n",
       "50%              113.363922     12.000000      3.000000      5.000000   \n",
       "75%              140.680000     18.000000      5.000000      9.000000   \n",
       "max              254.190000     23.000000      6.000000     12.000000   \n",
       "\n",
       "               year    dayofyear       quarter  \n",
       "count  10605.000000  10605.00000  10605.000000  \n",
       "mean    2022.196700    156.38661      2.225648  \n",
       "std        0.397522    110.49765      1.172625  \n",
       "min     2022.000000      1.00000      1.000000  \n",
       "25%     2022.000000     57.00000      1.000000  \n",
       "50%     2022.000000    139.00000      2.000000  \n",
       "75%     2022.000000    252.00000      3.000000  \n",
       "max     2023.000000    365.00000      4.000000  "
      ]
     },
     "execution_count": 40,
     "metadata": {},
     "output_type": "execute_result"
    }
   ],
   "source": [
    "data_merge.describe()"
   ]
  },
  {
   "cell_type": "code",
   "execution_count": 36,
   "id": "1f9185dc-c1f0-402a-b981-13cfe8067566",
   "metadata": {
    "id": "1f9185dc-c1f0-402a-b981-13cfe8067566"
   },
   "outputs": [],
   "source": [
    "#spot_id_delta = Y\n",
    "# Création des retards et des moyennes glissantes\n",
    "data_merge['Y_lag_1'] = data_merge['predicted_spot_price'].shift(1)\n",
    "data_merge['Y_rolling_mean_3'] = data_merge['predicted_spot_price'].rolling(window=3).mean()\n",
    "data_merge['Y_rolling_std_3'] = data_merge['predicted_spot_price'].rolling(window=3).std()\n",
    "# Remplacer les valeurs manquantes uniquement dans les colonnes des retards et moyennes glissantes\n",
    "data_merge[['Y_lag_1', 'Y_rolling_mean_3', 'Y_rolling_std_3']] = data_merge[['Y_lag_1', 'Y_rolling_mean_3', 'Y_rolling_std_3']].fillna(0)"
   ]
  },
  {
   "cell_type": "markdown",
   "id": "28ab7c05-6125-4ced-8661-42f6d0ba1bfc",
   "metadata": {
    "id": "28ab7c05-6125-4ced-8661-42f6d0ba1bfc"
   },
   "source": [
    "# la variable spot_id_delta"
   ]
  },
  {
   "cell_type": "code",
   "execution_count": 51,
   "id": "aa5ea983-3829-4d6d-b619-89ed6bc4000e",
   "metadata": {},
   "outputs": [],
   "source": [
    "def create_lags(df, columns, lag_periods):\n",
    "    # Créer les lags\n",
    "    for col in columns:\n",
    "        for lag in lag_periods:\n",
    "            df[f'{col}_lag_{lag}'] = df[col].shift(lag)\n",
    "    \n",
    "    # Appliquer l'interpolation pour remplir les NaN créés par les lags\n",
    "    df = df.interpolate(method='linear', axis=0)\n",
    "    \n",
    "    # Remplir les NaN restants avec 'bfill' ou 'ffill'\n",
    "    df = df.bfill()  # Remplir les NaN avec la valeur suivante dans la colonne\n",
    "    df = df.ffill()  # Remplir les NaN restants avec la valeur précédente dans la colonne\n",
    "\n",
    "    return df"
   ]
  },
  {
   "cell_type": "code",
   "execution_count": 52,
   "id": "eed14c51-26fd-4166-b881-7b4982dfbb5c",
   "metadata": {},
   "outputs": [],
   "source": [
    "# Variables pour lesquelles créer des lags\n",
    "columns_to_lag = ['predicted_spot_price', 'load_forecast', 'coal_power_available', \n",
    "                  'gas_power_available', 'nucelear_power_available', \n",
    "                  'wind_power_forecasts_average', 'solar_power_forecasts_average']\n",
    "\n",
    "# Périodes de lags horaires (par exemple 1 heure, 2 heures, 3 heures)\n",
    "lag_periods = [1, 2, 3, 4, 5]  # Tu peux aussi augmenter ces valeurs\n",
    "\n",
    "# Appliquer la fonction pour créer les lags\n",
    "df_with_lags = create_lags(data_merge, columns_to_lag, lag_periods)"
   ]
  },
  {
   "cell_type": "code",
   "execution_count": 53,
   "id": "3e6cb1ef-65e0-41e1-b007-a6b81cee930a",
   "metadata": {},
   "outputs": [
    {
     "data": {
      "text/plain": [
       "DELIVERY_START                         0.0\n",
       "spot_id_delta                          0.0\n",
       "load_forecast                          0.0\n",
       "coal_power_available                   0.0\n",
       "gas_power_available                    0.0\n",
       "nucelear_power_available               0.0\n",
       "wind_power_forecasts_average           0.0\n",
       "solar_power_forecasts_average          0.0\n",
       "wind_power_forecasts_std               0.0\n",
       "solar_power_forecasts_std              0.0\n",
       "predicted_spot_price                   0.0\n",
       "hour                                   0.0\n",
       "day_of_week                            0.0\n",
       "month                                  0.0\n",
       "year                                   0.0\n",
       "dayofyear                              0.0\n",
       "quarter                                0.0\n",
       "predicted_spot_price_lag_1             0.0\n",
       "predicted_spot_price_lag_2             0.0\n",
       "predicted_spot_price_lag_3             0.0\n",
       "predicted_spot_price_lag_4             0.0\n",
       "predicted_spot_price_lag_5             0.0\n",
       "load_forecast_lag_1                    0.0\n",
       "load_forecast_lag_2                    0.0\n",
       "load_forecast_lag_3                    0.0\n",
       "load_forecast_lag_4                    0.0\n",
       "load_forecast_lag_5                    0.0\n",
       "coal_power_available_lag_1             0.0\n",
       "coal_power_available_lag_2             0.0\n",
       "coal_power_available_lag_3             0.0\n",
       "coal_power_available_lag_4             0.0\n",
       "coal_power_available_lag_5             0.0\n",
       "gas_power_available_lag_1              0.0\n",
       "gas_power_available_lag_2              0.0\n",
       "gas_power_available_lag_3              0.0\n",
       "gas_power_available_lag_4              0.0\n",
       "gas_power_available_lag_5              0.0\n",
       "nucelear_power_available_lag_1         0.0\n",
       "nucelear_power_available_lag_2         0.0\n",
       "nucelear_power_available_lag_3         0.0\n",
       "nucelear_power_available_lag_4         0.0\n",
       "nucelear_power_available_lag_5         0.0\n",
       "wind_power_forecasts_average_lag_1     0.0\n",
       "wind_power_forecasts_average_lag_2     0.0\n",
       "wind_power_forecasts_average_lag_3     0.0\n",
       "wind_power_forecasts_average_lag_4     0.0\n",
       "wind_power_forecasts_average_lag_5     0.0\n",
       "solar_power_forecasts_average_lag_1    0.0\n",
       "solar_power_forecasts_average_lag_2    0.0\n",
       "solar_power_forecasts_average_lag_3    0.0\n",
       "solar_power_forecasts_average_lag_4    0.0\n",
       "solar_power_forecasts_average_lag_5    0.0\n",
       "dtype: float64"
      ]
     },
     "execution_count": 53,
     "metadata": {},
     "output_type": "execute_result"
    }
   ],
   "source": [
    "round((df_with_lags.isna().sum()/len(df_with_lags))*100,2)"
   ]
  },
  {
   "cell_type": "code",
   "execution_count": 54,
   "id": "d50bbc8d-3859-4ec7-8e97-da8c6a10404c",
   "metadata": {
    "id": "d50bbc8d-3859-4ec7-8e97-da8c6a10404c"
   },
   "outputs": [],
   "source": [
    "# Séparer la variable cible et les variables explicatives\n",
    "X_Spot_delta_train = df_with_lags.drop(columns=['spot_id_delta', 'DELIVERY_START'])\n",
    "y_Spot_delta_train = df_with_lags['spot_id_delta']\n",
    "\n",
    "# Séparer les données d'entraînement et de test\n",
    "Xdel_train, Xdel_test, ydel_train, ydel_test = train_test_split(X_Spot_delta_train, y_Spot_delta_train, test_size=0.1, random_state=42)"
   ]
  },
  {
   "cell_type": "code",
   "execution_count": 55,
   "id": "ae15692a-86f5-4514-a028-e2227ecb3592",
   "metadata": {
    "id": "ae15692a-86f5-4514-a028-e2227ecb3592"
   },
   "outputs": [],
   "source": [
    "#Standadiser\n",
    "# Initialisation du scaler\n",
    "scaler = StandardScaler()\n",
    "\n",
    "# Appliquer le scaler sur les données d'entraînement\n",
    "Xdel_train = scaler.fit_transform(Xdel_train)\n",
    "\n",
    "# Appliquer le même scaler sur les données de test\n",
    "Xdel_test = scaler.transform(Xdel_test)"
   ]
  },
  {
   "cell_type": "markdown",
   "id": "c72c5401-b237-4f79-b51e-d553c579c70a",
   "metadata": {},
   "source": [
    "# Initialisation des modèles avec des hyperparamètres ajustés pour Spot Delta\n",
    "rf_model_del = RandomForestRegressor(\n",
    "    n_estimators=100,  # Augmenter le nombre d'arbres\n",
    "    # Profondeur maximale des arbres\n",
    "    min_samples_split=2,  # Minimum d'échantillons pour diviser un nœud\n",
    "    min_samples_leaf=2,   # Minimum d'échantillons dans une feuille\n",
    "    max_features='sqrt',  # Nombre de caractéristiques à considérer lors de la division\n",
    "    random_state=seed,\n",
    "    bootstrap=False       # Tirage avec remise pour les échantillons\n",
    ")\n"
   ]
  },
  {
   "cell_type": "code",
   "execution_count": 90,
   "id": "38baac4d-ee0b-40b7-81a6-037c3d914703",
   "metadata": {},
   "outputs": [
    {
     "name": "stdout",
     "output_type": "stream",
     "text": [
      "RMSE pour Random Forest (Spot Delta) : 18.715618097140435\n",
      "RMSE pour XGBoost (Spot Delta) : 22.545660089304096\n",
      "R² pour Random Forest (Spot Delta) : 0.6792436731880251\n",
      "R² pour XGBoost (Spot Delta) : 0.5345288243870485\n"
     ]
    }
   ],
   "source": [
    "# Initialisation du seed\n",
    "seed = 123\n",
    "\n",
    "# Initialisation du modèle avec des hyperparamètres ajustés\n",
    "rf_model_del = RandomForestRegressor(\n",
    "    n_estimators=300,         # Augmenter le nombre d'arbres\n",
    "    #max_depth=50,             # Profondeur maximale des arbres\n",
    "    min_samples_split=2,      # Minimum d'échantillons pour diviser un nœud\n",
    "    min_samples_leaf=2,       # Minimum d'échantillons dans une feuille\n",
    "    max_features=\"sqrt\",      # Nombre de caractéristiques à considérer lors de la division\n",
    "    random_state=seed,\n",
    "    bootstrap=False,           # Tirage avec remise pour les échantillons\n",
    "                            # Utilisation de l'erreur quadratique moyenne (par défaut)\n",
    ")\n",
    "\n",
    "xgb_model_del = XGBRegressor(\n",
    "    n_estimators=200,  # Augmenter le nombre d'arbres\n",
    "    learning_rate=0.05,  # Taux d'apprentissage plus faible\n",
    "    max_depth=6,        # Profondeur des arbres\n",
    "    min_child_weight=3,  # Poids minimum pour diviser\n",
    "    subsample=0.8,      # Utiliser 80% des échantillons pour chaque arbre\n",
    "    colsample_bytree=0.8,  # Utiliser 80% des caractéristiques pour chaque arbre\n",
    "    gamma=0.1,          # Régularisation pour réduire la complexité\n",
    "    random_state=seed\n",
    ")\n",
    "\n",
    "# Entraîner les modèles avec les données d'entraînement de Spot Delta\n",
    "rf_model_del.fit(Xdel_train, ydel_train)\n",
    "xgb_model_del.fit(Xdel_train, ydel_train)\n",
    "\n",
    "# Prédictions avec les données de test de Spot Delta\n",
    "rf_pred_del = rf_model_del.predict(Xdel_test)\n",
    "xgb_pred_del = xgb_model_del.predict(Xdel_test)\n",
    "\n",
    "# Calculer les métriques (RMSE)\n",
    "rf_rmse_del = np.sqrt(mean_squared_error(ydel_test, rf_pred_del))\n",
    "xgb_rmse_del = np.sqrt(mean_squared_error(ydel_test, xgb_pred_del))\n",
    "\n",
    "# Calculer le R²\n",
    "R2rf_del = r2_score(ydel_test, rf_pred_del)\n",
    "R2xg_del = r2_score(ydel_test, xgb_pred_del)\n",
    "\n",
    "# Afficher les résultats\n",
    "print(f\"RMSE pour Random Forest (Spot Delta) : {rf_rmse_del}\")\n",
    "print(f\"RMSE pour XGBoost (Spot Delta) : {xgb_rmse_del}\")\n",
    "print(f\"R² pour Random Forest (Spot Delta) : {R2rf_del}\")\n",
    "print(f\"R² pour XGBoost (Spot Delta) : {R2xg_del}\")\n"
   ]
  },
  {
   "cell_type": "markdown",
   "id": "8c19dabe-29ca-44c6-8ccc-3a39c9e86282",
   "metadata": {
    "id": "8c19dabe-29ca-44c6-8ccc-3a39c9e86282"
   },
   "source": [
    "# Exemple d'utilisation\n",
    "params = {\n",
    "    'LR': {},  # Modèle par défaut\n",
    "    'LASSO': {'alpha': 0.5},  # Ajuster l'alpha pour Lasso\n",
    "    'EN': {'alpha': 0.1, 'l1_ratio': 0.7},  # Paramètres pour ElasticNet\n",
    "    'MLP': {'random_state': seed, 'max_iter': 3000, 'learning_rate_init': 0.01}  # Paramètres pour MLP\n",
    "}"
   ]
  },
  {
   "cell_type": "code",
   "execution_count": 39,
   "id": "e298e925-0f38-46fa-8cf0-f5faa46028c3",
   "metadata": {
    "colab": {
     "base_uri": "https://localhost:8080/",
     "height": 1000
    },
    "id": "e298e925-0f38-46fa-8cf0-f5faa46028c3",
    "outputId": "23240c26-7031-4aa5-9c1c-6d77d17401ef"
   },
   "outputs": [
    {
     "name": "stderr",
     "output_type": "stream",
     "text": [
      "C:\\Users\\boric\\AppData\\Local\\Programs\\Python\\Python312\\Lib\\site-packages\\sklearn\\linear_model\\_coordinate_descent.py:697: ConvergenceWarning: Objective did not converge. You might want to increase the number of iterations, check the scale of the features or consider increasing regularisation. Duality gap: 3.791e+04, tolerance: 1.423e+03\n",
      "  model = cd_fast.enet_coordinate_descent(\n"
     ]
    },
    {
     "name": "stdout",
     "output_type": "stream",
     "text": [
      "Meilleurs paramètres pour LASSO: {'alpha': np.float64(0.0029470517025518097)}\n"
     ]
    },
    {
     "name": "stderr",
     "output_type": "stream",
     "text": [
      "C:\\Users\\boric\\AppData\\Local\\Programs\\Python\\Python312\\Lib\\site-packages\\sklearn\\linear_model\\_coordinate_descent.py:697: ConvergenceWarning: Objective did not converge. You might want to increase the number of iterations, check the scale of the features or consider increasing regularisation. Duality gap: 2.640e+04, tolerance: 1.329e+03\n",
      "  model = cd_fast.enet_coordinate_descent(\n",
      "C:\\Users\\boric\\AppData\\Local\\Programs\\Python\\Python312\\Lib\\site-packages\\sklearn\\linear_model\\_coordinate_descent.py:697: ConvergenceWarning: Objective did not converge. You might want to increase the number of iterations, check the scale of the features or consider increasing regularisation. Duality gap: 3.025e+04, tolerance: 1.350e+03\n",
      "  model = cd_fast.enet_coordinate_descent(\n",
      "C:\\Users\\boric\\AppData\\Local\\Programs\\Python\\Python312\\Lib\\site-packages\\sklearn\\linear_model\\_coordinate_descent.py:697: ConvergenceWarning: Objective did not converge. You might want to increase the number of iterations, check the scale of the features or consider increasing regularisation. Duality gap: 8.677e+03, tolerance: 1.099e+03\n",
      "  model = cd_fast.enet_coordinate_descent(\n",
      "C:\\Users\\boric\\AppData\\Local\\Programs\\Python\\Python312\\Lib\\site-packages\\sklearn\\linear_model\\_coordinate_descent.py:697: ConvergenceWarning: Objective did not converge. You might want to increase the number of iterations, check the scale of the features or consider increasing regularisation. Duality gap: 2.862e+04, tolerance: 1.299e+03\n",
      "  model = cd_fast.enet_coordinate_descent(\n",
      "C:\\Users\\boric\\AppData\\Local\\Programs\\Python\\Python312\\Lib\\site-packages\\sklearn\\linear_model\\_coordinate_descent.py:697: ConvergenceWarning: Objective did not converge. You might want to increase the number of iterations, check the scale of the features or consider increasing regularisation. Duality gap: 3.569e+04, tolerance: 1.337e+03\n",
      "  model = cd_fast.enet_coordinate_descent(\n",
      "C:\\Users\\boric\\AppData\\Local\\Programs\\Python\\Python312\\Lib\\site-packages\\sklearn\\linear_model\\_coordinate_descent.py:697: ConvergenceWarning: Objective did not converge. You might want to increase the number of iterations, check the scale of the features or consider increasing regularisation. Duality gap: 3.255e+04, tolerance: 1.327e+03\n",
      "  model = cd_fast.enet_coordinate_descent(\n",
      "C:\\Users\\boric\\AppData\\Local\\Programs\\Python\\Python312\\Lib\\site-packages\\sklearn\\linear_model\\_coordinate_descent.py:697: ConvergenceWarning: Objective did not converge. You might want to increase the number of iterations, check the scale of the features or consider increasing regularisation. Duality gap: 3.269e+04, tolerance: 1.347e+03\n",
      "  model = cd_fast.enet_coordinate_descent(\n",
      "C:\\Users\\boric\\AppData\\Local\\Programs\\Python\\Python312\\Lib\\site-packages\\sklearn\\linear_model\\_coordinate_descent.py:697: ConvergenceWarning: Objective did not converge. You might want to increase the number of iterations, check the scale of the features or consider increasing regularisation. Duality gap: 2.896e+04, tolerance: 1.303e+03\n",
      "  model = cd_fast.enet_coordinate_descent(\n",
      "C:\\Users\\boric\\AppData\\Local\\Programs\\Python\\Python312\\Lib\\site-packages\\sklearn\\linear_model\\_coordinate_descent.py:697: ConvergenceWarning: Objective did not converge. You might want to increase the number of iterations, check the scale of the features or consider increasing regularisation. Duality gap: 1.300e+05, tolerance: 1.324e+03\n",
      "  model = cd_fast.enet_coordinate_descent(\n",
      "C:\\Users\\boric\\AppData\\Local\\Programs\\Python\\Python312\\Lib\\site-packages\\sklearn\\linear_model\\_coordinate_descent.py:697: ConvergenceWarning: Objective did not converge. You might want to increase the number of iterations, check the scale of the features or consider increasing regularisation. Duality gap: 4.120e+04, tolerance: 1.089e+03\n",
      "  model = cd_fast.enet_coordinate_descent(\n"
     ]
    },
    {
     "name": "stdout",
     "output_type": "stream",
     "text": [
      "Meilleurs paramètres pour KNN: {'n_neighbors': 6}\n",
      "Meilleurs paramètres pour XGBOOST: {'n_estimators': 200, 'max_depth': 7, 'learning_rate': 0.2}\n",
      "Meilleurs paramètres pour GBR: {'n_estimators': 200, 'max_depth': 5, 'learning_rate': 0.2}\n",
      "Meilleurs paramètres pour RFR: {'n_estimators': 200, 'min_samples_split': 5, 'max_depth': None}\n"
     ]
    },
    {
     "data": {
      "text/html": [
       "<div>\n",
       "<style scoped>\n",
       "    .dataframe tbody tr th:only-of-type {\n",
       "        vertical-align: middle;\n",
       "    }\n",
       "\n",
       "    .dataframe tbody tr th {\n",
       "        vertical-align: top;\n",
       "    }\n",
       "\n",
       "    .dataframe thead th {\n",
       "        text-align: right;\n",
       "    }\n",
       "</style>\n",
       "<table border=\"1\" class=\"dataframe\">\n",
       "  <thead>\n",
       "    <tr style=\"text-align: right;\">\n",
       "      <th></th>\n",
       "      <th>model</th>\n",
       "      <th>RMSE train</th>\n",
       "      <th>RMSE test</th>\n",
       "      <th>Mean CV results</th>\n",
       "      <th>Std CV results</th>\n",
       "      <th>R² train</th>\n",
       "      <th>R² test</th>\n",
       "    </tr>\n",
       "  </thead>\n",
       "  <tbody>\n",
       "    <tr>\n",
       "      <th>LR</th>\n",
       "      <td>LinearRegression()</td>\n",
       "      <td>38.451459</td>\n",
       "      <td>32.899250</td>\n",
       "      <td>36.853779</td>\n",
       "      <td>11.246619</td>\n",
       "      <td>0.008196</td>\n",
       "      <td>0.008851</td>\n",
       "    </tr>\n",
       "    <tr>\n",
       "      <th>LASSO</th>\n",
       "      <td>Lasso(alpha=np.float64(0.0029470517025518097))</td>\n",
       "      <td>38.451586</td>\n",
       "      <td>32.897918</td>\n",
       "      <td>36.853462</td>\n",
       "      <td>11.247370</td>\n",
       "      <td>0.008189</td>\n",
       "      <td>0.008931</td>\n",
       "    </tr>\n",
       "    <tr>\n",
       "      <th>KNN</th>\n",
       "      <td>KNeighborsRegressor(n_neighbors=6)</td>\n",
       "      <td>27.666533</td>\n",
       "      <td>28.337843</td>\n",
       "      <td>32.733376</td>\n",
       "      <td>8.720207</td>\n",
       "      <td>0.486536</td>\n",
       "      <td>0.264639</td>\n",
       "    </tr>\n",
       "    <tr>\n",
       "      <th>XGBOOST</th>\n",
       "      <td>XGBRegressor(base_score=None, booster=None, ca...</td>\n",
       "      <td>5.762698</td>\n",
       "      <td>21.402208</td>\n",
       "      <td>27.482199</td>\n",
       "      <td>10.169896</td>\n",
       "      <td>0.977723</td>\n",
       "      <td>0.580546</td>\n",
       "    </tr>\n",
       "    <tr>\n",
       "      <th>GBR</th>\n",
       "      <td>([DecisionTreeRegressor(criterion='friedman_ms...</td>\n",
       "      <td>12.288543</td>\n",
       "      <td>22.497186</td>\n",
       "      <td>30.331551</td>\n",
       "      <td>12.093915</td>\n",
       "      <td>0.898702</td>\n",
       "      <td>0.536528</td>\n",
       "    </tr>\n",
       "    <tr>\n",
       "      <th>RFR</th>\n",
       "      <td>(DecisionTreeRegressor(max_features=1.0, min_s...</td>\n",
       "      <td>13.727016</td>\n",
       "      <td>21.400744</td>\n",
       "      <td>30.043705</td>\n",
       "      <td>12.040686</td>\n",
       "      <td>0.873598</td>\n",
       "      <td>0.580604</td>\n",
       "    </tr>\n",
       "  </tbody>\n",
       "</table>\n",
       "</div>"
      ],
      "text/plain": [
       "                                                     model  RMSE train  \\\n",
       "LR                                      LinearRegression()   38.451459   \n",
       "LASSO       Lasso(alpha=np.float64(0.0029470517025518097))   38.451586   \n",
       "KNN                     KNeighborsRegressor(n_neighbors=6)   27.666533   \n",
       "XGBOOST  XGBRegressor(base_score=None, booster=None, ca...    5.762698   \n",
       "GBR      ([DecisionTreeRegressor(criterion='friedman_ms...   12.288543   \n",
       "RFR      (DecisionTreeRegressor(max_features=1.0, min_s...   13.727016   \n",
       "\n",
       "         RMSE test  Mean CV results  Std CV results  R² train   R² test  \n",
       "LR       32.899250        36.853779       11.246619  0.008196  0.008851  \n",
       "LASSO    32.897918        36.853462       11.247370  0.008189  0.008931  \n",
       "KNN      28.337843        32.733376        8.720207  0.486536  0.264639  \n",
       "XGBOOST  21.402208        27.482199       10.169896  0.977723  0.580546  \n",
       "GBR      22.497186        30.331551       12.093915  0.898702  0.536528  \n",
       "RFR      21.400744        30.043705       12.040686  0.873598  0.580604  "
      ]
     },
     "execution_count": 39,
     "metadata": {},
     "output_type": "execute_result"
    }
   ],
   "source": [
    "# Création des modèles avec les paramètres définis\n",
    "model_del = create_models(params=None)\n",
    "\n",
    "# Évaluation des modèles\n",
    "results_metric_del = evaluate_models(model_del, Xdel_train, ydel_train, Xdel_test, ydel_test,num_folds=10)\n",
    "results_metric_del\n"
   ]
  },
  {
   "cell_type": "code",
   "execution_count": 40,
   "id": "b446a912-9fe5-45f6-81c2-f07ac92ad33a",
   "metadata": {
    "colab": {
     "base_uri": "https://localhost:8080/",
     "height": 501
    },
    "id": "b446a912-9fe5-45f6-81c2-f07ac92ad33a",
    "outputId": "e42d1a47-ff72-4654-b1c9-bbfc26b97c8a"
   },
   "outputs": [
    {
     "data": {
      "text/plain": [
       "<Axes: >"
      ]
     },
     "execution_count": 40,
     "metadata": {},
     "output_type": "execute_result"
    },
    {
     "data": {
      "image/png": "[encoded data removed]",
      "text/plain": [
       "<Figure size 640x480 with 1 Axes>"
      ]
     },
     "metadata": {},
     "output_type": "display_data"
    }
   ],
   "source": [
    "# Affichage des résultats\n",
    "with pd.option_context('display.precision', 3):\n",
    "    best_print_del = results_metric_del.sort_values(by='RMSE test', ascending=True)\n",
    "\n",
    "# Comparaison des erreurs d'entraînement et de test\n",
    "best_print_del[['RMSE train', 'RMSE test']].plot(kind='bar')"
   ]
  },
  {
   "cell_type": "code",
   "execution_count": 41,
   "id": "eb29d8da-c3a4-4540-a601-f33d4477c7bb",
   "metadata": {
    "id": "eb29d8da-c3a4-4540-a601-f33d4477c7bb"
   },
   "outputs": [],
   "source": [
    "# Appel du meilleur modèle\n",
    "best_model_del = results_metric_del.loc['RFR', 'model']  # Exemple : MLP comme meilleur modèle\n",
    "# Prédiction avec le meilleur modèle sur de nouvelles données\n",
    "#y_pred = best_model.predict(X_new)"
   ]
  },
  {
   "cell_type": "markdown",
   "id": "58bd8bf1-8ff7-41af-baee-9f9ff4b31a75",
   "metadata": {
    "id": "58bd8bf1-8ff7-41af-baee-9f9ff4b31a75"
   },
   "source": [
    "# Traitement de la base X_test"
   ]
  },
  {
   "cell_type": "code",
   "execution_count": 70,
   "id": "797a3848-d6b2-4506-ad74-97ef5e73062b",
   "metadata": {
    "id": "797a3848-d6b2-4506-ad74-97ef5e73062b"
   },
   "outputs": [],
   "source": [
    "dt_test = pd.read_csv(\"X_test.csv\",sep=\",\")\n",
    "X_test=dt_test"
   ]
  },
  {
   "cell_type": "code",
   "execution_count": 74,
   "id": "c99dec02-ae47-4e77-95d9-ce1336851c2e",
   "metadata": {},
   "outputs": [],
   "source": [
    "X_test['DELIVERY_START'] = pd.to_datetime(X_test['DELIVERY_START'])\n",
    "X_test=create_variable_temporelle(X_test)"
   ]
  },
  {
   "cell_type": "code",
   "execution_count": 73,
   "id": "b49fa4e4-d3e5-4e3e-9651-835471476922",
   "metadata": {},
   "outputs": [],
   "source": [
    "X_test['DELIVERY_START'] = pd.to_datetime(X_test['DELIVERY_START'])\n",
    "# Création des nouvelles variables temporelles\n",
    "X_test['hour'] = X_test['DELIVERY_START'].dt.hour\n",
    "X_test['day_of_week'] = X_test['DELIVERY_START'].dt.dayofweek\n",
    "X_test['month'] = X_test['DELIVERY_START'].dt.month\n",
    "\n",
    "# Création de la variable \"jour ouvré\"\n",
    "X_test['is_workday'] = X_test['day_of_week'].apply(lambda x: 1 if x < 5 else 0)"
   ]
  },
  {
   "cell_type": "code",
   "execution_count": null,
   "id": "0c4ca59a-d452-4883-b50d-13fb967363a4",
   "metadata": {
    "id": "0c4ca59a-d452-4883-b50d-13fb967363a4"
   },
   "outputs": [],
   "source": [
    "#spot_id_delta = Y\n",
    "# Création des retards et des moyennes glissantes\n",
    "X_test['Y_lag_1'] = X_test['load_forecast'].shift(1)\n",
    "X_test['Y_rolling_mean_3'] = X_test['load_forecast'].rolling(window=3).mean()\n",
    "X_test['Y_rolling_std_3'] = X_test['load_forecast'].rolling(window=3).std()\n",
    "\n",
    "\n",
    "# Remplacer les valeurs manquantes uniquement dans les colonnes des retards et moyennes glissantes\n",
    "X_test[['Y_lag_1', 'Y_rolling_mean_3', 'Y_rolling_std_3']] = X_test[['Y_lag_1', 'Y_rolling_mean_3', 'Y_rolling_std_3']].fillna(0)"
   ]
  },
  {
   "cell_type": "code",
   "execution_count": null,
   "id": "C1kHs1KV1Rcf",
   "metadata": {
    "id": "C1kHs1KV1Rcf"
   },
   "outputs": [],
   "source": [
    "X_test['Y_gas_mean_6'] = X_test['gas_power_available'].rolling(window=6).mean()\n",
    "X_test['Y_gas_std_6'] = X_test['gas_power_available'].rolling(window=6).std()\n",
    "X_test['Y_coal_mean_6'] = X_test['coal_power_available'].rolling(window=6).mean()\n",
    "X_test['Y_coal_std_6'] = X_test['coal_power_available'].rolling(window=6).std()\n",
    "\n",
    "# Remplacer les valeurs manquantes uniquement dans les colonnes des retards et moyennes glissantes\n",
    "X_test[['Y_coal_std_6','Y_coal_mean_6','Y_gas_std_6','Y_gas_mean_6']] = X_test[['Y_coal_std_6','Y_coal_mean_6','Y_gas_std_6','Y_gas_mean_6']].fillna(0)"
   ]
  },
  {
   "cell_type": "code",
   "execution_count": 76,
   "id": "d027f984-4076-4bc6-9fe2-0129aef2b84e",
   "metadata": {
    "id": "d027f984-4076-4bc6-9fe2-0129aef2b84e"
   },
   "outputs": [],
   "source": [
    "# Sélectionner les colonnes à imputer\n",
    "columns_to_impute_test = ['solar_power_forecasts_average','solar_power_forecasts_std']\n",
    "# Imputation avec interpolation linéaire\n",
    "X_test[columns_to_impute] = X_test[columns_to_impute].interpolate(method='linear', axis=0)"
   ]
  },
  {
   "cell_type": "code",
   "execution_count": 75,
   "id": "fe0f713e-82f4-4bdf-ad9b-b81d01b1401b",
   "metadata": {
    "id": "d027f984-4076-4bc6-9fe2-0129aef2b84e"
   },
   "outputs": [
    {
     "ename": "NameError",
     "evalue": "name 'imputer' is not defined",
     "output_type": "error",
     "traceback": [
      "\u001b[1;31m----------------------------------------------------------\u001b[0m",
      "\u001b[1;31mNameError\u001b[0m                Traceback (most recent call last)",
      "Cell \u001b[1;32mIn[75], line 4\u001b[0m\n\u001b[0;32m      2\u001b[0m columns_to_impute_test \u001b[38;5;241m=\u001b[39m [\u001b[38;5;124m'\u001b[39m\u001b[38;5;124msolar_power_forecasts_average\u001b[39m\u001b[38;5;124m'\u001b[39m,\u001b[38;5;124m'\u001b[39m\u001b[38;5;124msolar_power_forecasts_std\u001b[39m\u001b[38;5;124m'\u001b[39m]\n\u001b[0;32m      3\u001b[0m \u001b[38;5;66;03m# Imputer les colonnes spécifiées\u001b[39;00m\n\u001b[1;32m----> 4\u001b[0m X_test[columns_to_impute_test] \u001b[38;5;241m=\u001b[39m \u001b[43mimputer\u001b[49m\u001b[38;5;241m.\u001b[39mfit_transform(X_test[columns_to_impute_test])\n",
      "\u001b[1;31mNameError\u001b[0m: name 'imputer' is not defined"
     ]
    }
   ],
   "source": [
    "# Sélectionner les colonnes à imputer\n",
    "columns_to_impute_test = ['solar_power_forecasts_average','solar_power_forecasts_std']\n",
    "# Imputer les colonnes spécifiées\n",
    "X_test[columns_to_impute_test] = imputer.fit_transform(X_test[columns_to_impute_test])"
   ]
  },
  {
   "cell_type": "code",
   "execution_count": 77,
   "id": "056df50d-c15e-47a9-9428-d7bbce5c627e",
   "metadata": {
    "id": "056df50d-c15e-47a9-9428-d7bbce5c627e"
   },
   "outputs": [],
   "source": [
    "data_predspot_test = X_test.dropna(subset=['predicted_spot_price'])"
   ]
  },
  {
   "cell_type": "code",
   "execution_count": 78,
   "id": "1699092f-b6b1-4edd-83f5-c5b4881bc6a5",
   "metadata": {
    "id": "1699092f-b6b1-4edd-83f5-c5b4881bc6a5"
   },
   "outputs": [],
   "source": [
    "# Séparer la variable cible et les variables explicatives\n",
    "X_Spot_test_train = data_predspot_test.drop(columns=['predicted_spot_price', 'DELIVERY_START'])\n",
    "y_Spot_test_train = data_predspot_test['predicted_spot_price']\n",
    "\n",
    "# Séparer les données d'entraînement et de test\n",
    "Xsptest_train, Xsptest_test, ysptest_train, ysptest_test = train_test_split(X_Spot_test_train, y_Spot_test_train, test_size=0.1, random_state=42)"
   ]
  },
  {
   "cell_type": "code",
   "execution_count": 79,
   "id": "0cbc771e-8f3f-4c5e-814d-0b01ec17cd54",
   "metadata": {
    "id": "0cbc771e-8f3f-4c5e-814d-0b01ec17cd54"
   },
   "outputs": [],
   "source": [
    "#Standadiser\n",
    "\n",
    "# Appliquer le scaler sur les données d'entraînement\n",
    "Xsptest_train = scaler.fit_transform(Xsptest_train)\n",
    "\n",
    "# Appliquer le même scaler sur les données de test\n",
    "Xsptest_test = scaler.transform(Xsptest_test)"
   ]
  },
  {
   "cell_type": "code",
   "execution_count": 80,
   "id": "1f55454f-d06f-4fc6-8886-677b196f615b",
   "metadata": {},
   "outputs": [
    {
     "name": "stdout",
     "output_type": "stream",
     "text": [
      "RMSE pour Random Forest (Spot Delta) : 8.148855173395804\n",
      "RMSE pour XGBoost (Spot Delta) : 7.081274663681441\n",
      "R² pour Random Forest (Spot Delta) : 0.9211313883767348\n",
      "R² pour XGBoost (Spot Delta) : 0.9404428541753086\n"
     ]
    }
   ],
   "source": [
    "# Initialisation du seed\n",
    "seed = 123\n",
    "\n",
    "# Initialisation du modèle RandomForestRegressor avec des hyperparamètres ajustés\n",
    "rf_model_xt = RandomForestRegressor(\n",
    "    n_estimators=500,         # Augmenter le nombre d'arbres\n",
    "    min_samples_split=2,      # Minimum d'échantillons pour diviser un nœud\n",
    "    min_samples_leaf=2,       # Minimum d'échantillons dans une feuille\n",
    "    max_features='sqrt',      # Nombre de caractéristiques à considérer lors de la division\n",
    "    random_state=seed,\n",
    "    bootstrap=False,           # Tirage avec remise pour les échantillons\n",
    "    criterion='friedman_mse'  # Utilisation de l'erreur quadratique moyenne (par défaut)\n",
    ")\n",
    "\n",
    "# Initialisation du modèle XGBRegressor avec des hyperparamètres ajustés\n",
    "xgb_model_xt = XGBRegressor(\n",
    "    n_estimators=200,         # Augmenter le nombre d'arbres\n",
    "    learning_rate=0.05,       # Taux d'apprentissage plus faible\n",
    "    max_depth=6,              # Profondeur des arbres\n",
    "    min_child_weight=3,       # Poids minimum pour diviser\n",
    "    subsample=0.8,            # Utiliser 80% des échantillons pour chaque arbre\n",
    "    colsample_bytree=0.8,     # Utiliser 80% des caractéristiques pour chaque arbre\n",
    "    gamma=0.1,                # Régularisation pour réduire la complexité\n",
    "    random_state=seed\n",
    ")\n",
    "\n",
    "# Entraîner les modèles avec les données d'entraînement de Spot Delta (données X_Spot_test_train)\n",
    "rf_model_xt.fit(Xsptest_train, ysptest_train)\n",
    "xgb_model_xt.fit(Xsptest_train, ysptest_train)\n",
    "\n",
    "# Prédictions avec les données de test\n",
    "rf_pred_xt = rf_model_xt.predict(Xsptest_test)\n",
    "xgb_pred_xt = xgb_model_xt.predict(Xsptest_test)\n",
    "\n",
    "# Calculer les métriques (RMSE)\n",
    "rf_rmse_xt = np.sqrt(mean_squared_error(ysptest_test, rf_pred_xt))\n",
    "xgb_rmse_xt = np.sqrt(mean_squared_error(ysptest_test, xgb_pred_xt))\n",
    "\n",
    "# Calculer le R²\n",
    "R2rf_xt = r2_score(ysptest_test, rf_pred_xt)\n",
    "R2xg_xt = r2_score(ysptest_test, xgb_pred_xt)\n",
    "\n",
    "# Afficher les résultats\n",
    "print(f\"RMSE pour Random Forest (Spot Delta) : {rf_rmse_xt}\")\n",
    "print(f\"RMSE pour XGBoost (Spot Delta) : {xgb_rmse_xt}\")\n",
    "print(f\"R² pour Random Forest (Spot Delta) : {R2rf_xt}\")\n",
    "print(f\"R² pour XGBoost (Spot Delta) : {R2xg_xt}\")\n"
   ]
  },
  {
   "cell_type": "code",
   "execution_count": 67,
   "id": "e764bdc7-8a7f-4e70-878b-de6ed5d10f97",
   "metadata": {
    "colab": {
     "base_uri": "https://localhost:8080/",
     "height": 1000
    },
    "id": "e764bdc7-8a7f-4e70-878b-de6ed5d10f97",
    "outputId": "cbf91d77-4b92-4fb0-a392-865c81506323"
   },
   "outputs": [
    {
     "name": "stdout",
     "output_type": "stream",
     "text": [
      "Meilleurs paramètres pour LASSO: {'alpha': np.float64(0.0029470517025518097)}\n",
      "Meilleurs paramètres pour KNN: {'n_neighbors': 6}\n",
      "Meilleurs paramètres pour XGBOOST: {'n_estimators': 200, 'max_depth': 5, 'learning_rate': 0.2}\n",
      "Meilleurs paramètres pour GBR: {'n_estimators': 200, 'max_depth': 5, 'learning_rate': 0.2}\n",
      "Meilleurs paramètres pour RFR: {'n_estimators': 200, 'min_samples_split': 5, 'max_depth': 30}\n"
     ]
    },
    {
     "data": {
      "text/html": [
       "<div>\n",
       "<style scoped>\n",
       "    .dataframe tbody tr th:only-of-type {\n",
       "        vertical-align: middle;\n",
       "    }\n",
       "\n",
       "    .dataframe tbody tr th {\n",
       "        vertical-align: top;\n",
       "    }\n",
       "\n",
       "    .dataframe thead th {\n",
       "        text-align: right;\n",
       "    }\n",
       "</style>\n",
       "<table border=\"1\" class=\"dataframe\">\n",
       "  <thead>\n",
       "    <tr style=\"text-align: right;\">\n",
       "      <th></th>\n",
       "      <th>model</th>\n",
       "      <th>RMSE train</th>\n",
       "      <th>RMSE test</th>\n",
       "      <th>Mean CV results</th>\n",
       "      <th>Std CV results</th>\n",
       "      <th>R² train</th>\n",
       "      <th>R² test</th>\n",
       "    </tr>\n",
       "  </thead>\n",
       "  <tbody>\n",
       "    <tr>\n",
       "      <th>LR</th>\n",
       "      <td>LinearRegression()</td>\n",
       "      <td>18.964493</td>\n",
       "      <td>19.788177</td>\n",
       "      <td>19.059144</td>\n",
       "      <td>0.758582</td>\n",
       "      <td>0.554521</td>\n",
       "      <td>0.534925</td>\n",
       "    </tr>\n",
       "    <tr>\n",
       "      <th>LASSO</th>\n",
       "      <td>Lasso(alpha=np.float64(0.0029470517025518097))</td>\n",
       "      <td>18.964501</td>\n",
       "      <td>19.786820</td>\n",
       "      <td>19.059139</td>\n",
       "      <td>0.758451</td>\n",
       "      <td>0.554521</td>\n",
       "      <td>0.534989</td>\n",
       "    </tr>\n",
       "    <tr>\n",
       "      <th>KNN</th>\n",
       "      <td>KNeighborsRegressor(n_neighbors=6)</td>\n",
       "      <td>10.713511</td>\n",
       "      <td>12.476342</td>\n",
       "      <td>13.829238</td>\n",
       "      <td>0.655299</td>\n",
       "      <td>0.857830</td>\n",
       "      <td>0.815122</td>\n",
       "    </tr>\n",
       "    <tr>\n",
       "      <th>XGBOOST</th>\n",
       "      <td>XGBRegressor(base_score=None, booster=None, ca...</td>\n",
       "      <td>2.736351</td>\n",
       "      <td>7.850628</td>\n",
       "      <td>7.484145</td>\n",
       "      <td>0.546650</td>\n",
       "      <td>0.990726</td>\n",
       "      <td>0.926799</td>\n",
       "    </tr>\n",
       "    <tr>\n",
       "      <th>GBR</th>\n",
       "      <td>([DecisionTreeRegressor(criterion='friedman_ms...</td>\n",
       "      <td>2.581826</td>\n",
       "      <td>7.804092</td>\n",
       "      <td>7.718831</td>\n",
       "      <td>0.591007</td>\n",
       "      <td>0.991743</td>\n",
       "      <td>0.927664</td>\n",
       "    </tr>\n",
       "    <tr>\n",
       "      <th>RFR</th>\n",
       "      <td>(DecisionTreeRegressor(max_depth=30, max_featu...</td>\n",
       "      <td>4.989167</td>\n",
       "      <td>10.842863</td>\n",
       "      <td>11.382763</td>\n",
       "      <td>0.774206</td>\n",
       "      <td>0.969168</td>\n",
       "      <td>0.860363</td>\n",
       "    </tr>\n",
       "  </tbody>\n",
       "</table>\n",
       "</div>"
      ],
      "text/plain": [
       "                                                     model  RMSE train  \\\n",
       "LR                                      LinearRegression()   18.964493   \n",
       "LASSO       Lasso(alpha=np.float64(0.0029470517025518097))   18.964501   \n",
       "KNN                     KNeighborsRegressor(n_neighbors=6)   10.713511   \n",
       "XGBOOST  XGBRegressor(base_score=None, booster=None, ca...    2.736351   \n",
       "GBR      ([DecisionTreeRegressor(criterion='friedman_ms...    2.581826   \n",
       "RFR      (DecisionTreeRegressor(max_depth=30, max_featu...    4.989167   \n",
       "\n",
       "         RMSE test  Mean CV results  Std CV results  R² train   R² test  \n",
       "LR       19.788177        19.059144        0.758582  0.554521  0.534925  \n",
       "LASSO    19.786820        19.059139        0.758451  0.554521  0.534989  \n",
       "KNN      12.476342        13.829238        0.655299  0.857830  0.815122  \n",
       "XGBOOST   7.850628         7.484145        0.546650  0.990726  0.926799  \n",
       "GBR       7.804092         7.718831        0.591007  0.991743  0.927664  \n",
       "RFR      10.842863        11.382763        0.774206  0.969168  0.860363  "
      ]
     },
     "execution_count": 67,
     "metadata": {},
     "output_type": "execute_result"
    }
   ],
   "source": [
    "# Création des modèles\n",
    "model_sp_test = create_models(params=param_grids)\n",
    "\n",
    "# Évaluation des modèles\n",
    "results_metrics_sp_test = evaluate_models(model_sp_test, Xsptest_train, ysptest_train, Xsptest_test, ysptest_test,num_folds=10)\n",
    "results_metrics_sp_test"
   ]
  },
  {
   "cell_type": "code",
   "execution_count": 68,
   "id": "107cac8f-fa0a-4d3a-a3f7-695bfdd400d4",
   "metadata": {
    "colab": {
     "base_uri": "https://localhost:8080/",
     "height": 501
    },
    "id": "107cac8f-fa0a-4d3a-a3f7-695bfdd400d4",
    "outputId": "82d024e0-1ab2-4d55-b7c8-2b7f5f69bfa2"
   },
   "outputs": [
    {
     "data": {
      "text/plain": [
       "<Axes: >"
      ]
     },
     "execution_count": 68,
     "metadata": {},
     "output_type": "execute_result"
    },
    {
     "data": {
      "image/png": "[encoded data removed]",
      "text/plain": [
       "<Figure size 640x480 with 1 Axes>"
      ]
     },
     "metadata": {},
     "output_type": "display_data"
    }
   ],
   "source": [
    "# Affichage des résultats\n",
    "with pd.option_context('display.precision', 3):\n",
    "    best_print_sp_test = results_metrics_sp_test.sort_values(by='RMSE test', ascending=True)\n",
    "\n",
    "# Comparaison des erreurs d'entraînement et de test\n",
    "best_print_sp_test[['RMSE train', 'RMSE test']].plot(kind='bar')"
   ]
  },
  {
   "cell_type": "code",
   "execution_count": 69,
   "id": "97d09406-9d00-4f24-adc3-c8ea93c24c35",
   "metadata": {
    "id": "97d09406-9d00-4f24-adc3-c8ea93c24c35"
   },
   "outputs": [],
   "source": [
    "# Appel du meilleur modèle\n",
    "best_model_sp_test = results_metrics_sp_test.loc['KNN', 'model']"
   ]
  },
  {
   "cell_type": "code",
   "execution_count": 81,
   "id": "a882f270-1c5f-4d27-90ac-2fec1b3c987a",
   "metadata": {},
   "outputs": [],
   "source": [
    "#Standadiser\n",
    "# Initialisation du scaler\n",
    "scaler = StandardScaler()\n",
    "# Appliquer le scaler sur les données d'entraînement\n",
    "Xlf_train = scaler.fit_transform(Xlf_train)\n",
    "\n",
    "# Appliquer le même scaler sur les données de test\n",
    "Xlf_test = scaler.transform(Xlf_test)"
   ]
  },
  {
   "cell_type": "code",
   "execution_count": 82,
   "id": "f44db931-0ef6-444c-aa6c-963cd5e633d6",
   "metadata": {
    "id": "f44db931-0ef6-444c-aa6c-963cd5e633d6"
   },
   "outputs": [],
   "source": [
    "#la base avec les valeurs manquantes\n",
    "data_sp_test_with_na = X_test[X_test['predicted_spot_price'].isna()]\n",
    "\n",
    "#definir les valeurs pour la prediction\n",
    "Xsp_test_predi= data_sp_test_with_na.drop(columns=['DELIVERY_START','predicted_spot_price'])"
   ]
  },
  {
   "cell_type": "code",
   "execution_count": 83,
   "id": "e2976190-b19b-40aa-8cb6-f950ccb4bc7a",
   "metadata": {},
   "outputs": [],
   "source": [
    "#Standadiser\n",
    "# Initialisation du scaler\n",
    "scaler = StandardScaler()\n",
    "# Appliquer le même scaler sur les données de test\n",
    "Xsp_test_predi = scaler.fit_transform(Xsp_test_predi)"
   ]
  },
  {
   "cell_type": "code",
   "execution_count": 72,
   "id": "b4e3238a-69f5-430c-9e67-0d947393eea5",
   "metadata": {
    "colab": {
     "base_uri": "https://localhost:8080/",
     "height": 445
    },
    "id": "2ca13cd1-0675-483b-8001-045d8f2e3d2a",
    "outputId": "1cbdd8b5-ea8b-4ccf-bf4f-ae76c6a3ef74"
   },
   "outputs": [
    {
     "name": "stderr",
     "output_type": "stream",
     "text": [
      "C:\\Users\\boric\\AppData\\Local\\Programs\\Python\\Python312\\Lib\\site-packages\\sklearn\\base.py:486: UserWarning: X has feature names, but KNeighborsRegressor was fitted without feature names\n",
      "  warnings.warn(\n"
     ]
    }
   ],
   "source": [
    "# Remplir les valeurs manquantes dans le DataFrame d'origine\n",
    "X_test.loc[X_test['predicted_spot_price'].isna(), 'predicted_spot_price'] =best_model_sp_test.predict(Xsp_test_predi)"
   ]
  },
  {
   "cell_type": "code",
   "execution_count": 84,
   "id": "ead10068-bec2-4ba3-a294-b4bca5735236",
   "metadata": {
    "colab": {
     "base_uri": "https://localhost:8080/",
     "height": 445
    },
    "id": "2ca13cd1-0675-483b-8001-045d8f2e3d2a",
    "outputId": "1cbdd8b5-ea8b-4ccf-bf4f-ae76c6a3ef74"
   },
   "outputs": [],
   "source": [
    "# Remplir les valeurs manquantes dans le DataFrame d'origine\n",
    "X_test.loc[X_test['predicted_spot_price'].isna(), 'predicted_spot_price'] =xgb_model_xt.predict(Xsp_test_predi)"
   ]
  },
  {
   "cell_type": "code",
   "execution_count": 85,
   "id": "c83cf126-c83e-4fee-9750-6ee57f55a80d",
   "metadata": {},
   "outputs": [],
   "source": [
    "# Variables pour lesquelles créer des lags\n",
    "columns_to_lag = ['predicted_spot_price', 'load_forecast', 'coal_power_available', \n",
    "                  'gas_power_available', 'nucelear_power_available', \n",
    "                  'wind_power_forecasts_average', 'solar_power_forecasts_average']\n",
    "\n",
    "# Périodes de lags horaires (par exemple 1 heure, 2 heures, 3 heures)\n",
    "lag_periods = [1, 2, 3, 4, 5]  # Tu peux aussi augmenter ces valeurs\n",
    "\n",
    "# Appliquer la fonction pour créer les lags\n",
    "X_test_lags = create_lags(X_test, columns_to_lag, lag_periods)"
   ]
  },
  {
   "cell_type": "code",
   "execution_count": 76,
   "id": "4f736ab9-5adf-41ac-ba00-476a87c19466",
   "metadata": {},
   "outputs": [],
   "source": [
    "#spot_id_delta = Y\n",
    "# Création des retards et des moyennes glissantes\n",
    "X_test['Y_lag_1'] = X_test['predicted_spot_price'].shift(1)\n",
    "X_test['Y_rolling_mean_3'] = X_test['predicted_spot_price'].rolling(window=3).mean()\n",
    "X_test['Y_rolling_std_3'] = X_test['predicted_spot_price'].rolling(window=3).std()\n",
    "# Remplacer les valeurs manquantes uniquement dans les colonnes des retards et moyennes glissantes\n",
    "X_test[['Y_lag_1', 'Y_rolling_mean_3', 'Y_rolling_std_3']] = X_test[['Y_lag_1', 'Y_rolling_mean_3', 'Y_rolling_std_3']].fillna(0)"
   ]
  },
  {
   "cell_type": "code",
   "execution_count": 93,
   "id": "2cba199e-c8d4-4c91-943e-a334a583ff22",
   "metadata": {},
   "outputs": [
    {
     "name": "stdout",
     "output_type": "stream",
     "text": [
      "<class 'pandas.core.frame.DataFrame'>\n",
      "RangeIndex: 4942 entries, 0 to 4941\n",
      "Data columns (total 52 columns):\n",
      " #   Column                               Non-Null Count  Dtype                    \n",
      "---  ------                               --------------  -----                    \n",
      " 0   DELIVERY_START                       4942 non-null   datetime64[ns, UTC+02:00]\n",
      " 1   load_forecast                        4942 non-null   float64                  \n",
      " 2   coal_power_available                 4942 non-null   float64                  \n",
      " 3   gas_power_available                  4942 non-null   float64                  \n",
      " 4   nucelear_power_available             4942 non-null   float64                  \n",
      " 5   wind_power_forecasts_average         4942 non-null   float64                  \n",
      " 6   solar_power_forecasts_average        4942 non-null   float64                  \n",
      " 7   wind_power_forecasts_std             4942 non-null   float64                  \n",
      " 8   solar_power_forecasts_std            4942 non-null   float64                  \n",
      " 9   predicted_spot_price                 4942 non-null   float64                  \n",
      " 10  hour                                 4942 non-null   int32                    \n",
      " 11  day_of_week                          4942 non-null   int32                    \n",
      " 12  month                                4942 non-null   int32                    \n",
      " 13  is_workday                           4942 non-null   int64                    \n",
      " 14  year                                 4942 non-null   int32                    \n",
      " 15  dayofyear                            4942 non-null   int32                    \n",
      " 16  quarter                              4942 non-null   int32                    \n",
      " 17  predicted_spot_price_lag_1           4942 non-null   float64                  \n",
      " 18  predicted_spot_price_lag_2           4942 non-null   float64                  \n",
      " 19  predicted_spot_price_lag_3           4942 non-null   float64                  \n",
      " 20  predicted_spot_price_lag_4           4942 non-null   float64                  \n",
      " 21  predicted_spot_price_lag_5           4942 non-null   float64                  \n",
      " 22  load_forecast_lag_1                  4942 non-null   float64                  \n",
      " 23  load_forecast_lag_2                  4942 non-null   float64                  \n",
      " 24  load_forecast_lag_3                  4942 non-null   float64                  \n",
      " 25  load_forecast_lag_4                  4942 non-null   float64                  \n",
      " 26  load_forecast_lag_5                  4942 non-null   float64                  \n",
      " 27  coal_power_available_lag_1           4942 non-null   float64                  \n",
      " 28  coal_power_available_lag_2           4942 non-null   float64                  \n",
      " 29  coal_power_available_lag_3           4942 non-null   float64                  \n",
      " 30  coal_power_available_lag_4           4942 non-null   float64                  \n",
      " 31  coal_power_available_lag_5           4942 non-null   float64                  \n",
      " 32  gas_power_available_lag_1            4942 non-null   float64                  \n",
      " 33  gas_power_available_lag_2            4942 non-null   float64                  \n",
      " 34  gas_power_available_lag_3            4942 non-null   float64                  \n",
      " 35  gas_power_available_lag_4            4942 non-null   float64                  \n",
      " 36  gas_power_available_lag_5            4942 non-null   float64                  \n",
      " 37  nucelear_power_available_lag_1       4942 non-null   float64                  \n",
      " 38  nucelear_power_available_lag_2       4942 non-null   float64                  \n",
      " 39  nucelear_power_available_lag_3       4942 non-null   float64                  \n",
      " 40  nucelear_power_available_lag_4       4942 non-null   float64                  \n",
      " 41  nucelear_power_available_lag_5       4942 non-null   float64                  \n",
      " 42  wind_power_forecasts_average_lag_1   4942 non-null   float64                  \n",
      " 43  wind_power_forecasts_average_lag_2   4942 non-null   float64                  \n",
      " 44  wind_power_forecasts_average_lag_3   4942 non-null   float64                  \n",
      " 45  wind_power_forecasts_average_lag_4   4942 non-null   float64                  \n",
      " 46  wind_power_forecasts_average_lag_5   4942 non-null   float64                  \n",
      " 47  solar_power_forecasts_average_lag_1  4942 non-null   float64                  \n",
      " 48  solar_power_forecasts_average_lag_2  4942 non-null   float64                  \n",
      " 49  solar_power_forecasts_average_lag_3  4942 non-null   float64                  \n",
      " 50  solar_power_forecasts_average_lag_4  4942 non-null   float64                  \n",
      " 51  solar_power_forecasts_average_lag_5  4942 non-null   float64                  \n",
      "dtypes: datetime64[ns, UTC+02:00](1), float64(44), int32(6), int64(1)\n",
      "memory usage: 1.8 MB\n"
     ]
    }
   ],
   "source": [
    "X_test_lags.info()"
   ]
  },
  {
   "cell_type": "code",
   "execution_count": 95,
   "id": "7a80190f-be40-4dc7-a3e7-c2f8b819bbfa",
   "metadata": {},
   "outputs": [
    {
     "data": {
      "text/plain": [
       "array([[ 0.60298893,  2.8527358 , -0.47899352, ..., -0.84103627,\n",
       "        -0.84103627, -0.84103627],\n",
       "       [ 0.29866972,  2.8527358 , -0.47899352, ..., -0.84103627,\n",
       "        -0.84103627, -0.84103627],\n",
       "       [ 0.15741635,  2.8527358 , -0.47899352, ..., -0.84103627,\n",
       "        -0.84103627, -0.84103627],\n",
       "       ...,\n",
       "       [ 1.44241742, -0.44375737,  1.62843619, ..., -0.65391569,\n",
       "        -0.13650303,  0.44642879],\n",
       "       [ 0.77238743, -0.44375737,  1.62843619, ..., -0.84103627,\n",
       "        -0.65391569, -0.13650303],\n",
       "       [ 0.70255233, -0.44375737,  1.62843619, ..., -0.84103627,\n",
       "        -0.84103627, -0.65391569]])"
      ]
     },
     "execution_count": 95,
     "metadata": {},
     "output_type": "execute_result"
    }
   ],
   "source": [
    "Xsp_test = scaler.fit_transform(X_test_lags.drop(columns=['DELIVERY_START','is_workday']))\n",
    "Xsp_test"
   ]
  },
  {
   "cell_type": "code",
   "execution_count": 78,
   "id": "5d51b52d-8a4f-42b3-a76f-1257260041ca",
   "metadata": {
    "colab": {
     "base_uri": "https://localhost:8080/"
    },
    "id": "5d51b52d-8a4f-42b3-a76f-1257260041ca",
    "outputId": "39613ee2-473c-4e57-f4c9-b37e68d26fda"
   },
   "outputs": [],
   "source": [
    "y_test_pred=best_model_del.predict(Xsp_test)\n",
    "resultat_test = pd.DataFrame({\n",
    "    'DELIVERY_START': X_test['DELIVERY_START'],  # Assuming this column exists\n",
    "    'spot_id_delta': y_test_pred\n",
    "})"
   ]
  },
  {
   "cell_type": "code",
   "execution_count": 96,
   "id": "d23cd47f-0f38-4b45-8d60-85cf5dc01c57",
   "metadata": {
    "colab": {
     "base_uri": "https://localhost:8080/"
    },
    "id": "5d51b52d-8a4f-42b3-a76f-1257260041ca",
    "outputId": "39613ee2-473c-4e57-f4c9-b37e68d26fda"
   },
   "outputs": [],
   "source": [
    "y_test_pred=rf_model_del.predict(Xsp_test)\n",
    "resultat_test = pd.DataFrame({\n",
    "    'DELIVERY_START': X_test['DELIVERY_START'],  # Assuming this column exists\n",
    "    'spot_id_delta': y_test_pred\n",
    "})"
   ]
  },
  {
   "cell_type": "code",
   "execution_count": 98,
   "id": "b5424d76-e190-48ac-9c18-7cd631c09e4b",
   "metadata": {
    "colab": {
     "base_uri": "https://localhost:8080/",
     "height": 363
    },
    "id": "b5424d76-e190-48ac-9c18-7cd631c09e4b",
    "outputId": "1ef19ecf-dbc7-4eed-dc19-1c581998d3d8"
   },
   "outputs": [
    {
     "data": {
      "text/html": [
       "<div>\n",
       "<style scoped>\n",
       "    .dataframe tbody tr th:only-of-type {\n",
       "        vertical-align: middle;\n",
       "    }\n",
       "\n",
       "    .dataframe tbody tr th {\n",
       "        vertical-align: top;\n",
       "    }\n",
       "\n",
       "    .dataframe thead th {\n",
       "        text-align: right;\n",
       "    }\n",
       "</style>\n",
       "<table border=\"1\" class=\"dataframe\">\n",
       "  <thead>\n",
       "    <tr style=\"text-align: right;\">\n",
       "      <th></th>\n",
       "      <th>DELIVERY_START</th>\n",
       "      <th>spot_id_delta</th>\n",
       "    </tr>\n",
       "  </thead>\n",
       "  <tbody>\n",
       "    <tr>\n",
       "      <th>4932</th>\n",
       "      <td>2023-10-24 14:00:00+02:00</td>\n",
       "      <td>10.934521</td>\n",
       "    </tr>\n",
       "    <tr>\n",
       "      <th>4933</th>\n",
       "      <td>2023-10-24 15:00:00+02:00</td>\n",
       "      <td>11.269421</td>\n",
       "    </tr>\n",
       "    <tr>\n",
       "      <th>4934</th>\n",
       "      <td>2023-10-24 16:00:00+02:00</td>\n",
       "      <td>10.625644</td>\n",
       "    </tr>\n",
       "    <tr>\n",
       "      <th>4935</th>\n",
       "      <td>2023-10-24 17:00:00+02:00</td>\n",
       "      <td>6.549091</td>\n",
       "    </tr>\n",
       "    <tr>\n",
       "      <th>4936</th>\n",
       "      <td>2023-10-24 18:00:00+02:00</td>\n",
       "      <td>3.386368</td>\n",
       "    </tr>\n",
       "    <tr>\n",
       "      <th>4937</th>\n",
       "      <td>2023-10-24 19:00:00+02:00</td>\n",
       "      <td>-2.801116</td>\n",
       "    </tr>\n",
       "    <tr>\n",
       "      <th>4938</th>\n",
       "      <td>2023-10-24 20:00:00+02:00</td>\n",
       "      <td>-0.547657</td>\n",
       "    </tr>\n",
       "    <tr>\n",
       "      <th>4939</th>\n",
       "      <td>2023-10-24 21:00:00+02:00</td>\n",
       "      <td>-1.422850</td>\n",
       "    </tr>\n",
       "    <tr>\n",
       "      <th>4940</th>\n",
       "      <td>2023-10-24 22:00:00+02:00</td>\n",
       "      <td>-2.146224</td>\n",
       "    </tr>\n",
       "    <tr>\n",
       "      <th>4941</th>\n",
       "      <td>2023-10-24 23:00:00+02:00</td>\n",
       "      <td>0.273221</td>\n",
       "    </tr>\n",
       "  </tbody>\n",
       "</table>\n",
       "</div>"
      ],
      "text/plain": [
       "                DELIVERY_START  spot_id_delta\n",
       "4932 2023-10-24 14:00:00+02:00      10.934521\n",
       "4933 2023-10-24 15:00:00+02:00      11.269421\n",
       "4934 2023-10-24 16:00:00+02:00      10.625644\n",
       "4935 2023-10-24 17:00:00+02:00       6.549091\n",
       "4936 2023-10-24 18:00:00+02:00       3.386368\n",
       "4937 2023-10-24 19:00:00+02:00      -2.801116\n",
       "4938 2023-10-24 20:00:00+02:00      -0.547657\n",
       "4939 2023-10-24 21:00:00+02:00      -1.422850\n",
       "4940 2023-10-24 22:00:00+02:00      -2.146224\n",
       "4941 2023-10-24 23:00:00+02:00       0.273221"
      ]
     },
     "execution_count": 98,
     "metadata": {},
     "output_type": "execute_result"
    }
   ],
   "source": [
    "resultat_test.tail(10)"
   ]
  },
  {
   "cell_type": "code",
   "execution_count": 99,
   "id": "e4cd3e9e-9055-425c-95af-f74a6191a77a",
   "metadata": {
    "id": "e4cd3e9e-9055-425c-95af-f74a6191a77a"
   },
   "outputs": [],
   "source": [
    "#Save the results to a CSV file\n",
    "resultat_test.to_csv('Aooowith.csv', index=False)"
   ]
  },
  {
   "cell_type": "code",
   "execution_count": null,
   "id": "cd3452af-7c5e-4812-ba52-0d2424fc9350",
   "metadata": {
    "colab": {
     "base_uri": "https://localhost:8080/",
     "height": 556
    },
    "id": "cd3452af-7c5e-4812-ba52-0d2424fc9350",
    "outputId": "697776f8-3639-4bb8-fbe0-d4d9c2d786e5"
   },
   "outputs": [
    {
     "data": {
      "application/vnd.google.colaboratory.intrinsic+json": {
       "summary": "{\n  \"name\": \"X_test\",\n  \"rows\": 4942,\n  \"fields\": [\n    {\n      \"column\": \"DELIVERY_START\",\n      \"properties\": {\n        \"dtype\": \"date\",\n        \"min\": \"2023-04-02 00:00:00+02:00\",\n        \"max\": \"2023-10-24 23:00:00+02:00\",\n        \"num_unique_values\": 4942,\n        \"samples\": [\n          \"2023-04-08 07:00:00+02:00\",\n          \"2023-05-05 15:00:00+02:00\",\n          \"2023-04-27 21:00:00+02:00\"\n        ],\n        \"semantic_type\": \"\",\n        \"description\": \"\"\n      }\n    },\n    {\n      \"column\": \"load_forecast\",\n      \"properties\": {\n        \"dtype\": \"number\",\n        \"std\": 5685.395404677543,\n        \"min\": 27775.0,\n        \"max\": 64772.0,\n        \"num_unique_values\": 4387,\n        \"samples\": [\n          41949.0,\n          45606.0,\n          45894.0\n        ],\n        \"semantic_type\": \"\",\n        \"description\": \"\"\n      }\n    },\n    {\n      \"column\": \"coal_power_available\",\n      \"properties\": {\n        \"dtype\": \"number\",\n        \"std\": 351.9247034682961,\n        \"min\": 1646.0,\n        \"max\": 3386.0,\n        \"num_unique_values\": 6,\n        \"samples\": [\n          3386.0,\n          3236.0,\n          1646.0\n        ],\n        \"semantic_type\": \"\",\n        \"description\": \"\"\n      }\n    },\n    {\n      \"column\": \"gas_power_available\",\n      \"properties\": {\n        \"dtype\": \"number\",\n        \"std\": 401.95205698740034,\n        \"min\": 9807.0,\n        \"max\": 11952.0,\n        \"num_unique_values\": 38,\n        \"samples\": [\n          11952.0,\n          11241.0,\n          10475.0\n        ],\n        \"semantic_type\": \"\",\n        \"description\": \"\"\n      }\n    },\n    {\n      \"column\": \"nucelear_power_available\",\n      \"properties\": {\n        \"dtype\": \"number\",\n        \"std\": 2904.153457221519,\n        \"min\": 30189.0,\n        \"max\": 44155.0,\n        \"num_unique_values\": 522,\n        \"samples\": [\n          40530.0,\n          37595.0,\n          38100.0\n        ],\n        \"semantic_type\": \"\",\n        \"description\": \"\"\n      }\n    },\n    {\n      \"column\": \"wind_power_forecasts_average\",\n      \"properties\": {\n        \"dtype\": \"number\",\n        \"std\": 2583.8466562503995,\n        \"min\": 633.0,\n        \"max\": 14875.0,\n        \"num_unique_values\": 3506,\n        \"samples\": [\n          731.0,\n          5990.0,\n          5504.0\n        ],\n        \"semantic_type\": \"\",\n        \"description\": \"\"\n      }\n    },\n    {\n      \"column\": \"solar_power_forecasts_average\",\n      \"properties\": {\n        \"dtype\": \"number\",\n        \"std\": 3709.996060816459,\n        \"min\": -4411.500076734134,\n        \"max\": 12057.0,\n        \"num_unique_values\": 2662,\n        \"samples\": [\n          10366.0,\n          3517.0,\n          9301.0\n        ],\n        \"semantic_type\": \"\",\n        \"description\": \"\"\n      }\n    },\n    {\n      \"column\": \"wind_power_forecasts_std\",\n      \"properties\": {\n        \"dtype\": \"number\",\n        \"std\": 157.0212938465905,\n        \"min\": 1.329160135825186,\n        \"max\": 2034.570412712648,\n        \"num_unique_values\": 4937,\n        \"samples\": [\n          15.908747131503366,\n          25.607476586787257,\n          62.40896638278267\n        ],\n        \"semantic_type\": \"\",\n        \"description\": \"\"\n      }\n    },\n    {\n      \"column\": \"solar_power_forecasts_std\",\n      \"properties\": {\n        \"dtype\": \"number\",\n        \"std\": 62.904971702162015,\n        \"min\": -21.00364507514781,\n        \"max\": 587.3869909388382,\n        \"num_unique_values\": 3220,\n        \"samples\": [\n          87.55383031378118,\n          77.04817602365151,\n          169.33193428368526\n        ],\n        \"semantic_type\": \"\",\n        \"description\": \"\"\n      }\n    },\n    {\n      \"column\": \"predicted_spot_price\",\n      \"properties\": {\n        \"dtype\": \"number\",\n        \"std\": 536721.1251912863,\n        \"min\": -363021.1222863783,\n        \"max\": 1668147.1733802464,\n        \"num_unique_values\": 4414,\n        \"samples\": [\n          947175.4733093105,\n          1350213.7477085898,\n          1252162.677452266\n        ],\n        \"semantic_type\": \"\",\n        \"description\": \"\"\n      }\n    },\n    {\n      \"column\": \"hour\",\n      \"properties\": {\n        \"dtype\": \"int32\",\n        \"num_unique_values\": 24,\n        \"samples\": [\n          8,\n          16,\n          0\n        ],\n        \"semantic_type\": \"\",\n        \"description\": \"\"\n      }\n    },\n    {\n      \"column\": \"day_of_week\",\n      \"properties\": {\n        \"dtype\": \"int32\",\n        \"num_unique_values\": 7,\n        \"samples\": [\n          6,\n          0,\n          4\n        ],\n        \"semantic_type\": \"\",\n        \"description\": \"\"\n      }\n    },\n    {\n      \"column\": \"month\",\n      \"properties\": {\n        \"dtype\": \"int32\",\n        \"num_unique_values\": 7,\n        \"samples\": [\n          4,\n          5,\n          9\n        ],\n        \"semantic_type\": \"\",\n        \"description\": \"\"\n      }\n    },\n    {\n      \"column\": \"is_workday\",\n      \"properties\": {\n        \"dtype\": \"number\",\n        \"std\": 0,\n        \"min\": 0,\n        \"max\": 1,\n        \"num_unique_values\": 2,\n        \"samples\": [\n          1,\n          0\n        ],\n        \"semantic_type\": \"\",\n        \"description\": \"\"\n      }\n    },\n    {\n      \"column\": \"Y_lag_1\",\n      \"properties\": {\n        \"dtype\": \"number\",\n        \"std\": 5716.993233739633,\n        \"min\": 0.0,\n        \"max\": 64772.0,\n        \"num_unique_values\": 4387,\n        \"samples\": [\n          43575.0,\n          42778.0\n        ],\n        \"semantic_type\": \"\",\n        \"description\": \"\"\n      }\n    },\n    {\n      \"column\": \"Y_rolling_mean_3\",\n      \"properties\": {\n        \"dtype\": \"number\",\n        \"std\": 5599.450620500489,\n        \"min\": 0.0,\n        \"max\": 64031.0,\n        \"num_unique_values\": 4752,\n        \"samples\": [\n          32338.666666666668,\n          43573.0\n        ],\n        \"semantic_type\": \"\",\n        \"description\": \"\"\n      }\n    },\n    {\n      \"column\": \"Y_rolling_std_3\",\n      \"properties\": {\n        \"dtype\": \"number\",\n        \"std\": 829.3462845770085,\n        \"min\": 0.0,\n        \"max\": 5127.4752396606755,\n        \"num_unique_values\": 4940,\n        \"samples\": [\n          3461.3529628360184,\n          1544.9003204090986\n        ],\n        \"semantic_type\": \"\",\n        \"description\": \"\"\n      }\n    }\n  ]\n}",
       "type": "dataframe",
       "variable_name": "X_test"
      },
      "text/html": [
       "\n",
       "  <div id=\"df-560852d6-6775-4243-b3e5-9db42c8f076a\" class=\"colab-df-container\">\n",
       "    <div>\n",
       "<style scoped>\n",
       "    .dataframe tbody tr th:only-of-type {\n",
       "        vertical-align: middle;\n",
       "    }\n",
       "\n",
       "    .dataframe tbody tr th {\n",
       "        vertical-align: top;\n",
       "    }\n",
       "\n",
       "    .dataframe thead th {\n",
       "        text-align: right;\n",
       "    }\n",
       "</style>\n",
       "<table border=\"1\" class=\"dataframe\">\n",
       "  <thead>\n",
       "    <tr style=\"text-align: right;\">\n",
       "      <th></th>\n",
       "      <th>DELIVERY_START</th>\n",
       "      <th>load_forecast</th>\n",
       "      <th>coal_power_available</th>\n",
       "      <th>gas_power_available</th>\n",
       "      <th>nucelear_power_available</th>\n",
       "      <th>wind_power_forecasts_average</th>\n",
       "      <th>solar_power_forecasts_average</th>\n",
       "      <th>wind_power_forecasts_std</th>\n",
       "      <th>solar_power_forecasts_std</th>\n",
       "      <th>predicted_spot_price</th>\n",
       "      <th>hour</th>\n",
       "      <th>day_of_week</th>\n",
       "      <th>month</th>\n",
       "      <th>is_workday</th>\n",
       "      <th>Y_lag_1</th>\n",
       "      <th>Y_rolling_mean_3</th>\n",
       "      <th>Y_rolling_std_3</th>\n",
       "    </tr>\n",
       "  </thead>\n",
       "  <tbody>\n",
       "    <tr>\n",
       "      <th>0</th>\n",
       "      <td>2023-04-02 00:00:00+02:00</td>\n",
       "      <td>45814.0</td>\n",
       "      <td>3386.0</td>\n",
       "      <td>10902.0</td>\n",
       "      <td>36705.0</td>\n",
       "      <td>6359.0</td>\n",
       "      <td>0.0</td>\n",
       "      <td>56.764535</td>\n",
       "      <td>0.000000</td>\n",
       "      <td>-3.630211e+05</td>\n",
       "      <td>0</td>\n",
       "      <td>6</td>\n",
       "      <td>4</td>\n",
       "      <td>0</td>\n",
       "      <td>0.0</td>\n",
       "      <td>0.000000</td>\n",
       "      <td>0.000000</td>\n",
       "    </tr>\n",
       "    <tr>\n",
       "      <th>1</th>\n",
       "      <td>2023-04-02 01:00:00+02:00</td>\n",
       "      <td>44084.0</td>\n",
       "      <td>3386.0</td>\n",
       "      <td>10902.0</td>\n",
       "      <td>36705.0</td>\n",
       "      <td>6469.0</td>\n",
       "      <td>0.0</td>\n",
       "      <td>54.262133</td>\n",
       "      <td>0.000000</td>\n",
       "      <td>1.354917e+05</td>\n",
       "      <td>1</td>\n",
       "      <td>6</td>\n",
       "      <td>4</td>\n",
       "      <td>0</td>\n",
       "      <td>45814.0</td>\n",
       "      <td>0.000000</td>\n",
       "      <td>0.000000</td>\n",
       "    </tr>\n",
       "    <tr>\n",
       "      <th>2</th>\n",
       "      <td>2023-04-02 02:00:00+02:00</td>\n",
       "      <td>43281.0</td>\n",
       "      <td>3386.0</td>\n",
       "      <td>10902.0</td>\n",
       "      <td>36705.0</td>\n",
       "      <td>6511.0</td>\n",
       "      <td>0.0</td>\n",
       "      <td>78.105928</td>\n",
       "      <td>0.000000</td>\n",
       "      <td>1.290384e+06</td>\n",
       "      <td>2</td>\n",
       "      <td>6</td>\n",
       "      <td>4</td>\n",
       "      <td>0</td>\n",
       "      <td>44084.0</td>\n",
       "      <td>44393.000000</td>\n",
       "      <td>1294.462437</td>\n",
       "    </tr>\n",
       "    <tr>\n",
       "      <th>3</th>\n",
       "      <td>2023-04-02 03:00:00+02:00</td>\n",
       "      <td>40825.0</td>\n",
       "      <td>3386.0</td>\n",
       "      <td>10902.0</td>\n",
       "      <td>36705.0</td>\n",
       "      <td>6628.0</td>\n",
       "      <td>0.0</td>\n",
       "      <td>78.187557</td>\n",
       "      <td>0.000000</td>\n",
       "      <td>1.241544e+06</td>\n",
       "      <td>3</td>\n",
       "      <td>6</td>\n",
       "      <td>4</td>\n",
       "      <td>0</td>\n",
       "      <td>43281.0</td>\n",
       "      <td>42730.000000</td>\n",
       "      <td>1697.931388</td>\n",
       "    </tr>\n",
       "    <tr>\n",
       "      <th>4</th>\n",
       "      <td>2023-04-02 04:00:00+02:00</td>\n",
       "      <td>39181.0</td>\n",
       "      <td>3386.0</td>\n",
       "      <td>10902.0</td>\n",
       "      <td>36705.0</td>\n",
       "      <td>6700.0</td>\n",
       "      <td>0.0</td>\n",
       "      <td>96.765484</td>\n",
       "      <td>0.000000</td>\n",
       "      <td>1.174313e+06</td>\n",
       "      <td>4</td>\n",
       "      <td>6</td>\n",
       "      <td>4</td>\n",
       "      <td>0</td>\n",
       "      <td>40825.0</td>\n",
       "      <td>41095.666667</td>\n",
       "      <td>2063.357781</td>\n",
       "    </tr>\n",
       "    <tr>\n",
       "      <th>5</th>\n",
       "      <td>2023-04-02 05:00:00+02:00</td>\n",
       "      <td>38928.0</td>\n",
       "      <td>3386.0</td>\n",
       "      <td>10902.0</td>\n",
       "      <td>36705.0</td>\n",
       "      <td>6750.0</td>\n",
       "      <td>0.0</td>\n",
       "      <td>133.267741</td>\n",
       "      <td>0.000000</td>\n",
       "      <td>1.114565e+06</td>\n",
       "      <td>5</td>\n",
       "      <td>6</td>\n",
       "      <td>4</td>\n",
       "      <td>0</td>\n",
       "      <td>39181.0</td>\n",
       "      <td>39644.666667</td>\n",
       "      <td>1029.996278</td>\n",
       "    </tr>\n",
       "    <tr>\n",
       "      <th>6</th>\n",
       "      <td>2023-04-02 06:00:00+02:00</td>\n",
       "      <td>39181.0</td>\n",
       "      <td>3386.0</td>\n",
       "      <td>10902.0</td>\n",
       "      <td>36705.0</td>\n",
       "      <td>6808.0</td>\n",
       "      <td>0.0</td>\n",
       "      <td>148.852429</td>\n",
       "      <td>0.000000</td>\n",
       "      <td>1.093504e+06</td>\n",
       "      <td>6</td>\n",
       "      <td>6</td>\n",
       "      <td>4</td>\n",
       "      <td>0</td>\n",
       "      <td>38928.0</td>\n",
       "      <td>39096.666667</td>\n",
       "      <td>146.069618</td>\n",
       "    </tr>\n",
       "    <tr>\n",
       "      <th>7</th>\n",
       "      <td>2023-04-02 07:00:00+02:00</td>\n",
       "      <td>40070.0</td>\n",
       "      <td>3386.0</td>\n",
       "      <td>10902.0</td>\n",
       "      <td>36705.0</td>\n",
       "      <td>6816.0</td>\n",
       "      <td>76.0</td>\n",
       "      <td>194.708606</td>\n",
       "      <td>1.150447</td>\n",
       "      <td>1.100475e+06</td>\n",
       "      <td>7</td>\n",
       "      <td>6</td>\n",
       "      <td>4</td>\n",
       "      <td>0</td>\n",
       "      <td>39181.0</td>\n",
       "      <td>39393.000000</td>\n",
       "      <td>599.790797</td>\n",
       "    </tr>\n",
       "    <tr>\n",
       "      <th>8</th>\n",
       "      <td>2023-04-02 08:00:00+02:00</td>\n",
       "      <td>41653.0</td>\n",
       "      <td>3386.0</td>\n",
       "      <td>10902.0</td>\n",
       "      <td>36705.0</td>\n",
       "      <td>6798.0</td>\n",
       "      <td>806.0</td>\n",
       "      <td>262.002351</td>\n",
       "      <td>6.050982</td>\n",
       "      <td>1.114224e+06</td>\n",
       "      <td>8</td>\n",
       "      <td>6</td>\n",
       "      <td>4</td>\n",
       "      <td>0</td>\n",
       "      <td>40070.0</td>\n",
       "      <td>40301.333333</td>\n",
       "      <td>1252.131117</td>\n",
       "    </tr>\n",
       "    <tr>\n",
       "      <th>9</th>\n",
       "      <td>2023-04-02 09:00:00+02:00</td>\n",
       "      <td>44137.0</td>\n",
       "      <td>3386.0</td>\n",
       "      <td>10902.0</td>\n",
       "      <td>36705.0</td>\n",
       "      <td>6933.0</td>\n",
       "      <td>2404.0</td>\n",
       "      <td>274.430105</td>\n",
       "      <td>47.362046</td>\n",
       "      <td>1.136464e+06</td>\n",
       "      <td>9</td>\n",
       "      <td>6</td>\n",
       "      <td>4</td>\n",
       "      <td>0</td>\n",
       "      <td>41653.0</td>\n",
       "      <td>41953.333333</td>\n",
       "      <td>2050.066422</td>\n",
       "    </tr>\n",
       "  </tbody>\n",
       "</table>\n",
       "</div>\n",
       "    <div class=\"colab-df-buttons\">\n",
       "\n",
       "  <div class=\"colab-df-container\">\n",
       "    <button class=\"colab-df-convert\" onclick=\"convertToInteractive('df-560852d6-6775-4243-b3e5-9db42c8f076a')\"\n",
       "            title=\"Convert this dataframe to an interactive table.\"\n",
       "            style=\"display:none;\">\n",
       "\n",
       "  <svg xmlns=\"http://www.w3.org/2000/svg\" height=\"24px\" viewBox=\"0 -960 960 960\">\n",
       "    <path d=\"M120-120v-720h720v720H120Zm60-500h600v-160H180v160Zm220 220h160v-160H400v160Zm0 220h160v-160H400v160ZM180-400h160v-160H180v160Zm440 0h160v-160H620v160ZM180-180h160v-160H180v160Zm440 0h160v-160H620v160Z\"/>\n",
       "  </svg>\n",
       "    </button>\n",
       "\n",
       "  <style>\n",
       "    .colab-df-container {\n",
       "      display:flex;\n",
       "      gap: 12px;\n",
       "    }\n",
       "\n",
       "    .colab-df-convert {\n",
       "      background-color: #E8F0FE;\n",
       "      border: none;\n",
       "      border-radius: 50%;\n",
       "      cursor: pointer;\n",
       "      display: none;\n",
       "      fill: #1967D2;\n",
       "      height: 32px;\n",
       "      padding: 0 0 0 0;\n",
       "      width: 32px;\n",
       "    }\n",
       "\n",
       "    .colab-df-convert:hover {\n",
       "      background-color: #E2EBFA;\n",
       "      box-shadow: 0px 1px 2px rgba(60, 64, 67, 0.3), 0px 1px 3px 1px rgba(60, 64, 67, 0.15);\n",
       "      fill: #174EA6;\n",
       "    }\n",
       "\n",
       "    .colab-df-buttons div {\n",
       "      margin-bottom: 4px;\n",
       "    }\n",
       "\n",
       "    [theme=dark] .colab-df-convert {\n",
       "      background-color: #3B4455;\n",
       "      fill: #D2E3FC;\n",
       "    }\n",
       "\n",
       "    [theme=dark] .colab-df-convert:hover {\n",
       "      background-color: #434B5C;\n",
       "      box-shadow: 0px 1px 3px 1px rgba(0, 0, 0, 0.15);\n",
       "      filter: drop-shadow(0px 1px 2px rgba(0, 0, 0, 0.3));\n",
       "      fill: #FFFFFF;\n",
       "    }\n",
       "  </style>\n",
       "\n",
       "    <script>\n",
       "      const buttonEl =\n",
       "        document.querySelector('#df-560852d6-6775-4243-b3e5-9db42c8f076a button.colab-df-convert');\n",
       "      buttonEl.style.display =\n",
       "        google.colab.kernel.accessAllowed ? 'block' : 'none';\n",
       "\n",
       "      async function convertToInteractive(key) {\n",
       "        const element = document.querySelector('#df-560852d6-6775-4243-b3e5-9db42c8f076a');\n",
       "        const dataTable =\n",
       "          await google.colab.kernel.invokeFunction('convertToInteractive',\n",
       "                                                    [key], {});\n",
       "        if (!dataTable) return;\n",
       "\n",
       "        const docLinkHtml = 'Like what you see? Visit the ' +\n",
       "          '<a target=\"_blank\" href=https://colab.research.google.com/notebooks/data_table.ipynb>data table notebook</a>'\n",
       "          + ' to learn more about interactive tables.';\n",
       "        element.innerHTML = '';\n",
       "        dataTable['output_type'] = 'display_data';\n",
       "        await google.colab.output.renderOutput(dataTable, element);\n",
       "        const docLink = document.createElement('div');\n",
       "        docLink.innerHTML = docLinkHtml;\n",
       "        element.appendChild(docLink);\n",
       "      }\n",
       "    </script>\n",
       "  </div>\n",
       "\n",
       "\n",
       "<div id=\"df-7af29e11-1d16-468b-a023-f36c2e5d66ab\">\n",
       "  <button class=\"colab-df-quickchart\" onclick=\"quickchart('df-7af29e11-1d16-468b-a023-f36c2e5d66ab')\"\n",
       "            title=\"Suggest charts\"\n",
       "            style=\"display:none;\">\n",
       "\n",
       "<svg xmlns=\"http://www.w3.org/2000/svg\" height=\"24px\"viewBox=\"0 0 24 24\"\n",
       "     width=\"24px\">\n",
       "    <g>\n",
       "        <path d=\"M19 3H5c-1.1 0-2 .9-2 2v14c0 1.1.9 2 2 2h14c1.1 0 2-.9 2-2V5c0-1.1-.9-2-2-2zM9 17H7v-7h2v7zm4 0h-2V7h2v10zm4 0h-2v-4h2v4z\"/>\n",
       "    </g>\n",
       "</svg>\n",
       "  </button>\n",
       "\n",
       "<style>\n",
       "  .colab-df-quickchart {\n",
       "      --bg-color: #E8F0FE;\n",
       "      --fill-color: #1967D2;\n",
       "      --hover-bg-color: #E2EBFA;\n",
       "      --hover-fill-color: #174EA6;\n",
       "      --disabled-fill-color: #AAA;\n",
       "      --disabled-bg-color: #DDD;\n",
       "  }\n",
       "\n",
       "  [theme=dark] .colab-df-quickchart {\n",
       "      --bg-color: #3B4455;\n",
       "      --fill-color: #D2E3FC;\n",
       "      --hover-bg-color: #434B5C;\n",
       "      --hover-fill-color: #FFFFFF;\n",
       "      --disabled-bg-color: #3B4455;\n",
       "      --disabled-fill-color: #666;\n",
       "  }\n",
       "\n",
       "  .colab-df-quickchart {\n",
       "    background-color: var(--bg-color);\n",
       "    border: none;\n",
       "    border-radius: 50%;\n",
       "    cursor: pointer;\n",
       "    display: none;\n",
       "    fill: var(--fill-color);\n",
       "    height: 32px;\n",
       "    padding: 0;\n",
       "    width: 32px;\n",
       "  }\n",
       "\n",
       "  .colab-df-quickchart:hover {\n",
       "    background-color: var(--hover-bg-color);\n",
       "    box-shadow: 0 1px 2px rgba(60, 64, 67, 0.3), 0 1px 3px 1px rgba(60, 64, 67, 0.15);\n",
       "    fill: var(--button-hover-fill-color);\n",
       "  }\n",
       "\n",
       "  .colab-df-quickchart-complete:disabled,\n",
       "  .colab-df-quickchart-complete:disabled:hover {\n",
       "    background-color: var(--disabled-bg-color);\n",
       "    fill: var(--disabled-fill-color);\n",
       "    box-shadow: none;\n",
       "  }\n",
       "\n",
       "  .colab-df-spinner {\n",
       "    border: 2px solid var(--fill-color);\n",
       "    border-color: transparent;\n",
       "    border-bottom-color: var(--fill-color);\n",
       "    animation:\n",
       "      spin 1s steps(1) infinite;\n",
       "  }\n",
       "\n",
       "  @keyframes spin {\n",
       "    0% {\n",
       "      border-color: transparent;\n",
       "      border-bottom-color: var(--fill-color);\n",
       "      border-left-color: var(--fill-color);\n",
       "    }\n",
       "    20% {\n",
       "      border-color: transparent;\n",
       "      border-left-color: var(--fill-color);\n",
       "      border-top-color: var(--fill-color);\n",
       "    }\n",
       "    30% {\n",
       "      border-color: transparent;\n",
       "      border-left-color: var(--fill-color);\n",
       "      border-top-color: var(--fill-color);\n",
       "      border-right-color: var(--fill-color);\n",
       "    }\n",
       "    40% {\n",
       "      border-color: transparent;\n",
       "      border-right-color: var(--fill-color);\n",
       "      border-top-color: var(--fill-color);\n",
       "    }\n",
       "    60% {\n",
       "      border-color: transparent;\n",
       "      border-right-color: var(--fill-color);\n",
       "    }\n",
       "    80% {\n",
       "      border-color: transparent;\n",
       "      border-right-color: var(--fill-color);\n",
       "      border-bottom-color: var(--fill-color);\n",
       "    }\n",
       "    90% {\n",
       "      border-color: transparent;\n",
       "      border-bottom-color: var(--fill-color);\n",
       "    }\n",
       "  }\n",
       "</style>\n",
       "\n",
       "  <script>\n",
       "    async function quickchart(key) {\n",
       "      const quickchartButtonEl =\n",
       "        document.querySelector('#' + key + ' button');\n",
       "      quickchartButtonEl.disabled = true;  // To prevent multiple clicks.\n",
       "      quickchartButtonEl.classList.add('colab-df-spinner');\n",
       "      try {\n",
       "        const charts = await google.colab.kernel.invokeFunction(\n",
       "            'suggestCharts', [key], {});\n",
       "      } catch (error) {\n",
       "        console.error('Error during call to suggestCharts:', error);\n",
       "      }\n",
       "      quickchartButtonEl.classList.remove('colab-df-spinner');\n",
       "      quickchartButtonEl.classList.add('colab-df-quickchart-complete');\n",
       "    }\n",
       "    (() => {\n",
       "      let quickchartButtonEl =\n",
       "        document.querySelector('#df-7af29e11-1d16-468b-a023-f36c2e5d66ab button');\n",
       "      quickchartButtonEl.style.display =\n",
       "        google.colab.kernel.accessAllowed ? 'block' : 'none';\n",
       "    })();\n",
       "  </script>\n",
       "</div>\n",
       "\n",
       "    </div>\n",
       "  </div>\n"
      ],
      "text/plain": [
       "             DELIVERY_START  load_forecast  coal_power_available  \\\n",
       "0 2023-04-02 00:00:00+02:00        45814.0                3386.0   \n",
       "1 2023-04-02 01:00:00+02:00        44084.0                3386.0   \n",
       "2 2023-04-02 02:00:00+02:00        43281.0                3386.0   \n",
       "3 2023-04-02 03:00:00+02:00        40825.0                3386.0   \n",
       "4 2023-04-02 04:00:00+02:00        39181.0                3386.0   \n",
       "5 2023-04-02 05:00:00+02:00        38928.0                3386.0   \n",
       "6 2023-04-02 06:00:00+02:00        39181.0                3386.0   \n",
       "7 2023-04-02 07:00:00+02:00        40070.0                3386.0   \n",
       "8 2023-04-02 08:00:00+02:00        41653.0                3386.0   \n",
       "9 2023-04-02 09:00:00+02:00        44137.0                3386.0   \n",
       "\n",
       "   gas_power_available  nucelear_power_available  \\\n",
       "0              10902.0                   36705.0   \n",
       "1              10902.0                   36705.0   \n",
       "2              10902.0                   36705.0   \n",
       "3              10902.0                   36705.0   \n",
       "4              10902.0                   36705.0   \n",
       "5              10902.0                   36705.0   \n",
       "6              10902.0                   36705.0   \n",
       "7              10902.0                   36705.0   \n",
       "8              10902.0                   36705.0   \n",
       "9              10902.0                   36705.0   \n",
       "\n",
       "   wind_power_forecasts_average  solar_power_forecasts_average  \\\n",
       "0                        6359.0                            0.0   \n",
       "1                        6469.0                            0.0   \n",
       "2                        6511.0                            0.0   \n",
       "3                        6628.0                            0.0   \n",
       "4                        6700.0                            0.0   \n",
       "5                        6750.0                            0.0   \n",
       "6                        6808.0                            0.0   \n",
       "7                        6816.0                           76.0   \n",
       "8                        6798.0                          806.0   \n",
       "9                        6933.0                         2404.0   \n",
       "\n",
       "   wind_power_forecasts_std  solar_power_forecasts_std  predicted_spot_price  \\\n",
       "0                 56.764535                   0.000000         -3.630211e+05   \n",
       "1                 54.262133                   0.000000          1.354917e+05   \n",
       "2                 78.105928                   0.000000          1.290384e+06   \n",
       "3                 78.187557                   0.000000          1.241544e+06   \n",
       "4                 96.765484                   0.000000          1.174313e+06   \n",
       "5                133.267741                   0.000000          1.114565e+06   \n",
       "6                148.852429                   0.000000          1.093504e+06   \n",
       "7                194.708606                   1.150447          1.100475e+06   \n",
       "8                262.002351                   6.050982          1.114224e+06   \n",
       "9                274.430105                  47.362046          1.136464e+06   \n",
       "\n",
       "   hour  day_of_week  month  is_workday  Y_lag_1  Y_rolling_mean_3  \\\n",
       "0     0            6      4           0      0.0          0.000000   \n",
       "1     1            6      4           0  45814.0          0.000000   \n",
       "2     2            6      4           0  44084.0      44393.000000   \n",
       "3     3            6      4           0  43281.0      42730.000000   \n",
       "4     4            6      4           0  40825.0      41095.666667   \n",
       "5     5            6      4           0  39181.0      39644.666667   \n",
       "6     6            6      4           0  38928.0      39096.666667   \n",
       "7     7            6      4           0  39181.0      39393.000000   \n",
       "8     8            6      4           0  40070.0      40301.333333   \n",
       "9     9            6      4           0  41653.0      41953.333333   \n",
       "\n",
       "   Y_rolling_std_3  \n",
       "0         0.000000  \n",
       "1         0.000000  \n",
       "2      1294.462437  \n",
       "3      1697.931388  \n",
       "4      2063.357781  \n",
       "5      1029.996278  \n",
       "6       146.069618  \n",
       "7       599.790797  \n",
       "8      1252.131117  \n",
       "9      2050.066422  "
      ]
     },
     "execution_count": 86,
     "metadata": {},
     "output_type": "execute_result"
    }
   ],
   "source": [
    "X_test.head(10)2023-04-02 00  2023-10-24  23h"
   ]
  },
  {
   "cell_type": "code",
   "execution_count": null,
   "id": "78151c5e-25d2-4b8e-9547-c82137fff716",
   "metadata": {
    "colab": {
     "base_uri": "https://localhost:8080/",
     "height": 300
    },
    "id": "78151c5e-25d2-4b8e-9547-c82137fff716",
    "outputId": "31317bd1-b290-4641-cc3a-2e83f546f3b4"
   },
   "outputs": [
    {
     "data": {
      "application/vnd.google.colaboratory.intrinsic+json": {
       "summary": "{\n  \"name\": \"resultat_test\",\n  \"rows\": 8,\n  \"fields\": [\n    {\n      \"column\": \"spot_id_delta\",\n      \"properties\": {\n        \"dtype\": \"number\",\n        \"std\": 1710.9914271846483,\n        \"min\": -63.54501421887707,\n        \"max\": 4942.0,\n        \"num_unique_values\": 7,\n        \"samples\": [\n          4942.0,\n          156.3508508553214,\n          162.23160340178788\n        ],\n        \"semantic_type\": \"\",\n        \"description\": \"\"\n      }\n    }\n  ]\n}",
       "type": "dataframe"
      },
      "text/html": [
       "\n",
       "  <div id=\"df-47c0fea7-7759-4a70-8c3a-fc16f01decd7\" class=\"colab-df-container\">\n",
       "    <div>\n",
       "<style scoped>\n",
       "    .dataframe tbody tr th:only-of-type {\n",
       "        vertical-align: middle;\n",
       "    }\n",
       "\n",
       "    .dataframe tbody tr th {\n",
       "        vertical-align: top;\n",
       "    }\n",
       "\n",
       "    .dataframe thead th {\n",
       "        text-align: right;\n",
       "    }\n",
       "</style>\n",
       "<table border=\"1\" class=\"dataframe\">\n",
       "  <thead>\n",
       "    <tr style=\"text-align: right;\">\n",
       "      <th></th>\n",
       "      <th>spot_id_delta</th>\n",
       "    </tr>\n",
       "  </thead>\n",
       "  <tbody>\n",
       "    <tr>\n",
       "      <th>count</th>\n",
       "      <td>4942.000000</td>\n",
       "    </tr>\n",
       "    <tr>\n",
       "      <th>mean</th>\n",
       "      <td>156.350851</td>\n",
       "    </tr>\n",
       "    <tr>\n",
       "      <th>std</th>\n",
       "      <td>6.429110</td>\n",
       "    </tr>\n",
       "    <tr>\n",
       "      <th>min</th>\n",
       "      <td>-63.545014</td>\n",
       "    </tr>\n",
       "    <tr>\n",
       "      <th>25%</th>\n",
       "      <td>152.494813</td>\n",
       "    </tr>\n",
       "    <tr>\n",
       "      <th>50%</th>\n",
       "      <td>152.494813</td>\n",
       "    </tr>\n",
       "    <tr>\n",
       "      <th>75%</th>\n",
       "      <td>162.231603</td>\n",
       "    </tr>\n",
       "    <tr>\n",
       "      <th>max</th>\n",
       "      <td>198.994821</td>\n",
       "    </tr>\n",
       "  </tbody>\n",
       "</table>\n",
       "</div>\n",
       "    <div class=\"colab-df-buttons\">\n",
       "\n",
       "  <div class=\"colab-df-container\">\n",
       "    <button class=\"colab-df-convert\" onclick=\"convertToInteractive('df-47c0fea7-7759-4a70-8c3a-fc16f01decd7')\"\n",
       "            title=\"Convert this dataframe to an interactive table.\"\n",
       "            style=\"display:none;\">\n",
       "\n",
       "  <svg xmlns=\"http://www.w3.org/2000/svg\" height=\"24px\" viewBox=\"0 -960 960 960\">\n",
       "    <path d=\"M120-120v-720h720v720H120Zm60-500h600v-160H180v160Zm220 220h160v-160H400v160Zm0 220h160v-160H400v160ZM180-400h160v-160H180v160Zm440 0h160v-160H620v160ZM180-180h160v-160H180v160Zm440 0h160v-160H620v160Z\"/>\n",
       "  </svg>\n",
       "    </button>\n",
       "\n",
       "  <style>\n",
       "    .colab-df-container {\n",
       "      display:flex;\n",
       "      gap: 12px;\n",
       "    }\n",
       "\n",
       "    .colab-df-convert {\n",
       "      background-color: #E8F0FE;\n",
       "      border: none;\n",
       "      border-radius: 50%;\n",
       "      cursor: pointer;\n",
       "      display: none;\n",
       "      fill: #1967D2;\n",
       "      height: 32px;\n",
       "      padding: 0 0 0 0;\n",
       "      width: 32px;\n",
       "    }\n",
       "\n",
       "    .colab-df-convert:hover {\n",
       "      background-color: #E2EBFA;\n",
       "      box-shadow: 0px 1px 2px rgba(60, 64, 67, 0.3), 0px 1px 3px 1px rgba(60, 64, 67, 0.15);\n",
       "      fill: #174EA6;\n",
       "    }\n",
       "\n",
       "    .colab-df-buttons div {\n",
       "      margin-bottom: 4px;\n",
       "    }\n",
       "\n",
       "    [theme=dark] .colab-df-convert {\n",
       "      background-color: #3B4455;\n",
       "      fill: #D2E3FC;\n",
       "    }\n",
       "\n",
       "    [theme=dark] .colab-df-convert:hover {\n",
       "      background-color: #434B5C;\n",
       "      box-shadow: 0px 1px 3px 1px rgba(0, 0, 0, 0.15);\n",
       "      filter: drop-shadow(0px 1px 2px rgba(0, 0, 0, 0.3));\n",
       "      fill: #FFFFFF;\n",
       "    }\n",
       "  </style>\n",
       "\n",
       "    <script>\n",
       "      const buttonEl =\n",
       "        document.querySelector('#df-47c0fea7-7759-4a70-8c3a-fc16f01decd7 button.colab-df-convert');\n",
       "      buttonEl.style.display =\n",
       "        google.colab.kernel.accessAllowed ? 'block' : 'none';\n",
       "\n",
       "      async function convertToInteractive(key) {\n",
       "        const element = document.querySelector('#df-47c0fea7-7759-4a70-8c3a-fc16f01decd7');\n",
       "        const dataTable =\n",
       "          await google.colab.kernel.invokeFunction('convertToInteractive',\n",
       "                                                    [key], {});\n",
       "        if (!dataTable) return;\n",
       "\n",
       "        const docLinkHtml = 'Like what you see? Visit the ' +\n",
       "          '<a target=\"_blank\" href=https://colab.research.google.com/notebooks/data_table.ipynb>data table notebook</a>'\n",
       "          + ' to learn more about interactive tables.';\n",
       "        element.innerHTML = '';\n",
       "        dataTable['output_type'] = 'display_data';\n",
       "        await google.colab.output.renderOutput(dataTable, element);\n",
       "        const docLink = document.createElement('div');\n",
       "        docLink.innerHTML = docLinkHtml;\n",
       "        element.appendChild(docLink);\n",
       "      }\n",
       "    </script>\n",
       "  </div>\n",
       "\n",
       "\n",
       "<div id=\"df-7be7c499-7692-4284-8a6c-15fda9299553\">\n",
       "  <button class=\"colab-df-quickchart\" onclick=\"quickchart('df-7be7c499-7692-4284-8a6c-15fda9299553')\"\n",
       "            title=\"Suggest charts\"\n",
       "            style=\"display:none;\">\n",
       "\n",
       "<svg xmlns=\"http://www.w3.org/2000/svg\" height=\"24px\"viewBox=\"0 0 24 24\"\n",
       "     width=\"24px\">\n",
       "    <g>\n",
       "        <path d=\"M19 3H5c-1.1 0-2 .9-2 2v14c0 1.1.9 2 2 2h14c1.1 0 2-.9 2-2V5c0-1.1-.9-2-2-2zM9 17H7v-7h2v7zm4 0h-2V7h2v10zm4 0h-2v-4h2v4z\"/>\n",
       "    </g>\n",
       "</svg>\n",
       "  </button>\n",
       "\n",
       "<style>\n",
       "  .colab-df-quickchart {\n",
       "      --bg-color: #E8F0FE;\n",
       "      --fill-color: #1967D2;\n",
       "      --hover-bg-color: #E2EBFA;\n",
       "      --hover-fill-color: #174EA6;\n",
       "      --disabled-fill-color: #AAA;\n",
       "      --disabled-bg-color: #DDD;\n",
       "  }\n",
       "\n",
       "  [theme=dark] .colab-df-quickchart {\n",
       "      --bg-color: #3B4455;\n",
       "      --fill-color: #D2E3FC;\n",
       "      --hover-bg-color: #434B5C;\n",
       "      --hover-fill-color: #FFFFFF;\n",
       "      --disabled-bg-color: #3B4455;\n",
       "      --disabled-fill-color: #666;\n",
       "  }\n",
       "\n",
       "  .colab-df-quickchart {\n",
       "    background-color: var(--bg-color);\n",
       "    border: none;\n",
       "    border-radius: 50%;\n",
       "    cursor: pointer;\n",
       "    display: none;\n",
       "    fill: var(--fill-color);\n",
       "    height: 32px;\n",
       "    padding: 0;\n",
       "    width: 32px;\n",
       "  }\n",
       "\n",
       "  .colab-df-quickchart:hover {\n",
       "    background-color: var(--hover-bg-color);\n",
       "    box-shadow: 0 1px 2px rgba(60, 64, 67, 0.3), 0 1px 3px 1px rgba(60, 64, 67, 0.15);\n",
       "    fill: var(--button-hover-fill-color);\n",
       "  }\n",
       "\n",
       "  .colab-df-quickchart-complete:disabled,\n",
       "  .colab-df-quickchart-complete:disabled:hover {\n",
       "    background-color: var(--disabled-bg-color);\n",
       "    fill: var(--disabled-fill-color);\n",
       "    box-shadow: none;\n",
       "  }\n",
       "\n",
       "  .colab-df-spinner {\n",
       "    border: 2px solid var(--fill-color);\n",
       "    border-color: transparent;\n",
       "    border-bottom-color: var(--fill-color);\n",
       "    animation:\n",
       "      spin 1s steps(1) infinite;\n",
       "  }\n",
       "\n",
       "  @keyframes spin {\n",
       "    0% {\n",
       "      border-color: transparent;\n",
       "      border-bottom-color: var(--fill-color);\n",
       "      border-left-color: var(--fill-color);\n",
       "    }\n",
       "    20% {\n",
       "      border-color: transparent;\n",
       "      border-left-color: var(--fill-color);\n",
       "      border-top-color: var(--fill-color);\n",
       "    }\n",
       "    30% {\n",
       "      border-color: transparent;\n",
       "      border-left-color: var(--fill-color);\n",
       "      border-top-color: var(--fill-color);\n",
       "      border-right-color: var(--fill-color);\n",
       "    }\n",
       "    40% {\n",
       "      border-color: transparent;\n",
       "      border-right-color: var(--fill-color);\n",
       "      border-top-color: var(--fill-color);\n",
       "    }\n",
       "    60% {\n",
       "      border-color: transparent;\n",
       "      border-right-color: var(--fill-color);\n",
       "    }\n",
       "    80% {\n",
       "      border-color: transparent;\n",
       "      border-right-color: var(--fill-color);\n",
       "      border-bottom-color: var(--fill-color);\n",
       "    }\n",
       "    90% {\n",
       "      border-color: transparent;\n",
       "      border-bottom-color: var(--fill-color);\n",
       "    }\n",
       "  }\n",
       "</style>\n",
       "\n",
       "  <script>\n",
       "    async function quickchart(key) {\n",
       "      const quickchartButtonEl =\n",
       "        document.querySelector('#' + key + ' button');\n",
       "      quickchartButtonEl.disabled = true;  // To prevent multiple clicks.\n",
       "      quickchartButtonEl.classList.add('colab-df-spinner');\n",
       "      try {\n",
       "        const charts = await google.colab.kernel.invokeFunction(\n",
       "            'suggestCharts', [key], {});\n",
       "      } catch (error) {\n",
       "        console.error('Error during call to suggestCharts:', error);\n",
       "      }\n",
       "      quickchartButtonEl.classList.remove('colab-df-spinner');\n",
       "      quickchartButtonEl.classList.add('colab-df-quickchart-complete');\n",
       "    }\n",
       "    (() => {\n",
       "      let quickchartButtonEl =\n",
       "        document.querySelector('#df-7be7c499-7692-4284-8a6c-15fda9299553 button');\n",
       "      quickchartButtonEl.style.display =\n",
       "        google.colab.kernel.accessAllowed ? 'block' : 'none';\n",
       "    })();\n",
       "  </script>\n",
       "</div>\n",
       "\n",
       "    </div>\n",
       "  </div>\n"
      ],
      "text/plain": [
       "       spot_id_delta\n",
       "count    4942.000000\n",
       "mean      156.350851\n",
       "std         6.429110\n",
       "min       -63.545014\n",
       "25%       152.494813\n",
       "50%       152.494813\n",
       "75%       162.231603\n",
       "max       198.994821"
      ]
     },
     "execution_count": 87,
     "metadata": {},
     "output_type": "execute_result"
    }
   ],
   "source": [
    "resultat_test.describe()"
   ]
  },
  {
   "cell_type": "code",
   "execution_count": null,
   "id": "ca619c24-5905-4a8c-b20b-5f3d7fb726d3",
   "metadata": {
    "id": "ca619c24-5905-4a8c-b20b-5f3d7fb726d3"
   },
   "outputs": [],
   "source": []
  },
  {
   "cell_type": "code",
   "execution_count": null,
   "id": "fbd5a356-8fff-4755-ae7f-3f514a0a7cf8",
   "metadata": {
    "id": "fbd5a356-8fff-4755-ae7f-3f514a0a7cf8"
   },
   "outputs": [],
   "source": []
  }
 ],
 "metadata": {
  "colab": {
   "provenance": []
  },
  "kernelspec": {
   "display_name": "Python 3 (ipykernel)",
   "language": "python",
   "name": "python3"
  },
  "language_info": {
   "codemirror_mode": {
    "name": "ipython",
    "version": 3
   },
   "file_extension": ".py",
   "mimetype": "text/x-python",
   "name": "python",
   "nbconvert_exporter": "python",
   "pygments_lexer": "ipython3",
   "version": "3.12.4"
  },
  "widgets": {
   "application/vnd.jupyter.widget-state+json": {
    "state": {},
    "version_major": 2,
    "version_minor": 0
   }
  }
 },
 "nbformat": 4,
 "nbformat_minor": 5
}
