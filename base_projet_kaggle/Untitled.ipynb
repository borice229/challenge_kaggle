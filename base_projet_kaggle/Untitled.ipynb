{
 "cells": [
  {
   "cell_type": "code",
   "execution_count": null,
   "id": "8be009e2-0ab4-419e-af84-107a37cd81ba",
   "metadata": {},
   "outputs": [],
   "source": [
    "total_power_available = data_mergee['coal_power_available'] + data_mergee['gas_power_available'] + data_mergee['nuclear_power_available']\n",
    "data_mergee['power_to_load_ratio'] = total_power_available / data_mergee['load_forecast']\n",
    "data_mergee['power_deficit_or_surplus'] = total_power_available - data_mergee['load_forecast']\n",
    "                                                                                                                                                                    \n",
    "\n",
    "\n",
    "\n",
    "\n",
    "#spot_id_delta = Y\n",
    "# Création des retards et des moyennes glissantes\n",
    "data_loadf['Y_lag_1'] = data_loadf['load_forecast'].shift(1)\n",
    "data_loadf['Y_rolling_mean_3'] = data_loadf['load_forecast'].rolling(window=3).mean()\n",
    "data_loadf['Y_rolling_std_3'] = data_loadf['load_forecast'].rolling(window=3).std()\n",
    "data_loadf['Y_lag_2'] = data_loadf['load_forecast'].shift(2)  # Retard de deux heures\n",
    "data_loadf['Y_lag_3'] = data_loadf['load_forecast'].shift(3)\n",
    "data_loadf['Y_rolling_mean_6'] = data_loadf['load_forecast'].rolling(window=6).mean()  # Moyenne sur 6 heures\n",
    "data_loadf['Y_rolling_mean_12'] = data_loadf['load_forecast'].rolling(window=12).mean()  # Moyenne sur 24 heures\n",
    "\n",
    "# Remplacer les valeurs manquantes uniquement dans les colonnes des retards et moyennes glissantes\n",
    "data_loadf[['Y_lag_1','Y_lag_2','Y_lag_3', 'Y_rolling_mean_3', 'Y_rolling_std_3','Y_rolling_mean_6','Y_rolling_mean_12']] = data_loadf[['Y_lag_1','Y_lag_2','Y_lag_3', 'Y_rolling_mean_3', 'Y_rolling_std_3','Y_rolling_mean_6','Y_rolling_mean_12']].ffill().bfill()"
   ]
  }
 ],
 "metadata": {
  "kernelspec": {
   "display_name": "",
   "name": ""
  },
  "language_info": {
   "name": ""
  }
 },
 "nbformat": 4,
 "nbformat_minor": 5
}
