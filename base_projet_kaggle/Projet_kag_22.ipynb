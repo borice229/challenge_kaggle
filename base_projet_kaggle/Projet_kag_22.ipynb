{
 "cells": [
  {
   "cell_type": "markdown",
   "id": "e3b9f6c8-4131-4b7b-acdc-476403627ecc",
   "metadata": {
    "id": "e3b9f6c8-4131-4b7b-acdc-476403627ecc"
   },
   "source": [
    "<h1 style=\"text-align: center;\">Electricity price forecasting by Elmy Centré</h1>"
   ]
  },
  {
   "cell_type": "markdown",
   "id": "368fa9be-e02a-4f18-914e-062afe59dd8d",
   "metadata": {
    "id": "368fa9be-e02a-4f18-914e-062afe59dd8d"
   },
   "source": [
    "**Data description**\n",
    "\n",
    "**Index**\n",
    "\n",
    "**DELIVERY_START** : date et heure de livraison de l'électricité\n",
    "\n",
    "**Variables explicatives**\n",
    "\n",
    "**load_forecast** : prévision de consommation totale d'éléctricité en France\n",
    "\n",
    "**coal_power_available**, **gas_power_available**, **nucelear_power_available** : capacité de production totale d'électricité des centrales à charbon, gaz et nucléaire respectivement,\n",
    "\n",
    "**wind_power_forecasts_average**, **solar_power_forecasts_average** : moyenne de différentes prévisions de production totale d'électricité éolienne et solaire (respectivement),\n",
    "\n",
    "**wind_power_forecasts_std**, **solar_power_forecasts_std** : écart-type de ces mêmes prévisions,\n",
    "\n",
    "**predicted_spot_price** : prévision du prix SPOT de l'électricité issues d'un modèle interne de Elmy. Ce modèle est lancé chaque jour avant la fermeture des enchères SPOT pour le lendemain.\n",
    "\n",
    "\n",
    "**Variable cible**\n",
    "\n",
    "**spot_id_delta** : l'écart entre le VWAP des transactions sur le marché infra-journalier (Intraday) et le prix SPOT pour 1MWh d'électricité **(spot_id_delta = Intraday - SPOT)** : si la valeur est positive, le prix Intraday est supérieur au prix SPOT et inversement."
   ]
  },
  {
   "cell_type": "code",
   "execution_count": null,
   "id": "dc1f8aea-5705-435d-960d-d4d64e6b1fd1",
   "metadata": {
    "id": "dc1f8aea-5705-435d-960d-d4d64e6b1fd1"
   },
   "outputs": [],
   "source": [
    "#Instalattion des packages\n",
    "#!pip install pandas\n",
    "#!pip install numpy\n",
    "#!pip install seaborn\n",
    "#!pip install missingno\n",
    "#!pip install matplotlib\n",
    "#!pip install scikit-learn\n",
    "#!pip install statsmodels\n",
    "#!pip install xgboost"
   ]
  },
  {
   "cell_type": "code",
   "execution_count": null,
   "id": "66de9dec-df30-420d-a368-4f6fc68fe652",
   "metadata": {
    "id": "66de9dec-df30-420d-a368-4f6fc68fe652"
   },
   "outputs": [],
   "source": [
    "#pip install xgboost"
   ]
  },
  {
   "cell_type": "code",
   "execution_count": null,
   "id": "283d1d97-a1e4-4af2-b8a9-65c1f39de6d9",
   "metadata": {
    "id": "283d1d97-a1e4-4af2-b8a9-65c1f39de6d9"
   },
   "outputs": [],
   "source": [
    "#Importation des libraries\n",
    "import pandas as pd\n",
    "import numpy as np\n",
    "import seaborn as sns\n",
    "import missingno as msno\n",
    "import matplotlib.pyplot as plt\n",
    "from sklearn.experimental import enable_iterative_imputer\n",
    "from sklearn.impute import IterativeImputer"
   ]
  },
  {
   "cell_type": "code",
   "execution_count": null,
   "id": "d58c663a-e602-4bd5-8780-f486cff9c78f",
   "metadata": {
    "id": "d58c663a-e602-4bd5-8780-f486cff9c78f"
   },
   "outputs": [],
   "source": [
    "import statsmodels.api as sm\n",
    "\n",
    "from sklearn.preprocessing import StandardScaler\n",
    "from sklearn.model_selection import train_test_split, KFold, cross_val_score, GridSearchCV\n",
    "from sklearn.feature_selection import SelectKBest, chi2, f_regression\n",
    "\n",
    "from sklearn.linear_model import LinearRegression, Lasso, ElasticNet\n",
    "from sklearn.tree import DecisionTreeRegressor\n",
    "from sklearn.neighbors import KNeighborsRegressor\n",
    "from sklearn.svm import SVR\n",
    "from sklearn.ensemble import RandomForestRegressor, GradientBoostingRegressor, ExtraTreesRegressor, AdaBoostRegressor\n",
    "from xgboost import XGBRegressor\n",
    "from sklearn.neural_network import MLPRegressor\n",
    "\n",
    "from sklearn.metrics import mean_squared_error, r2_score"
   ]
  },
  {
   "cell_type": "code",
   "execution_count": null,
   "id": "3JXbu02t_stA",
   "metadata": {
    "id": "3JXbu02t_stA"
   },
   "outputs": [],
   "source": [
    "from sklearn.model_selection import RandomizedSearchCV, KFold, cross_val_score"
   ]
  },
  {
   "cell_type": "markdown",
   "id": "6d0927bd-4f02-4e19-88d0-a3dbbda6bb84",
   "metadata": {
    "id": "6d0927bd-4f02-4e19-88d0-a3dbbda6bb84"
   },
   "source": [
    "__Importation des bases de données__"
   ]
  },
  {
   "cell_type": "code",
   "execution_count": null,
   "id": "907187f2-b8fc-456c-b251-e2f0c9e266f7",
   "metadata": {
    "id": "907187f2-b8fc-456c-b251-e2f0c9e266f7"
   },
   "outputs": [],
   "source": [
    "# Charger le fichier CSV dans un DataFrame\n",
    "Xty = pd.read_csv(\"X_train_add.csv\", sep=\",\")\n",
    "Y_dt = pd.read_csv(\"y_train.csv\",sep=\",\")\n",
    "X_test = pd.read_csv(\"X_test.csv\",sep=\",\")"
   ]
  },
  {
   "cell_type": "code",
   "execution_count": null,
   "id": "a9e851fd-b9d1-47fe-9982-b7691227ec8b",
   "metadata": {
    "colab": {
     "base_uri": "https://localhost:8080/",
     "height": 300
    },
    "id": "a9e851fd-b9d1-47fe-9982-b7691227ec8b",
    "outputId": "c19bdb7c-4e57-4543-e8e7-ca3565032aae"
   },
   "outputs": [],
   "source": [
    "Y_dt.head(4)"
   ]
  },
  {
   "cell_type": "code",
   "execution_count": null,
   "id": "1408d617-908c-4a1e-94c8-db0023306293",
   "metadata": {
    "colab": {
     "base_uri": "https://localhost:8080/",
     "height": 320
    },
    "id": "1408d617-908c-4a1e-94c8-db0023306293",
    "outputId": "b70c8ab4-b955-443a-d670-dc26857705aa"
   },
   "outputs": [],
   "source": [
    "Xty.head(4)"
   ]
  },
  {
   "cell_type": "code",
   "execution_count": null,
   "id": "724fd336-c32d-4d6e-abc1-8dee0b1322de",
   "metadata": {
    "id": "724fd336-c32d-4d6e-abc1-8dee0b1322de"
   },
   "outputs": [],
   "source": [
    "Y_dt=Y_dt.sort_values(['DELIVERY_START'])"
   ]
  },
  {
   "cell_type": "code",
   "execution_count": null,
   "id": "46d4b7f3-2e7a-4d0d-bdc5-72523fadb736",
   "metadata": {},
   "outputs": [],
   "source": [
    "# Convertir directement avec utc=True pour éviter les avertissements\n",
    "Y_dt['DELIVERY_START'] = pd.to_datetime(Y_dt['DELIVERY_START'], utc=True, errors='coerce')\n",
    "# Convertir directement avec utc=True pour éviter les avertissements\n",
    "Xty['DELIVERY_START'] = pd.to_datetime(Xty['DELIVERY_START'], utc=True, errors='coerce')"
   ]
  },
  {
   "cell_type": "code",
   "execution_count": null,
   "id": "e747148b-026a-4eb0-ae85-186ea4844d68",
   "metadata": {},
   "outputs": [],
   "source": [
    "data_merge = pd.merge(Y_dt, Xty, on=\"DELIVERY_START\")"
   ]
  },
  {
   "cell_type": "code",
   "execution_count": null,
   "id": "840b7008-299c-4069-8d98-ac556df36223",
   "metadata": {
    "colab": {
     "base_uri": "https://localhost:8080/"
    },
    "id": "840b7008-299c-4069-8d98-ac556df36223",
    "outputId": "8ef86e60-e9d0-4217-9bfe-4c83436a0fb0"
   },
   "outputs": [],
   "source": [
    "data_merge.info()"
   ]
  },
  {
   "cell_type": "markdown",
   "id": "1bbce40a-d4ee-459c-91ab-1f7be05d8c6d",
   "metadata": {
    "id": "1bbce40a-d4ee-459c-91ab-1f7be05d8c6d"
   },
   "source": [
    "__Verification des valeurs manquantes et leur gestion__"
   ]
  },
  {
   "cell_type": "code",
   "execution_count": null,
   "id": "a6d644ab-ac91-40f7-8002-73bea43ceb4a",
   "metadata": {
    "colab": {
     "base_uri": "https://localhost:8080/",
     "height": 429
    },
    "id": "a6d644ab-ac91-40f7-8002-73bea43ceb4a",
    "outputId": "65ef3a3f-eac7-45dc-ee06-bbba98c91ed2"
   },
   "outputs": [],
   "source": [
    "round((data_merge.isna().sum()/len(data_merge))*100,2)"
   ]
  },
  {
   "cell_type": "code",
   "execution_count": null,
   "id": "55847311-eb3a-4d18-80fa-eca05af7f197",
   "metadata": {
    "colab": {
     "base_uri": "https://localhost:8080/",
     "height": 651
    },
    "id": "55847311-eb3a-4d18-80fa-eca05af7f197",
    "outputId": "f87ceb88-ba92-4467-bf86-971bd82c87d0"
   },
   "outputs": [],
   "source": [
    "sns.heatmap(data_merge.isnull(),yticklabels=False, cbar=False,cmap='viridis')"
   ]
  },
  {
   "cell_type": "markdown",
   "id": "2d8a25f9-e3e3-4a5d-aebd-b8cd93f70356",
   "metadata": {
    "id": "2d8a25f9-e3e3-4a5d-aebd-b8cd93f70356"
   },
   "source": [
    "__Traitement des valeurs manquantes__"
   ]
  },
  {
   "cell_type": "code",
   "execution_count": null,
   "id": "11a32bee-0362-457b-a339-c418b3d57ce5",
   "metadata": {
    "id": "11a32bee-0362-457b-a339-c418b3d57ce5"
   },
   "outputs": [],
   "source": [
    "# Créer un imputer IterativeImputer\n",
    "imputer = IterativeImputer(max_iter=30, random_state=0, sample_posterior=True)\n",
    "\n",
    "# Sélectionner les colonnes à imputer\n",
    "columns_to_impute = ['wind_power_forecasts_average',\n",
    "                                                   'solar_power_forecasts_average','wind_power_forecasts_std',\n",
    "                                                   'solar_power_forecasts_std','coal_power_available','gas_power_available',\n",
    "                                                   'nucelear_power_available', 'prod_eolienne_MWh','prod_solaire_MWh']\n",
    "# Imputer les colonnes spécifiées\n",
    "data_merge[columns_to_impute] = imputer.fit_transform(data_merge[columns_to_impute])\n",
    "# Imputation par interpolation spline\n",
    "# Imputation avec interpolation linéaire\n",
    "#data_merge[columns_to_impute] = data_merge[columns_to_impute].interpolate(method='linear', axis=0)"
   ]
  },
  {
   "cell_type": "code",
   "execution_count": null,
   "id": "e4db1eb1-fc43-4731-a24c-fd42e0421c49",
   "metadata": {
    "id": "e4db1eb1-fc43-4731-a24c-fd42e0421c49"
   },
   "outputs": [],
   "source": [
    "# Création des nouvelles variables temporelles\n",
    "def create_variable_temporelle (data_merge):\n",
    "    data_merge['hour'] = data_merge['DELIVERY_START'].dt.hour\n",
    "    data_merge['day_of_week'] = data_merge['DELIVERY_START'].dt.dayofweek\n",
    "    data_merge['month'] = data_merge['DELIVERY_START'].dt.month\n",
    "    data_merge['year'] = data_merge['DELIVERY_START'].dt.year\n",
    "    data_merge['dayofyear'] = data_merge['DELIVERY_START'].dt.dayofyear\n",
    "    data_merge['quarter'] = data_merge['DELIVERY_START'].dt.quarter\n",
    "    # Création de la variable \"jour ouvré\"\n",
    "    #data_merge['is_workday'] = data_merge['day_of_week'].apply(lambda x: 1 if x < 5 else 0)\n",
    "    return data_merge"
   ]
  },
  {
   "cell_type": "code",
   "execution_count": null,
   "id": "8b007850-d463-4a85-a622-40be8f29afdc",
   "metadata": {},
   "outputs": [],
   "source": [
    "data_merge=create_variable_temporelle (data_merge)"
   ]
  },
  {
   "cell_type": "code",
   "execution_count": null,
   "id": "8e138852-8bf6-4373-93a6-f8664b99242f",
   "metadata": {
    "colab": {
     "base_uri": "https://localhost:8080/",
     "height": 688
    },
    "id": "8e138852-8bf6-4373-93a6-f8664b99242f",
    "outputId": "e9e03cd4-3282-4727-e8e3-d30e21deb8cf"
   },
   "outputs": [],
   "source": [
    "# Carte des corrélations\n",
    "\n",
    "plt.figure(figsize=(9,9))\n",
    "\n",
    "mask = np.triu(np.ones_like(data_merge.iloc[:, 1:].corr(), dtype=bool))\n",
    "\n",
    "sns.heatmap(data_merge.iloc[:, 1:].corr(),\n",
    "            mask=mask, center=0, cmap='RdBu', linewidths=1,\n",
    "            annot=True, fmt=\".2f\", vmin=-1, vmax=1\n",
    ")\n",
    "\n",
    "plt.title('Carte des corrélations', fontsize=15, fontweight=\"bold\")\n",
    "\n",
    "plt.show()"
   ]
  },
  {
   "cell_type": "markdown",
   "id": "99df2bb3-9352-41eb-9423-e380716a9be8",
   "metadata": {
    "id": "99df2bb3-9352-41eb-9423-e380716a9be8"
   },
   "source": [
    "# La variable load_forecast"
   ]
  },
  {
   "cell_type": "code",
   "execution_count": null,
   "id": "7d1615ca-f652-4f83-af0a-34ca6c753607",
   "metadata": {
    "colab": {
     "base_uri": "https://localhost:8080/",
     "height": 742
    },
    "id": "7d1615ca-f652-4f83-af0a-34ca6c753607",
    "outputId": "694899bb-0c7b-4bf2-a81a-978ffdc0775c"
   },
   "outputs": [],
   "source": [
    "data_loadf = data_merge.dropna(subset=['load_forecast'])\n",
    "#data_loadf=data_loadf.drop(columns=['predicted_spot_price','solar_power_forecasts_average','wind_power_forecasts_std'])\n",
    "data_loadf=data_loadf.drop(columns=['predicted_spot_price'])\n",
    "round((data_loadf.isna().sum()/len(data_loadf))*100,2)"
   ]
  },
  {
   "cell_type": "code",
   "execution_count": null,
   "id": "e544e878-c881-476f-a6f1-c32302b143f1",
   "metadata": {
    "id": "e544e878-c881-476f-a6f1-c32302b143f1"
   },
   "outputs": [],
   "source": [
    "# Séparer la variable cible et les variables explicatives\n",
    "X_loadf_train = data_loadf.drop(columns=['load_forecast', 'DELIVERY_START'])\n",
    "y_loadf_train = data_loadf['load_forecast']\n",
    "\n",
    "# Séparer les données d'entraînement et de test\n",
    "Xlf_train, Xlf_test, ylf_train, ylf_test = train_test_split(X_loadf_train, y_loadf_train, test_size=0.1, random_state=42)\n"
   ]
  },
  {
   "cell_type": "code",
   "execution_count": null,
   "id": "6d0f8e18-7d72-4846-97b1-4bc089df8ade",
   "metadata": {
    "id": "6d0f8e18-7d72-4846-97b1-4bc089df8ade"
   },
   "outputs": [],
   "source": [
    "#Standadiser\n",
    "# Initialisation du scaler\n",
    "scaler = StandardScaler()\n",
    "# Appliquer le scaler sur les données d'entraînement\n",
    "Xlf_train = scaler.fit_transform(Xlf_train)\n",
    "\n",
    "# Appliquer le même scaler sur les données de test\n",
    "Xlf_test = scaler.transform(Xlf_test)"
   ]
  },
  {
   "cell_type": "code",
   "execution_count": null,
   "id": "298953a8-0a7a-4f61-b178-4b2f992363e4",
   "metadata": {},
   "outputs": [],
   "source": [
    "seed=123\n",
    "\n",
    "# Initialisation du modèle avec des hyperparamètres ajustés\n",
    "rf_model = RandomForestRegressor(\n",
    "    n_estimators=500,         # Augmenter le nombre d'arbres\n",
    "    #max_depth=50,             # Profondeur maximale des arbres\n",
    "    min_samples_split=2,      # Minimum d'échantillons pour diviser un nœud\n",
    "    min_samples_leaf=2,       # Minimum d'échantillons dans une feuille\n",
    "    max_features=\"sqrt\",      # Nombre de caractéristiques à considérer lors de la division\n",
    "    random_state=seed,\n",
    "    bootstrap=False,           # Tirage avec remise pour les échantillons\n",
    "                            # Utilisation de l'erreur quadratique moyenne (par défaut)\n",
    ")\n",
    "\n",
    "xgb_model = XGBRegressor(\n",
    "    n_estimators=500, # Augmenter le nombre d'arbres\n",
    "    learning_rate=0.01,  # Taux d'apprentissage plus faible\n",
    "    #max_depth=50,        # Profondeur des arbres\n",
    "    min_child_weight=2,  # Poids minimum pour diviser\n",
    "    subsample=0.8,      # Utiliser 80% des échantillons pour chaque arbre\n",
    "    colsample_bytree=0.8,  # Utiliser 80% des caractéristiques pour chaque arbre\n",
    "    gamma=0.1,          # Régularisation pour réduire la complexité\n",
    "    random_state=seed\n",
    ")\n",
    "# Entraîner les modèles\n",
    "rf_model.fit(Xlf_train, ylf_train)\n",
    "xgb_model.fit(Xlf_train, ylf_train)\n",
    "\n",
    "# Prédictions\n",
    "rf_pred_train= rf_model.predict(Xlf_train)\n",
    "xgb_pred_train = xgb_model.predict(Xlf_train)\n",
    "rf_pred = rf_model.predict(Xlf_test)\n",
    "xgb_pred = xgb_model.predict(Xlf_test)\n",
    "\n",
    "# Calculer les métriques\n",
    "rf_rmse_train = np.sqrt(mean_squared_error(ylf_train, rf_pred_train))\n",
    "xgb_rmse_train = np.sqrt(mean_squared_error(ylf_train, xgb_pred_train))\n",
    "\n",
    "rf_rmse = np.sqrt(mean_squared_error(ylf_test, rf_pred))\n",
    "xgb_rmse = np.sqrt(mean_squared_error(ylf_test, xgb_pred))\n",
    "\n",
    "# Calcule de R²\n",
    "R2rf = r2_score(ylf_test, rf_pred)\n",
    "R2xg = r2_score(ylf_test, xgb_pred)\n",
    "\n",
    "print(f\"RMSE pour Random Forest train : {rf_rmse_train}\")\n",
    "print(f\"RMSE pour XGBoost train : {xgb_rmse_train}\")\n",
    "print(f\"RMSE pour Random Forest : {rf_rmse}\")\n",
    "print(f\"RMSE pour XGBoost : {xgb_rmse}\")\n",
    "print(f\"R² pour Random Forest : {R2rf}\")\n",
    "print(f\"R² pour XGBoost : {R2xg}\")"
   ]
  },
  {
   "cell_type": "code",
   "execution_count": null,
   "id": "c64439f8-f328-4482-b373-52f3113babb1",
   "metadata": {
    "id": "c64439f8-f328-4482-b373-52f3113babb1"
   },
   "outputs": [],
   "source": [
    "#la base avec les valeurs manquantes\n",
    "data_lf_with_na = data_merge[data_merge['load_forecast'].isna()]\n",
    "\n",
    "#definir les valeurs pour la prediction\n",
    "Xlf_predi= data_lf_with_na.drop(columns=['DELIVERY_START', 'load_forecast','predicted_spot_price'])"
   ]
  },
  {
   "cell_type": "code",
   "execution_count": null,
   "id": "f2ce8a0a-6aa7-4879-83be-70e2ec9357de",
   "metadata": {},
   "outputs": [],
   "source": [
    "xU = Xlf_predi.copy()"
   ]
  },
  {
   "cell_type": "code",
   "execution_count": null,
   "id": "d8ce0456-bd09-40d9-b817-fb1b544f4366",
   "metadata": {},
   "outputs": [],
   "source": [
    "# Appliquer le même scaler sur les données de test\n",
    "Xlf_predi = scaler.transform(Xlf_predi)"
   ]
  },
  {
   "cell_type": "code",
   "execution_count": null,
   "id": "76b64d7e-124d-450c-a3df-ae3ef3426306",
   "metadata": {
    "colab": {
     "base_uri": "https://localhost:8080/"
    },
    "id": "fe1948ac-0c96-4e58-8199-df6fccaeaef6",
    "outputId": "b11b0c5c-584f-4d48-edd5-d3441cbb178c"
   },
   "outputs": [],
   "source": [
    "# Remplir les valeurs manquantes dans le DataFrame d'origine\n",
    "data_merge.loc[data_merge['load_forecast'].isna(), 'load_forecast'] =xgb_model.predict(Xlf_predi)"
   ]
  },
  {
   "cell_type": "code",
   "execution_count": null,
   "id": "2a7e858c-cdba-476b-b5fa-d4edf6c95a25",
   "metadata": {},
   "outputs": [],
   "source": [
    "round((data_merge.isna().sum()/len(data_merge))*100,2)"
   ]
  },
  {
   "cell_type": "markdown",
   "id": "c7b8cbf0-90f5-4225-8172-6dacd5f90488",
   "metadata": {
    "id": "c7b8cbf0-90f5-4225-8172-6dacd5f90488"
   },
   "source": [
    "# Traitement de la variable predicted_spot_price"
   ]
  },
  {
   "cell_type": "code",
   "execution_count": null,
   "id": "119c1b6c-c53b-437d-b174-145ddba9bfc4",
   "metadata": {
    "colab": {
     "base_uri": "https://localhost:8080/",
     "height": 774
    },
    "id": "119c1b6c-c53b-437d-b174-145ddba9bfc4",
    "outputId": "13a1adc3-a4a4-4a7e-85de-e063f35c6a3d"
   },
   "outputs": [],
   "source": [
    "data_predspot = data_merge.dropna(subset=['predicted_spot_price'])\n",
    "\n",
    "round((data_predspot.isna().sum()/len(data_predspot))*100,2)"
   ]
  },
  {
   "cell_type": "code",
   "execution_count": null,
   "id": "ef607ea6-4438-4dd7-a43b-57622b9461fc",
   "metadata": {
    "id": "ef607ea6-4438-4dd7-a43b-57622b9461fc"
   },
   "outputs": [],
   "source": [
    "# Séparer la variable cible et les variables explicatives\n",
    "X_Spot_price_train = data_predspot.drop(columns=['predicted_spot_price', 'DELIVERY_START'])\n",
    "y_Spot_price_train = data_predspot['predicted_spot_price']\n",
    "\n",
    "# Séparer les données d'entraînement et de test\n",
    "Xsp_train, Xsp_test, ysp_train, ysp_test = train_test_split(X_Spot_price_train, y_Spot_price_train, test_size=0.1, random_state=42)"
   ]
  },
  {
   "cell_type": "code",
   "execution_count": null,
   "id": "42e3cc32-52b2-40ba-b924-73d3129aefb4",
   "metadata": {
    "id": "42e3cc32-52b2-40ba-b924-73d3129aefb4"
   },
   "outputs": [],
   "source": [
    "#Standadiser\n",
    "# Initialisation du scaler\n",
    "scaler = StandardScaler()\n",
    "\n",
    "# Appliquer le scaler sur les données d'entraînement\n",
    "Xsp_train = scaler.fit_transform(Xsp_train)\n",
    "\n",
    "# Appliquer le même scaler sur les données de test\n",
    "Xsp_test = scaler.transform(Xsp_test)"
   ]
  },
  {
   "cell_type": "code",
   "execution_count": null,
   "id": "230d562d-e3a3-46dc-9f94-3dab280fbebd",
   "metadata": {},
   "outputs": [],
   "source": [
    "# Initialisation du seed\n",
    "seed = 123\n",
    "\n",
    "# Initialisation du modèle avec des hyperparamètres ajustés\n",
    "rf_model_sp = RandomForestRegressor(\n",
    "    n_estimators=700,         # Augmenter le nombre d'arbres\n",
    "    #max_depth=50,             # Profondeur maximale des arbres\n",
    "    min_samples_split=2,      # Minimum d'échantillons pour diviser un nœud\n",
    "    min_samples_leaf=2,       # Minimum d'échantillons dans une feuille\n",
    "    max_features=\"sqrt\",      # Nombre de caractéristiques à considérer lors de la division\n",
    "    random_state=seed,\n",
    "    bootstrap=False,           # Tirage avec remise pour les échantillons\n",
    "                            # Utilisation de l'erreur quadratique moyenne (par défaut)\n",
    ")\n",
    "\n",
    "xgb_model_sp = XGBRegressor(\n",
    "   n_estimators=1000,  # Augmenter le nombre d'arbres\n",
    "    learning_rate=0.01,  # Taux d'apprentissage plus faible\n",
    "    #max_depth=50,        # Profondeur des arbres\n",
    "    min_child_weight=2,  # Poids minimum pour diviser\n",
    "    subsample=0.8,      # Utiliser 80% des échantillons pour chaque arbre\n",
    "    colsample_bytree=0.8,  # Utiliser 80% des caractéristiques pour chaque arbre\n",
    "    gamma=0.1,          # Régularisation pour réduire la complexité\n",
    "    random_state=seed\n",
    ")\n",
    "\n",
    "# Entraîner les modèles avec les données d'entraînement de Spot Price\n",
    "rf_model_sp.fit(Xsp_train, ysp_train)\n",
    "xgb_model_sp.fit(Xsp_train, ysp_train)\n",
    "\n",
    "# Prédictions avec les données de test de Spot Price\n",
    "rf_pred_sp = rf_model_sp.predict(Xsp_test)\n",
    "xgb_pred_sp = xgb_model_sp.predict(Xsp_test)\n",
    "\n",
    "rf_pred_sp_train= rf_model_sp.predict(Xsp_train)\n",
    "xgb_pred_sp_train = xgb_model_sp.predict(Xsp_train)\n",
    "\n",
    "# Calculer les métriques (RMSE)\n",
    "rf_rmse_sp = np.sqrt(mean_squared_error(ysp_test, rf_pred_sp))\n",
    "xgb_rmse_sp = np.sqrt(mean_squared_error(ysp_test, xgb_pred_sp))\n",
    "\n",
    "rf_rmse_sp_train = np.sqrt(mean_squared_error(ysp_train, rf_pred_sp_train))\n",
    "xgb_rmse_sp_train = np.sqrt(mean_squared_error(ysp_train, xgb_pred_sp_train))\n",
    "\n",
    "# Calculer le R²\n",
    "R2rf_sp = r2_score(ysp_test, rf_pred_sp)\n",
    "R2xg_sp = r2_score(ysp_test, xgb_pred_sp)\n",
    "\n",
    "# Afficher les résultats\n",
    "print(f\"RMSE pour Random Forest train : {rf_rmse_sp_train}\")\n",
    "print(f\"RMSE pour Random Forest : {rf_rmse_sp}\")\n",
    "print(f\"RMSE pour XGBoost : {xgb_rmse_sp}\")\n",
    "print(f\"RMSE pour XGBoost train  : {xgb_rmse_sp_train}\")\n",
    "print(f\"R² pour Random Forest : {R2rf_sp}\")\n",
    "print(f\"R² pour XGBoost : {R2xg_sp}\")"
   ]
  },
  {
   "cell_type": "code",
   "execution_count": null,
   "id": "77ac670f-9675-47b8-b552-b740640e53eb",
   "metadata": {
    "id": "77ac670f-9675-47b8-b552-b740640e53eb"
   },
   "outputs": [],
   "source": [
    "#la base avec les valeurs manquantes\n",
    "data_sp_with_na = data_merge[data_merge['predicted_spot_price'].isna()]\n",
    "\n",
    "#definir les valeurs pour la prediction\n",
    "Xsp_predi= data_sp_with_na.drop(columns=['DELIVERY_START','predicted_spot_price'])"
   ]
  },
  {
   "cell_type": "code",
   "execution_count": null,
   "id": "c121862f-17c4-4e92-9d88-549c425008ec",
   "metadata": {},
   "outputs": [],
   "source": [
    "Xui = Xsp_predi.copy()"
   ]
  },
  {
   "cell_type": "code",
   "execution_count": null,
   "id": "9135fb6e-4f26-43e7-911a-fa402d5925fd",
   "metadata": {},
   "outputs": [],
   "source": [
    "#Standadiser\n",
    "# Initialisation du scaler\n",
    "scale = StandardScaler()\n",
    "# Appliquer le même scaler sur les données de test\n",
    "Xsp_predi = scale.fit_transform(Xsp_predi)"
   ]
  },
  {
   "cell_type": "code",
   "execution_count": null,
   "id": "e6e268c4-06d6-4d41-9a02-c852371f89ac",
   "metadata": {
    "colab": {
     "base_uri": "https://localhost:8080/"
    },
    "id": "1d1f9ed8-e2f8-4473-8a36-6be7ae0ad8db",
    "outputId": "51d17a98-33f9-4105-9b96-196289816f63"
   },
   "outputs": [],
   "source": [
    "# Remplir les valeurs manquantes dans le DataFrame d'origine\n",
    "data_merge.loc[data_merge['predicted_spot_price'].isna(), 'predicted_spot_price'] =xgb_model_sp.predict(Xsp_predi)"
   ]
  },
  {
   "cell_type": "code",
   "execution_count": null,
   "id": "d7491ee4-9e40-4d36-bf7b-4bd54051d6ca",
   "metadata": {
    "colab": {
     "base_uri": "https://localhost:8080/",
     "height": 774
    },
    "id": "d7491ee4-9e40-4d36-bf7b-4bd54051d6ca",
    "outputId": "f052c500-00f8-484e-c4bb-4e881e65a74f"
   },
   "outputs": [],
   "source": [
    "round((data_merge.isna().sum()/len(data_merge))*100,2)"
   ]
  },
  {
   "cell_type": "code",
   "execution_count": null,
   "id": "cad7d768-a1e4-4cb9-bb8f-6e083386cd8d",
   "metadata": {},
   "outputs": [],
   "source": [
    "data_merge.describe()"
   ]
  },
  {
   "cell_type": "code",
   "execution_count": null,
   "id": "9567ea95-6c22-4754-ba95-eda7d1e6bc97",
   "metadata": {},
   "outputs": [],
   "source": [
    "plt.figure(figsize=(12, 6))\n",
    "plt.plot(data_merge['DELIVERY_START'], data_merge['predicted_spot_price'], linestyle='-')\n",
    "#plt.axvline(x=pd.to_datetime('2022-07-26 20:00:00+00:00'), color='r', linestyle='--', label='Valeur extrême')\n",
    "plt.title('Évolution de predicted_spot_price ')\n",
    "plt.xlabel('Date')\n",
    "plt.ylabel('predicted_spot_price')\n",
    "plt.legend()\n",
    "plt.grid()\n",
    "plt.show()"
   ]
  },
  {
   "cell_type": "code",
   "execution_count": null,
   "id": "a61bb58a-9be6-49d3-a823-7b8d3eb4b885",
   "metadata": {},
   "outputs": [],
   "source": [
    "date_range"
   ]
  },
  {
   "cell_type": "markdown",
   "id": "28ab7c05-6125-4ced-8661-42f6d0ba1bfc",
   "metadata": {
    "id": "28ab7c05-6125-4ced-8661-42f6d0ba1bfc"
   },
   "source": [
    "# la variable spot_id_delta"
   ]
  },
  {
   "cell_type": "code",
   "execution_count": null,
   "id": "aa5ea983-3829-4d6d-b619-89ed6bc4000e",
   "metadata": {},
   "outputs": [],
   "source": [
    "def create_lags(df, columns, lag_periods, rolling_windows=[6, 12, 24]):\n",
    "    # Créer les lags\n",
    "    for col in columns:\n",
    "        for lag in lag_periods:\n",
    "            df[f'{col}_lag_{lag}'] = df[col].shift(lag)\n",
    "    \n",
    "    # Appliquer les moyennes mobiles et écarts-types sur les colonnes spécifiées\n",
    "    for col in columns:\n",
    "        for window in rolling_windows:\n",
    "            df[f'{col}_rolling_mean_{window}'] = df[col].rolling(window=window).mean()\n",
    "            df[f'{col}_rolling_std_{window}'] = df[col].rolling(window=window).std()\n",
    "\n",
    "    # Appliquer l'interpolation pour remplir les NaN créés par les lags et les rolling\n",
    "    df = df.interpolate(method='linear', axis=0)\n",
    "    \n",
    "    # Remplir les NaN restants avec 'bfill' ou 'ffill'\n",
    "    df = df.bfill()  # Remplir les NaN avec la valeur suivante dans la colonne\n",
    "    df = df.ffill()  # Remplir les NaN restants avec la valeur précédente dans la colonne\n",
    "\n",
    "    return df\n"
   ]
  },
  {
   "cell_type": "code",
   "execution_count": null,
   "id": "a444332f-8b72-4d27-8b96-1763e26f2784",
   "metadata": {},
   "outputs": [],
   "source": [
    "# Variables pour lesquelles créer des lags\n",
    "\"columns_to_lag = ['predicted_spot_price', 'load_forecast', 'coal_power_available', \n",
    "                  'gas_power_available', 'nucelear_power_available', \n",
    "                  'wind_power_forecasts_average', 'solar_power_forecasts_average']\""
   ]
  },
  {
   "cell_type": "code",
   "execution_count": null,
   "id": "eed14c51-26fd-4166-b881-7b4982dfbb5c",
   "metadata": {},
   "outputs": [],
   "source": [
    "columns_to_lag = ['predicted_spot_price', 'load_forecast', 'prod_solaire_MWh','Consommation (MW)','prod_eolienne_MWh','coal_power_available']\n",
    "\n",
    "# Périodes de lags horaires (par exemple 1 heure, 2 heures, 3 heures)\n",
    "lag_periods = [6, 12, 24]  # Tu peux aussi augmenter ces valeurs\n",
    "\n",
    "# Appliquer la fonction pour créer les lags\n",
    "df_with_lags = create_lags(data_merge, columns_to_lag, lag_periods)"
   ]
  },
  {
   "cell_type": "code",
   "execution_count": null,
   "id": "d50bbc8d-3859-4ec7-8e97-da8c6a10404c",
   "metadata": {
    "id": "d50bbc8d-3859-4ec7-8e97-da8c6a10404c"
   },
   "outputs": [],
   "source": [
    "# Séparer la variable cible et les variables explicatives\n",
    "X_Spot_delta_train = df_with_lags.drop(columns=['spot_id_delta', 'DELIVERY_START'])\n",
    "y_Spot_delta_train = df_with_lags['spot_id_delta']\n",
    "\n",
    "# Séparer les données d'entraînement et de test\n",
    "Xdel_train, Xdel_test, ydel_train, ydel_test = train_test_split(X_Spot_delta_train, y_Spot_delta_train, test_size=0.1, random_state=42)"
   ]
  },
  {
   "cell_type": "code",
   "execution_count": null,
   "id": "d5ce3ae3-af51-462e-9202-829d0076ae59",
   "metadata": {},
   "outputs": [],
   "source": [
    "X_Spot_delta_train.info()"
   ]
  },
  {
   "cell_type": "code",
   "execution_count": null,
   "id": "1464672d-810a-4191-916e-338a0702a6d3",
   "metadata": {
    "id": "d50bbc8d-3859-4ec7-8e97-da8c6a10404c"
   },
   "outputs": [],
   "source": [
    "# Séparer la variable cible et les variables explicatives\n",
    "X_Spot_delta_train = data_merge.drop(columns=['spot_id_delta', 'DELIVERY_START'])\n",
    "y_Spot_delta_train = data_merge['spot_id_delta']\n",
    "\n",
    "# Séparer les données d'entraînement et de test\n",
    "Xdel_train, Xdel_test, ydel_train, ydel_test = train_test_split(X_Spot_delta_train, y_Spot_delta_train, test_size=0.1, random_state=42)"
   ]
  },
  {
   "cell_type": "code",
   "execution_count": null,
   "id": "ae15692a-86f5-4514-a028-e2227ecb3592",
   "metadata": {
    "id": "ae15692a-86f5-4514-a028-e2227ecb3592"
   },
   "outputs": [],
   "source": [
    "#Standadiser\n",
    "# Initialisation du scaler\n",
    "scaler = StandardScaler()\n",
    "\n",
    "# Appliquer le scaler sur les données d'entraînement\n",
    "Xdel_train = scaler.fit_transform(Xdel_train)\n",
    "\n",
    "# Appliquer le même scaler sur les données de test\n",
    "Xdel_test = scaler.transform(Xdel_test)"
   ]
  },
  {
   "cell_type": "code",
   "execution_count": null,
   "id": "9b83c1ee-9d11-4c97-816a-b6a51829234d",
   "metadata": {},
   "outputs": [],
   "source": [
    "df_with_lags.info()"
   ]
  },
  {
   "cell_type": "code",
   "execution_count": null,
   "id": "38baac4d-ee0b-40b7-81a6-037c3d914703",
   "metadata": {},
   "outputs": [],
   "source": [
    "# Initialisation du seed\n",
    "seed = 123\n",
    "\n",
    "# Initialisation du modèle avec des hyperparamètres ajustés\n",
    "rf_model_del = RandomForestRegressor(\n",
    "    n_estimators= 2000,         # Augmenter le nombre d'arbres\n",
    "                # Profondeur maximale des arbres\n",
    "    min_samples_split=4,      # Minimum d'échantillons pour diviser un nœud\n",
    "    min_samples_leaf=2,       # Minimum d'échantillons dans une feuille\n",
    "    max_features=20,      # Nombre de caractéristiques à considérer lors de la division\n",
    "    random_state=seed,\n",
    "    bootstrap=False,           # Tirage avec remise pour les échantillons\n",
    "                            # Utilisation de l'erreur quadratique moyenne (par défaut)\n",
    ")\n",
    "\n",
    "xgb_model_del = XGBRegressor(\n",
    "    n_estimators=700,  # Augmenter le nombre d'arbres\n",
    "    learning_rate=0.01,  # Taux d'apprentissage plus faible\n",
    "    #max_depth=50,        # Profondeur des arbres\n",
    "    min_child_weight=2,  # Poids minimum pour diviser\n",
    "    subsample=0.8,      # Utiliser 80% des échantillons pour chaque arbre\n",
    "    colsample_bytree=0.8,  # Utiliser 80% des caractéristiques pour chaque arbre\n",
    "    gamma=0.1,          # Régularisation pour réduire la complexité\n",
    "    random_state=seed\n",
    ")\n",
    "\n",
    "# Entraîner les modèles avec les données d'entraînement de Spot Delta\n",
    "rf_model_del.fit(Xdel_train, ydel_train)\n",
    "xgb_model_del.fit(Xdel_train, ydel_train)\n",
    "\n",
    "# Prédictions avec les données de test de Spot Delta\n",
    "rf_pred_del = rf_model_del.predict(Xdel_test)\n",
    "xgb_pred_del = xgb_model_del.predict(Xdel_test)\n",
    "\n",
    "rf_pred_del_train = rf_model_del.predict(Xdel_train)\n",
    "xgb_pred_del_train = xgb_model_del.predict(Xdel_train)\n",
    "\n",
    "# Calculer les métriques (RMSE)\n",
    "rf_rmse_del = np.sqrt(mean_squared_error(ydel_test, rf_pred_del))\n",
    "xgb_rmse_del = np.sqrt(mean_squared_error(ydel_test, xgb_pred_del))\n",
    "\n",
    "rf_rmse_del_train = np.sqrt(mean_squared_error(ydel_train, rf_pred_del_train))\n",
    "xgb_rmse_del_train = np.sqrt(mean_squared_error(ydel_train, xgb_pred_del_train))\n",
    "\n",
    "# Calculer le R²\n",
    "R2rf_del = r2_score(ydel_test, rf_pred_del)\n",
    "R2xg_del = r2_score(ydel_test, xgb_pred_del)\n",
    "\n",
    "# Afficher les résultats\n",
    "print(f\"RMSE pour Random Forest (Spot Delta) train  : {rf_rmse_del_train}\")\n",
    "print(f\"RMSE pour Random Forest (Spot Delta) : {rf_rmse_del}\")\n",
    "print(f\"RMSE pour XGBoost (Spot Delta) train  : {xgb_rmse_del_train}\")\n",
    "print(f\"RMSE pour XGBoost (Spot Delta) : {xgb_rmse_del}\")\n",
    "print(f\"R² pour Random Forest (Spot Delta) : {R2rf_del}\")\n",
    "print(f\"R² pour XGBoost (Spot Delta) : {R2xg_del}\")\n"
   ]
  },
  {
   "cell_type": "code",
   "execution_count": null,
   "id": "fe2e886b-f130-40ec-8731-a135b6514760",
   "metadata": {},
   "outputs": [],
   "source": [
    "importances = rf_model_del.feature_importances_"
   ]
  },
  {
   "cell_type": "code",
   "execution_count": null,
   "id": "9894f804-35fa-4b25-8ec7-d1aa6cce6b34",
   "metadata": {},
   "outputs": [],
   "source": [
    "# Créez un DataFrame pour les importances\n",
    "importance_df = pd.DataFrame({\n",
    "    'Feature': X_Spot_delta_train.columns,\n",
    "    'Importance': importances\n",
    "})\n",
    "\n",
    "# Triez les variables par importance\n",
    "importance_df = importance_df.sort_values(by='Importance', ascending=False)\n",
    "importance_df.head(20)"
   ]
  },
  {
   "cell_type": "code",
   "execution_count": null,
   "id": "ae54946a-c481-477c-a44d-ad2cc54e6ee6",
   "metadata": {},
   "outputs": [],
   "source": [
    "# Affichez un graphique des importances\n",
    "plt.figure(figsize=(10, 8))\n",
    "plt.barh(importance_df['Feature'], importance_df['Importance'])\n",
    "plt.xlabel(\"Importance\")\n",
    "plt.ylabel(\"Variables\")\n",
    "plt.title(\"Importance des variables dans le modèle de forêt aléatoire\")\n",
    "plt.gca().invert_yaxis()  # Inverse l'ordre pour que la variable la plus importante soit en haut\n",
    "plt.show()"
   ]
  },
  {
   "cell_type": "code",
   "execution_count": null,
   "id": "82799954-96b8-4d38-bc4e-0688ecc1cdde",
   "metadata": {},
   "outputs": [],
   "source": [
    "import numpy as np\n",
    "import pandas as pd\n",
    "import matplotlib.pyplot as plt\n",
    "from sklearn.tree import DecisionTreeRegressor\n",
    "\n",
    "# Exemple : Ajustez un modèle CART sur les données d’entraînement\n",
    "cart_model = DecisionTreeRegressor(random_state=0)\n",
    "cart_model.fit(X_train, y_train)\n",
    "\n",
    "# Récupérez l'importance des variables\n",
    "importances = cart_model.feature_importances_\n",
    "\n",
    "# Convertir en DataFrame pour plus de lisibilité\n",
    "importance_df = pd.DataFrame({\n",
    "    'Feature': X_train.columns,\n",
    "    'Importance': importances\n",
    "}).sort_values(by='Importance', ascending=False)\n",
    "\n",
    "# Définir un seuil pour éliminer les variables\n",
    "# Par exemple, on garde les variables avec une importance supérieure à 1% de la somme des importances\n",
    "threshold = 0.01 * np.sum(importances)\n",
    "\n",
    "# Plot des importances des variables\n",
    "plt.figure(figsize=(12, 8))\n",
    "\n",
    "# Tracer l'estimation des importances avec une ligne continue\n",
    "plt.plot(importance_df['Feature'], importance_df['Importance'], label='CART estimation', linewidth=2)\n",
    "\n",
    "# Tracer la ligne pointillée correspondant à l’importance de chaque variable\n",
    "plt.plot(importance_df['Feature'], importance_df['Importance'], 'o', linestyle='dotted', label='Importance par variable')\n",
    "\n",
    "# Tracer la ligne horizontale pour le seuil d'élimination\n",
    "plt.axhline(y=threshold, color='red', linestyle='--', label=f'Seuil d\\'élimination : {threshold:.4f}')\n",
    "\n",
    "plt.xlabel(\"Variables\")\n",
    "plt.ylabel(\"Importance\")\n",
    "plt.title(\"Importance des variables avec seuil d'élimination (zoom)\")\n",
    "plt.legend()\n",
    "\n",
    "# Zoom sur les variables avec faible importance (optionnel)\n",
    "plt.ylim(0, threshold * 2)  # Ajustez le zoom pour mettre en évidence les variables proches du seuil\n",
    "plt.xticks(rotation=90)\n",
    "plt.show()\n"
   ]
  },
  {
   "cell_type": "markdown",
   "id": "58bd8bf1-8ff7-41af-baee-9f9ff4b31a75",
   "metadata": {
    "id": "58bd8bf1-8ff7-41af-baee-9f9ff4b31a75"
   },
   "source": [
    "# Traitement de la base X_test"
   ]
  },
  {
   "cell_type": "code",
   "execution_count": null,
   "id": "c99dec02-ae47-4e77-95d9-ce1336851c2e",
   "metadata": {},
   "outputs": [],
   "source": [
    "X_test = pd.read_csv(\"X_test_added.csv\",sep=\",\")\n",
    "X_test['DELIVERY_START'] = pd.to_datetime(X_test['DELIVERY_START'])\n",
    "X_test=create_variable_temporelle(X_test)"
   ]
  },
  {
   "cell_type": "code",
   "execution_count": null,
   "id": "2f56c081-c5ad-40c8-8459-80e49f272f35",
   "metadata": {},
   "outputs": [],
   "source": [
    "X_test.info()"
   ]
  },
  {
   "cell_type": "code",
   "execution_count": null,
   "id": "fe0f713e-82f4-4bdf-ad9b-b81d01b1401b",
   "metadata": {
    "id": "d027f984-4076-4bc6-9fe2-0129aef2b84e"
   },
   "outputs": [],
   "source": [
    "# Sélectionner les colonnes à imputer\n",
    "columns_to_impute_test = ['solar_power_forecasts_average','solar_power_forecasts_std']\n",
    "# Imputer les colonnes spécifiées\n",
    "X_test[columns_to_impute_test] = imputer.fit_transform(X_test[columns_to_impute_test])"
   ]
  },
  {
   "cell_type": "code",
   "execution_count": null,
   "id": "e3474f96-6475-4655-848a-fcc48694c73e",
   "metadata": {},
   "outputs": [],
   "source": [
    "round((X_test.isna().sum()/len(X_test))*100,2)"
   ]
  },
  {
   "cell_type": "code",
   "execution_count": null,
   "id": "056df50d-c15e-47a9-9428-d7bbce5c627e",
   "metadata": {
    "id": "056df50d-c15e-47a9-9428-d7bbce5c627e"
   },
   "outputs": [],
   "source": [
    "data_predspot_test = X_test.dropna(subset=['predicted_spot_price'])"
   ]
  },
  {
   "cell_type": "code",
   "execution_count": null,
   "id": "1699092f-b6b1-4edd-83f5-c5b4881bc6a5",
   "metadata": {
    "id": "1699092f-b6b1-4edd-83f5-c5b4881bc6a5"
   },
   "outputs": [],
   "source": [
    "# Séparer la variable cible et les variables explicatives\n",
    "X_Spot_test_train = data_predspot_test.drop(columns=['predicted_spot_price', 'DELIVERY_START'])\n",
    "y_Spot_test_train = data_predspot_test['predicted_spot_price']\n",
    "\n",
    "# Séparer les données d'entraînement et de test\n",
    "Xsptest_train, Xsptest_test, ysptest_train, ysptest_test = train_test_split(X_Spot_test_train, y_Spot_test_train, test_size=0.1, random_state=42)"
   ]
  },
  {
   "cell_type": "code",
   "execution_count": null,
   "id": "0cbc771e-8f3f-4c5e-814d-0b01ec17cd54",
   "metadata": {
    "id": "0cbc771e-8f3f-4c5e-814d-0b01ec17cd54"
   },
   "outputs": [],
   "source": [
    "#Standadiser\n",
    "\n",
    "# Appliquer le scaler sur les données d'entraînement\n",
    "Xsptest_train = scaler.fit_transform(Xsptest_train)\n",
    "\n",
    "# Appliquer le même scaler sur les données de test\n",
    "Xsptest_test = scaler.transform(Xsptest_test)"
   ]
  },
  {
   "cell_type": "code",
   "execution_count": null,
   "id": "1f55454f-d06f-4fc6-8886-677b196f615b",
   "metadata": {},
   "outputs": [],
   "source": [
    "# Initialisation du seed\n",
    "seed = 123\n",
    "\n",
    "# Initialisation du modèle RandomForestRegressor avec des hyperparamètres ajustés\n",
    "rf_model_xt = RandomForestRegressor(\n",
    "    n_estimators=700,         # Augmenter le nombre d'arbres\n",
    "    #max_depth=50,             # Profondeur maximale des arbres\n",
    "    min_samples_split=2,      # Minimum d'échantillons pour diviser un nœud\n",
    "    min_samples_leaf=2,       # Minimum d'échantillons dans une feuille\n",
    "    max_features=\"sqrt\",      # Nombre de caractéristiques à considérer lors de la division\n",
    "    random_state=seed,\n",
    "    bootstrap=False,         \n",
    ")\n",
    "\n",
    "# Initialisation du modèle XGBRegressor avec des hyperparamètres ajustés\n",
    "xgb_model_xt = XGBRegressor(\n",
    "    n_estimators=1000,  # Augmenter le nombre d'arbres\n",
    "    learning_rate=0.01,  # Taux d'apprentissage plus faible\n",
    "    #max_depth=50,        # Profondeur des arbres\n",
    "    min_child_weight=2,  # Poids minimum pour diviser\n",
    "    subsample=0.8,      # Utiliser 80% des échantillons pour chaque arbre\n",
    "    colsample_bytree=0.8,  # Utiliser 80% des caractéristiques pour chaque arbre\n",
    "    gamma=0.1,          # Régularisation pour réduire la complexité\n",
    "    random_state=seed\n",
    ")\n",
    "\n",
    "# Entraîner les modèles avec les données d'entraînement de Spot Delta (données X_Spot_test_train)\n",
    "rf_model_xt.fit(Xsptest_train, ysptest_train)\n",
    "xgb_model_xt.fit(Xsptest_train, ysptest_train)\n",
    "\n",
    "# Prédictions avec les données de test\n",
    "rf_pred_xt_train = rf_model_xt.predict(Xsptest_train)\n",
    "xgb_pred_xt_train = xgb_model_xt.predict(Xsptest_train)\n",
    "\n",
    "rf_pred_xt = rf_model_xt.predict(Xsptest_test)\n",
    "xgb_pred_xt = xgb_model_xt.predict(Xsptest_test)\n",
    "\n",
    "# Calculer les métriques (RMSE)\n",
    "rf_rmse_xt_train = np.sqrt(mean_squared_error(ysptest_train, rf_pred_xt_train))\n",
    "xgb_rmse_xt_train = np.sqrt(mean_squared_error(ysptest_train, xgb_pred_xt_train))\n",
    "\n",
    "rf_rmse_xt = np.sqrt(mean_squared_error(ysptest_test, rf_pred_xt))\n",
    "xgb_rmse_xt = np.sqrt(mean_squared_error(ysptest_test, xgb_pred_xt))\n",
    "\n",
    "# Calculer le R²\n",
    "R2rf_xt = r2_score(ysptest_test, rf_pred_xt)\n",
    "R2xg_xt = r2_score(ysptest_test, xgb_pred_xt)\n",
    "\n",
    "# Afficher les résultats\n",
    "print(f\"RMSE pour Random Forest (Spot Delta) train: {rf_rmse_xt_train}\")\n",
    "print(f\"RMSE pour Random Forest (Spot Delta) : {rf_rmse_xt}\")\n",
    "print(f\"RMSE pour XGBoost (Spot Delta) train : {xgb_rmse_xt_train}\")\n",
    "print(f\"RMSE pour XGBoost (Spot Delta) : {xgb_rmse_xt}\")\n",
    "print(f\"R² pour Random Forest (Spot Delta) : {R2rf_xt}\")\n",
    "print(f\"R² pour XGBoost (Spot Delta) : {R2xg_xt}\")\n"
   ]
  },
  {
   "cell_type": "code",
   "execution_count": null,
   "id": "f44db931-0ef6-444c-aa6c-963cd5e633d6",
   "metadata": {
    "id": "f44db931-0ef6-444c-aa6c-963cd5e633d6"
   },
   "outputs": [],
   "source": [
    "#la base avec les valeurs manquantes\n",
    "data_sp_test_with_na = X_test[X_test['predicted_spot_price'].isna()]\n",
    "\n",
    "#definir les valeurs pour la prediction\n",
    "Xsp_test_predi= data_sp_test_with_na.drop(columns=['DELIVERY_START','predicted_spot_price'])"
   ]
  },
  {
   "cell_type": "code",
   "execution_count": null,
   "id": "e2976190-b19b-40aa-8cb6-f950ccb4bc7a",
   "metadata": {},
   "outputs": [],
   "source": [
    "#Standadiser\n",
    "# Initialisation du scaler\n",
    "scaler = StandardScaler()\n",
    "# Appliquer le même scaler sur les données de test\n",
    "Xsp_test_predi = scaler.fit_transform(Xsp_test_predi)"
   ]
  },
  {
   "cell_type": "code",
   "execution_count": null,
   "id": "ead10068-bec2-4ba3-a294-b4bca5735236",
   "metadata": {
    "colab": {
     "base_uri": "https://localhost:8080/",
     "height": 445
    },
    "id": "2ca13cd1-0675-483b-8001-045d8f2e3d2a",
    "outputId": "1cbdd8b5-ea8b-4ccf-bf4f-ae76c6a3ef74"
   },
   "outputs": [],
   "source": [
    "# Remplir les valeurs manquantes dans le DataFrame d'origine\n",
    "X_test.loc[X_test['predicted_spot_price'].isna(), 'predicted_spot_price'] =xgb_model_xt.predict(Xsp_test_predi)"
   ]
  },
  {
   "cell_type": "markdown",
   "id": "91485d1f-66ac-4ca2-8ca2-b9a88aa797a7",
   "metadata": {},
   "source": [
    "Charger le X_test"
   ]
  },
  {
   "cell_type": "code",
   "execution_count": null,
   "id": "c0dd6d43-0c4d-44b0-83c8-ddb938b1fca2",
   "metadata": {},
   "outputs": [],
   "source": [
    "# Variables pour lesquelles créer des lags\n",
    "columns_to_lag = ['predicted_spot_price', 'load_forecast', 'coal_power_available', \n",
    "                  'gas_power_available', 'nucelear_power_available', \n",
    "                  'wind_power_forecasts_average', 'solar_power_forecasts_average']\n",
    "\n",
    "# Périodes de lags horaires (par exemple 1 heure, 2 heures, 3 heures)\n",
    "lag_periods = [1,2,3,4,5,6,9, 12,24]  # Tu peux aussi augmenter ces valeurs\n",
    "\n",
    "# Appliquer la fonction pour créer les lags\n",
    "X_test_lags = create_lags(X_test, columns_to_lag, lag_periods)"
   ]
  },
  {
   "cell_type": "code",
   "execution_count": null,
   "id": "2cba199e-c8d4-4c91-943e-a334a583ff22",
   "metadata": {},
   "outputs": [],
   "source": [
    "X_test.info()"
   ]
  },
  {
   "cell_type": "code",
   "execution_count": null,
   "id": "7a80190f-be40-4dc7-a3e7-c2f8b819bbfa",
   "metadata": {},
   "outputs": [],
   "source": [
    "Xsp_test = scaler.fit_transform(X_test_lags.drop(columns=['DELIVERY_START']))"
   ]
  },
  {
   "cell_type": "code",
   "execution_count": null,
   "id": "e103e9f5-8266-4d44-9a14-614c72b3b004",
   "metadata": {},
   "outputs": [],
   "source": [
    "Xsp_test = scaler.fit_transform(X_test.drop(columns=['DELIVERY_START']))"
   ]
  },
  {
   "cell_type": "code",
   "execution_count": null,
   "id": "d23cd47f-0f38-4b45-8d60-85cf5dc01c57",
   "metadata": {
    "colab": {
     "base_uri": "https://localhost:8080/"
    },
    "id": "5d51b52d-8a4f-42b3-a76f-1257260041ca",
    "outputId": "39613ee2-473c-4e57-f4c9-b37e68d26fda"
   },
   "outputs": [],
   "source": [
    "y_test_pred=xgb_model_del.predict(Xsp_test)"
   ]
  },
  {
   "cell_type": "code",
   "execution_count": null,
   "id": "1d7c26c4-cd35-479e-b79a-51c610952eaf",
   "metadata": {},
   "outputs": [],
   "source": [
    "d_test = pd.read_csv(\"X_test.csv\",sep=\",\")"
   ]
  },
  {
   "cell_type": "code",
   "execution_count": null,
   "id": "76678c1b-7960-45a1-a602-5ae679026f5b",
   "metadata": {},
   "outputs": [],
   "source": [
    "resultat_test = pd.DataFrame({\n",
    "    'DELIVERY_START': X_test['DELIVERY_START'],  # Assuming this column exists\n",
    "    'spot_id_delta': y_test_pred\n",
    "})"
   ]
  },
  {
   "cell_type": "code",
   "execution_count": null,
   "id": "94c53a1f-b790-455e-b619-b00b8111188e",
   "metadata": {},
   "outputs": [],
   "source": [
    "resultat_tes = pd.DataFrame({\n",
    "    'DELIVERY_START': d_test['DELIVERY_START'],  # Assuming this column exists\n",
    "    'spot_id_delta': y_test_pred\n",
    "})"
   ]
  },
  {
   "cell_type": "code",
   "execution_count": null,
   "id": "b5424d76-e190-48ac-9c18-7cd631c09e4b",
   "metadata": {
    "colab": {
     "base_uri": "https://localhost:8080/",
     "height": 363
    },
    "id": "b5424d76-e190-48ac-9c18-7cd631c09e4b",
    "outputId": "1ef19ecf-dbc7-4eed-dc19-1c581998d3d8"
   },
   "outputs": [],
   "source": [
    "resultat_test.tail(10)"
   ]
  },
  {
   "cell_type": "code",
   "execution_count": null,
   "id": "e4cd3e9e-9055-425c-95af-f74a6191a77a",
   "metadata": {
    "id": "e4cd3e9e-9055-425c-95af-f74a6191a77a"
   },
   "outputs": [],
   "source": [
    "#Save the results to a CSV file\n",
    "resultat_test.to_csv('Awith.csv', index=False)"
   ]
  },
  {
   "cell_type": "code",
   "execution_count": null,
   "id": "78151c5e-25d2-4b8e-9547-c82137fff716",
   "metadata": {
    "colab": {
     "base_uri": "https://localhost:8080/",
     "height": 300
    },
    "id": "78151c5e-25d2-4b8e-9547-c82137fff716",
    "outputId": "31317bd1-b290-4641-cc3a-2e83f546f3b4"
   },
   "outputs": [],
   "source": [
    "resultat_tes.describe()"
   ]
  },
  {
   "cell_type": "code",
   "execution_count": null,
   "id": "ca619c24-5905-4a8c-b20b-5f3d7fb726d3",
   "metadata": {
    "id": "ca619c24-5905-4a8c-b20b-5f3d7fb726d3"
   },
   "outputs": [],
   "source": [
    "resultat_tes.head()"
   ]
  },
  {
   "cell_type": "code",
   "execution_count": null,
   "id": "fbd5a356-8fff-4755-ae7f-3f514a0a7cf8",
   "metadata": {
    "id": "fbd5a356-8fff-4755-ae7f-3f514a0a7cf8"
   },
   "outputs": [],
   "source": [
    "resultat_tes.shape"
   ]
  },
  {
   "cell_type": "code",
   "execution_count": null,
   "id": "6e26bed3-2aca-48f1-a0cb-a702c525c2f4",
   "metadata": {},
   "outputs": [],
   "source": [
    "#Save the results to a CSV file\n",
    "resultat_tes.to_csv('N11_11.csv', index=False)"
   ]
  },
  {
   "cell_type": "code",
   "execution_count": null,
   "id": "cdfb7b29-8b05-45d1-acd9-5bdd601f0518",
   "metadata": {},
   "outputs": [],
   "source": []
  }
 ],
 "metadata": {
  "colab": {
   "provenance": []
  },
  "kernelspec": {
   "display_name": "Python 3 (ipykernel)",
   "language": "python",
   "name": "python3"
  },
  "language_info": {
   "codemirror_mode": {
    "name": "ipython",
    "version": 3
   },
   "file_extension": ".py",
   "mimetype": "text/x-python",
   "name": "python",
   "nbconvert_exporter": "python",
   "pygments_lexer": "ipython3",
   "version": "3.12.4"
  },
  "widgets": {
   "application/vnd.jupyter.widget-state+json": {
    "state": {},
    "version_major": 2,
    "version_minor": 0
   }
  }
 },
 "nbformat": 4,
 "nbformat_minor": 5
}
